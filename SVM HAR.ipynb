{
 "cells": [
  {
   "cell_type": "code",
   "execution_count": 1,
   "metadata": {
    "_cell_guid": "b1076dfc-b9ad-4769-8c92-a6c4dae69d19",
    "_uuid": "8f2839f25d086af736a60e9eeb907d3b93b6e0e5",
    "execution": {
     "iopub.execute_input": "2023-02-26T15:25:35.195883Z",
     "iopub.status.busy": "2023-02-26T15:25:35.195375Z",
     "iopub.status.idle": "2023-02-26T15:25:35.247609Z",
     "shell.execute_reply": "2023-02-26T15:25:35.24591Z",
     "shell.execute_reply.started": "2023-02-26T15:25:35.195782Z"
    }
   },
   "outputs": [],
   "source": [
    "# This Python 3 environment comes with many helpful analytics libraries installed\n",
    "# It is defined by the kaggle/python Docker image: https://github.com/kaggle/docker-python\n",
    "# For example, here's several helpful packages to load\n",
    "\n",
    "import numpy as np # linear algebra\n",
    "import pandas as pd # data processing, CSV file I/O (e.g. pd.read_csv)\n",
    "from sklearn.metrics import accuracy_score,recall_score,precision_score,f1_score\n",
    "from sklearn.metrics import confusion_matrix\n",
    "# Input data files are available in the read-only \"../input/\" directory\n",
    "# For example, running this (by clicking run or pressing Shift+Enter) will list all files under the input directory\n",
    "\n",
    "\n",
    "# You can write up to 20GB to the current directory (/kaggle/working/) that gets preserved as output when you create a version using \"Save & Run All\" \n",
    "# You can also write temporary files to /kaggle/temp/, but they won't be saved outside of the current session"
   ]
  },
  {
   "cell_type": "markdown",
   "metadata": {},
   "source": [
    "# Build SVM model with various kernels and select best kernel for given dataset."
   ]
  },
  {
   "cell_type": "code",
   "execution_count": 2,
   "metadata": {
    "execution": {
     "iopub.execute_input": "2023-02-26T15:25:35.250091Z",
     "iopub.status.busy": "2023-02-26T15:25:35.249719Z",
     "iopub.status.idle": "2023-02-26T15:25:37.184887Z",
     "shell.execute_reply": "2023-02-26T15:25:37.182529Z",
     "shell.execute_reply.started": "2023-02-26T15:25:35.250061Z"
    }
   },
   "outputs": [
    {
     "data": {
      "text/html": [
       "<div>\n",
       "<style scoped>\n",
       "    .dataframe tbody tr th:only-of-type {\n",
       "        vertical-align: middle;\n",
       "    }\n",
       "\n",
       "    .dataframe tbody tr th {\n",
       "        vertical-align: top;\n",
       "    }\n",
       "\n",
       "    .dataframe thead th {\n",
       "        text-align: right;\n",
       "    }\n",
       "</style>\n",
       "<table border=\"1\" class=\"dataframe\">\n",
       "  <thead>\n",
       "    <tr style=\"text-align: right;\">\n",
       "      <th></th>\n",
       "      <th>tBodyAcc-mean()-X</th>\n",
       "      <th>tBodyAcc-mean()-Y</th>\n",
       "      <th>tBodyAcc-mean()-Z</th>\n",
       "      <th>tBodyAcc-std()-X</th>\n",
       "      <th>tBodyAcc-std()-Y</th>\n",
       "      <th>tBodyAcc-std()-Z</th>\n",
       "      <th>tBodyAcc-mad()-X</th>\n",
       "      <th>tBodyAcc-mad()-Y</th>\n",
       "      <th>tBodyAcc-mad()-Z</th>\n",
       "      <th>tBodyAcc-max()-X</th>\n",
       "      <th>...</th>\n",
       "      <th>fBodyBodyGyroJerkMag-kurtosis()</th>\n",
       "      <th>angle(tBodyAccMean,gravity)</th>\n",
       "      <th>angle(tBodyAccJerkMean),gravityMean)</th>\n",
       "      <th>angle(tBodyGyroMean,gravityMean)</th>\n",
       "      <th>angle(tBodyGyroJerkMean,gravityMean)</th>\n",
       "      <th>angle(X,gravityMean)</th>\n",
       "      <th>angle(Y,gravityMean)</th>\n",
       "      <th>angle(Z,gravityMean)</th>\n",
       "      <th>subject</th>\n",
       "      <th>Activity</th>\n",
       "    </tr>\n",
       "  </thead>\n",
       "  <tbody>\n",
       "    <tr>\n",
       "      <th>0</th>\n",
       "      <td>0.288585</td>\n",
       "      <td>-0.020294</td>\n",
       "      <td>-0.132905</td>\n",
       "      <td>-0.995279</td>\n",
       "      <td>-0.983111</td>\n",
       "      <td>-0.913526</td>\n",
       "      <td>-0.995112</td>\n",
       "      <td>-0.983185</td>\n",
       "      <td>-0.923527</td>\n",
       "      <td>-0.934724</td>\n",
       "      <td>...</td>\n",
       "      <td>-0.710304</td>\n",
       "      <td>-0.112754</td>\n",
       "      <td>0.030400</td>\n",
       "      <td>-0.464761</td>\n",
       "      <td>-0.018446</td>\n",
       "      <td>-0.841247</td>\n",
       "      <td>0.179941</td>\n",
       "      <td>-0.058627</td>\n",
       "      <td>1</td>\n",
       "      <td>STANDING</td>\n",
       "    </tr>\n",
       "    <tr>\n",
       "      <th>1</th>\n",
       "      <td>0.278419</td>\n",
       "      <td>-0.016411</td>\n",
       "      <td>-0.123520</td>\n",
       "      <td>-0.998245</td>\n",
       "      <td>-0.975300</td>\n",
       "      <td>-0.960322</td>\n",
       "      <td>-0.998807</td>\n",
       "      <td>-0.974914</td>\n",
       "      <td>-0.957686</td>\n",
       "      <td>-0.943068</td>\n",
       "      <td>...</td>\n",
       "      <td>-0.861499</td>\n",
       "      <td>0.053477</td>\n",
       "      <td>-0.007435</td>\n",
       "      <td>-0.732626</td>\n",
       "      <td>0.703511</td>\n",
       "      <td>-0.844788</td>\n",
       "      <td>0.180289</td>\n",
       "      <td>-0.054317</td>\n",
       "      <td>1</td>\n",
       "      <td>STANDING</td>\n",
       "    </tr>\n",
       "    <tr>\n",
       "      <th>2</th>\n",
       "      <td>0.279653</td>\n",
       "      <td>-0.019467</td>\n",
       "      <td>-0.113462</td>\n",
       "      <td>-0.995380</td>\n",
       "      <td>-0.967187</td>\n",
       "      <td>-0.978944</td>\n",
       "      <td>-0.996520</td>\n",
       "      <td>-0.963668</td>\n",
       "      <td>-0.977469</td>\n",
       "      <td>-0.938692</td>\n",
       "      <td>...</td>\n",
       "      <td>-0.760104</td>\n",
       "      <td>-0.118559</td>\n",
       "      <td>0.177899</td>\n",
       "      <td>0.100699</td>\n",
       "      <td>0.808529</td>\n",
       "      <td>-0.848933</td>\n",
       "      <td>0.180637</td>\n",
       "      <td>-0.049118</td>\n",
       "      <td>1</td>\n",
       "      <td>STANDING</td>\n",
       "    </tr>\n",
       "    <tr>\n",
       "      <th>3</th>\n",
       "      <td>0.279174</td>\n",
       "      <td>-0.026201</td>\n",
       "      <td>-0.123283</td>\n",
       "      <td>-0.996091</td>\n",
       "      <td>-0.983403</td>\n",
       "      <td>-0.990675</td>\n",
       "      <td>-0.997099</td>\n",
       "      <td>-0.982750</td>\n",
       "      <td>-0.989302</td>\n",
       "      <td>-0.938692</td>\n",
       "      <td>...</td>\n",
       "      <td>-0.482845</td>\n",
       "      <td>-0.036788</td>\n",
       "      <td>-0.012892</td>\n",
       "      <td>0.640011</td>\n",
       "      <td>-0.485366</td>\n",
       "      <td>-0.848649</td>\n",
       "      <td>0.181935</td>\n",
       "      <td>-0.047663</td>\n",
       "      <td>1</td>\n",
       "      <td>STANDING</td>\n",
       "    </tr>\n",
       "    <tr>\n",
       "      <th>4</th>\n",
       "      <td>0.276629</td>\n",
       "      <td>-0.016570</td>\n",
       "      <td>-0.115362</td>\n",
       "      <td>-0.998139</td>\n",
       "      <td>-0.980817</td>\n",
       "      <td>-0.990482</td>\n",
       "      <td>-0.998321</td>\n",
       "      <td>-0.979672</td>\n",
       "      <td>-0.990441</td>\n",
       "      <td>-0.942469</td>\n",
       "      <td>...</td>\n",
       "      <td>-0.699205</td>\n",
       "      <td>0.123320</td>\n",
       "      <td>0.122542</td>\n",
       "      <td>0.693578</td>\n",
       "      <td>-0.615971</td>\n",
       "      <td>-0.847865</td>\n",
       "      <td>0.185151</td>\n",
       "      <td>-0.043892</td>\n",
       "      <td>1</td>\n",
       "      <td>STANDING</td>\n",
       "    </tr>\n",
       "    <tr>\n",
       "      <th>...</th>\n",
       "      <td>...</td>\n",
       "      <td>...</td>\n",
       "      <td>...</td>\n",
       "      <td>...</td>\n",
       "      <td>...</td>\n",
       "      <td>...</td>\n",
       "      <td>...</td>\n",
       "      <td>...</td>\n",
       "      <td>...</td>\n",
       "      <td>...</td>\n",
       "      <td>...</td>\n",
       "      <td>...</td>\n",
       "      <td>...</td>\n",
       "      <td>...</td>\n",
       "      <td>...</td>\n",
       "      <td>...</td>\n",
       "      <td>...</td>\n",
       "      <td>...</td>\n",
       "      <td>...</td>\n",
       "      <td>...</td>\n",
       "      <td>...</td>\n",
       "    </tr>\n",
       "    <tr>\n",
       "      <th>7347</th>\n",
       "      <td>0.299665</td>\n",
       "      <td>-0.057193</td>\n",
       "      <td>-0.181233</td>\n",
       "      <td>-0.195387</td>\n",
       "      <td>0.039905</td>\n",
       "      <td>0.077078</td>\n",
       "      <td>-0.282301</td>\n",
       "      <td>0.043616</td>\n",
       "      <td>0.060410</td>\n",
       "      <td>0.210795</td>\n",
       "      <td>...</td>\n",
       "      <td>-0.880324</td>\n",
       "      <td>-0.190437</td>\n",
       "      <td>0.829718</td>\n",
       "      <td>0.206972</td>\n",
       "      <td>-0.425619</td>\n",
       "      <td>-0.791883</td>\n",
       "      <td>0.238604</td>\n",
       "      <td>0.049819</td>\n",
       "      <td>30</td>\n",
       "      <td>WALKING_UPSTAIRS</td>\n",
       "    </tr>\n",
       "    <tr>\n",
       "      <th>7348</th>\n",
       "      <td>0.273853</td>\n",
       "      <td>-0.007749</td>\n",
       "      <td>-0.147468</td>\n",
       "      <td>-0.235309</td>\n",
       "      <td>0.004816</td>\n",
       "      <td>0.059280</td>\n",
       "      <td>-0.322552</td>\n",
       "      <td>-0.029456</td>\n",
       "      <td>0.080585</td>\n",
       "      <td>0.117440</td>\n",
       "      <td>...</td>\n",
       "      <td>-0.680744</td>\n",
       "      <td>0.064907</td>\n",
       "      <td>0.875679</td>\n",
       "      <td>-0.879033</td>\n",
       "      <td>0.400219</td>\n",
       "      <td>-0.771840</td>\n",
       "      <td>0.252676</td>\n",
       "      <td>0.050053</td>\n",
       "      <td>30</td>\n",
       "      <td>WALKING_UPSTAIRS</td>\n",
       "    </tr>\n",
       "    <tr>\n",
       "      <th>7349</th>\n",
       "      <td>0.273387</td>\n",
       "      <td>-0.017011</td>\n",
       "      <td>-0.045022</td>\n",
       "      <td>-0.218218</td>\n",
       "      <td>-0.103822</td>\n",
       "      <td>0.274533</td>\n",
       "      <td>-0.304515</td>\n",
       "      <td>-0.098913</td>\n",
       "      <td>0.332584</td>\n",
       "      <td>0.043999</td>\n",
       "      <td>...</td>\n",
       "      <td>-0.304029</td>\n",
       "      <td>0.052806</td>\n",
       "      <td>-0.266724</td>\n",
       "      <td>0.864404</td>\n",
       "      <td>0.701169</td>\n",
       "      <td>-0.779133</td>\n",
       "      <td>0.249145</td>\n",
       "      <td>0.040811</td>\n",
       "      <td>30</td>\n",
       "      <td>WALKING_UPSTAIRS</td>\n",
       "    </tr>\n",
       "    <tr>\n",
       "      <th>7350</th>\n",
       "      <td>0.289654</td>\n",
       "      <td>-0.018843</td>\n",
       "      <td>-0.158281</td>\n",
       "      <td>-0.219139</td>\n",
       "      <td>-0.111412</td>\n",
       "      <td>0.268893</td>\n",
       "      <td>-0.310487</td>\n",
       "      <td>-0.068200</td>\n",
       "      <td>0.319473</td>\n",
       "      <td>0.101702</td>\n",
       "      <td>...</td>\n",
       "      <td>-0.344314</td>\n",
       "      <td>-0.101360</td>\n",
       "      <td>0.700740</td>\n",
       "      <td>0.936674</td>\n",
       "      <td>-0.589479</td>\n",
       "      <td>-0.785181</td>\n",
       "      <td>0.246432</td>\n",
       "      <td>0.025339</td>\n",
       "      <td>30</td>\n",
       "      <td>WALKING_UPSTAIRS</td>\n",
       "    </tr>\n",
       "    <tr>\n",
       "      <th>7351</th>\n",
       "      <td>0.351503</td>\n",
       "      <td>-0.012423</td>\n",
       "      <td>-0.203867</td>\n",
       "      <td>-0.269270</td>\n",
       "      <td>-0.087212</td>\n",
       "      <td>0.177404</td>\n",
       "      <td>-0.377404</td>\n",
       "      <td>-0.038678</td>\n",
       "      <td>0.229430</td>\n",
       "      <td>0.269013</td>\n",
       "      <td>...</td>\n",
       "      <td>-0.740738</td>\n",
       "      <td>-0.280088</td>\n",
       "      <td>-0.007739</td>\n",
       "      <td>-0.056088</td>\n",
       "      <td>-0.616956</td>\n",
       "      <td>-0.783267</td>\n",
       "      <td>0.246809</td>\n",
       "      <td>0.036695</td>\n",
       "      <td>30</td>\n",
       "      <td>WALKING_UPSTAIRS</td>\n",
       "    </tr>\n",
       "  </tbody>\n",
       "</table>\n",
       "<p>7352 rows × 563 columns</p>\n",
       "</div>"
      ],
      "text/plain": [
       "      tBodyAcc-mean()-X  tBodyAcc-mean()-Y  tBodyAcc-mean()-Z  \\\n",
       "0              0.288585          -0.020294          -0.132905   \n",
       "1              0.278419          -0.016411          -0.123520   \n",
       "2              0.279653          -0.019467          -0.113462   \n",
       "3              0.279174          -0.026201          -0.123283   \n",
       "4              0.276629          -0.016570          -0.115362   \n",
       "...                 ...                ...                ...   \n",
       "7347           0.299665          -0.057193          -0.181233   \n",
       "7348           0.273853          -0.007749          -0.147468   \n",
       "7349           0.273387          -0.017011          -0.045022   \n",
       "7350           0.289654          -0.018843          -0.158281   \n",
       "7351           0.351503          -0.012423          -0.203867   \n",
       "\n",
       "      tBodyAcc-std()-X  tBodyAcc-std()-Y  tBodyAcc-std()-Z  tBodyAcc-mad()-X  \\\n",
       "0            -0.995279         -0.983111         -0.913526         -0.995112   \n",
       "1            -0.998245         -0.975300         -0.960322         -0.998807   \n",
       "2            -0.995380         -0.967187         -0.978944         -0.996520   \n",
       "3            -0.996091         -0.983403         -0.990675         -0.997099   \n",
       "4            -0.998139         -0.980817         -0.990482         -0.998321   \n",
       "...                ...               ...               ...               ...   \n",
       "7347         -0.195387          0.039905          0.077078         -0.282301   \n",
       "7348         -0.235309          0.004816          0.059280         -0.322552   \n",
       "7349         -0.218218         -0.103822          0.274533         -0.304515   \n",
       "7350         -0.219139         -0.111412          0.268893         -0.310487   \n",
       "7351         -0.269270         -0.087212          0.177404         -0.377404   \n",
       "\n",
       "      tBodyAcc-mad()-Y  tBodyAcc-mad()-Z  tBodyAcc-max()-X  ...  \\\n",
       "0            -0.983185         -0.923527         -0.934724  ...   \n",
       "1            -0.974914         -0.957686         -0.943068  ...   \n",
       "2            -0.963668         -0.977469         -0.938692  ...   \n",
       "3            -0.982750         -0.989302         -0.938692  ...   \n",
       "4            -0.979672         -0.990441         -0.942469  ...   \n",
       "...                ...               ...               ...  ...   \n",
       "7347          0.043616          0.060410          0.210795  ...   \n",
       "7348         -0.029456          0.080585          0.117440  ...   \n",
       "7349         -0.098913          0.332584          0.043999  ...   \n",
       "7350         -0.068200          0.319473          0.101702  ...   \n",
       "7351         -0.038678          0.229430          0.269013  ...   \n",
       "\n",
       "      fBodyBodyGyroJerkMag-kurtosis()  angle(tBodyAccMean,gravity)  \\\n",
       "0                           -0.710304                    -0.112754   \n",
       "1                           -0.861499                     0.053477   \n",
       "2                           -0.760104                    -0.118559   \n",
       "3                           -0.482845                    -0.036788   \n",
       "4                           -0.699205                     0.123320   \n",
       "...                               ...                          ...   \n",
       "7347                        -0.880324                    -0.190437   \n",
       "7348                        -0.680744                     0.064907   \n",
       "7349                        -0.304029                     0.052806   \n",
       "7350                        -0.344314                    -0.101360   \n",
       "7351                        -0.740738                    -0.280088   \n",
       "\n",
       "      angle(tBodyAccJerkMean),gravityMean)  angle(tBodyGyroMean,gravityMean)  \\\n",
       "0                                 0.030400                         -0.464761   \n",
       "1                                -0.007435                         -0.732626   \n",
       "2                                 0.177899                          0.100699   \n",
       "3                                -0.012892                          0.640011   \n",
       "4                                 0.122542                          0.693578   \n",
       "...                                    ...                               ...   \n",
       "7347                              0.829718                          0.206972   \n",
       "7348                              0.875679                         -0.879033   \n",
       "7349                             -0.266724                          0.864404   \n",
       "7350                              0.700740                          0.936674   \n",
       "7351                             -0.007739                         -0.056088   \n",
       "\n",
       "      angle(tBodyGyroJerkMean,gravityMean)  angle(X,gravityMean)  \\\n",
       "0                                -0.018446             -0.841247   \n",
       "1                                 0.703511             -0.844788   \n",
       "2                                 0.808529             -0.848933   \n",
       "3                                -0.485366             -0.848649   \n",
       "4                                -0.615971             -0.847865   \n",
       "...                                    ...                   ...   \n",
       "7347                             -0.425619             -0.791883   \n",
       "7348                              0.400219             -0.771840   \n",
       "7349                              0.701169             -0.779133   \n",
       "7350                             -0.589479             -0.785181   \n",
       "7351                             -0.616956             -0.783267   \n",
       "\n",
       "      angle(Y,gravityMean)  angle(Z,gravityMean)  subject          Activity  \n",
       "0                 0.179941             -0.058627        1          STANDING  \n",
       "1                 0.180289             -0.054317        1          STANDING  \n",
       "2                 0.180637             -0.049118        1          STANDING  \n",
       "3                 0.181935             -0.047663        1          STANDING  \n",
       "4                 0.185151             -0.043892        1          STANDING  \n",
       "...                    ...                   ...      ...               ...  \n",
       "7347              0.238604              0.049819       30  WALKING_UPSTAIRS  \n",
       "7348              0.252676              0.050053       30  WALKING_UPSTAIRS  \n",
       "7349              0.249145              0.040811       30  WALKING_UPSTAIRS  \n",
       "7350              0.246432              0.025339       30  WALKING_UPSTAIRS  \n",
       "7351              0.246809              0.036695       30  WALKING_UPSTAIRS  \n",
       "\n",
       "[7352 rows x 563 columns]"
      ]
     },
     "execution_count": 2,
     "metadata": {},
     "output_type": "execute_result"
    }
   ],
   "source": [
    "import numpy as np\n",
    "import pandas as pd\n",
    "data=pd.read_csv('train.csv')\n",
    "data"
   ]
  },
  {
   "cell_type": "code",
   "execution_count": 3,
   "metadata": {
    "execution": {
     "iopub.execute_input": "2023-02-26T15:25:37.188324Z",
     "iopub.status.busy": "2023-02-26T15:25:37.186609Z",
     "iopub.status.idle": "2023-02-26T15:25:39.16219Z",
     "shell.execute_reply": "2023-02-26T15:25:39.160535Z",
     "shell.execute_reply.started": "2023-02-26T15:25:37.188268Z"
    }
   },
   "outputs": [
    {
     "data": {
      "text/html": [
       "<div>\n",
       "<style scoped>\n",
       "    .dataframe tbody tr th:only-of-type {\n",
       "        vertical-align: middle;\n",
       "    }\n",
       "\n",
       "    .dataframe tbody tr th {\n",
       "        vertical-align: top;\n",
       "    }\n",
       "\n",
       "    .dataframe thead th {\n",
       "        text-align: right;\n",
       "    }\n",
       "</style>\n",
       "<table border=\"1\" class=\"dataframe\">\n",
       "  <thead>\n",
       "    <tr style=\"text-align: right;\">\n",
       "      <th></th>\n",
       "      <th>tBodyAcc-mean()-X</th>\n",
       "      <th>tBodyAcc-mean()-Y</th>\n",
       "      <th>tBodyAcc-mean()-Z</th>\n",
       "      <th>tBodyAcc-std()-X</th>\n",
       "      <th>tBodyAcc-std()-Y</th>\n",
       "      <th>tBodyAcc-std()-Z</th>\n",
       "      <th>tBodyAcc-mad()-X</th>\n",
       "      <th>tBodyAcc-mad()-Y</th>\n",
       "      <th>tBodyAcc-mad()-Z</th>\n",
       "      <th>tBodyAcc-max()-X</th>\n",
       "      <th>...</th>\n",
       "      <th>fBodyBodyGyroJerkMag-skewness()</th>\n",
       "      <th>fBodyBodyGyroJerkMag-kurtosis()</th>\n",
       "      <th>angle(tBodyAccMean,gravity)</th>\n",
       "      <th>angle(tBodyAccJerkMean),gravityMean)</th>\n",
       "      <th>angle(tBodyGyroMean,gravityMean)</th>\n",
       "      <th>angle(tBodyGyroJerkMean,gravityMean)</th>\n",
       "      <th>angle(X,gravityMean)</th>\n",
       "      <th>angle(Y,gravityMean)</th>\n",
       "      <th>angle(Z,gravityMean)</th>\n",
       "      <th>subject</th>\n",
       "    </tr>\n",
       "  </thead>\n",
       "  <tbody>\n",
       "    <tr>\n",
       "      <th>count</th>\n",
       "      <td>7352.000000</td>\n",
       "      <td>7352.000000</td>\n",
       "      <td>7352.000000</td>\n",
       "      <td>7352.000000</td>\n",
       "      <td>7352.000000</td>\n",
       "      <td>7352.000000</td>\n",
       "      <td>7352.000000</td>\n",
       "      <td>7352.000000</td>\n",
       "      <td>7352.000000</td>\n",
       "      <td>7352.000000</td>\n",
       "      <td>...</td>\n",
       "      <td>7352.000000</td>\n",
       "      <td>7352.000000</td>\n",
       "      <td>7352.000000</td>\n",
       "      <td>7352.000000</td>\n",
       "      <td>7352.000000</td>\n",
       "      <td>7352.000000</td>\n",
       "      <td>7352.000000</td>\n",
       "      <td>7352.000000</td>\n",
       "      <td>7352.000000</td>\n",
       "      <td>7352.000000</td>\n",
       "    </tr>\n",
       "    <tr>\n",
       "      <th>mean</th>\n",
       "      <td>0.274488</td>\n",
       "      <td>-0.017695</td>\n",
       "      <td>-0.109141</td>\n",
       "      <td>-0.605438</td>\n",
       "      <td>-0.510938</td>\n",
       "      <td>-0.604754</td>\n",
       "      <td>-0.630512</td>\n",
       "      <td>-0.526907</td>\n",
       "      <td>-0.606150</td>\n",
       "      <td>-0.468604</td>\n",
       "      <td>...</td>\n",
       "      <td>-0.307009</td>\n",
       "      <td>-0.625294</td>\n",
       "      <td>0.008684</td>\n",
       "      <td>0.002186</td>\n",
       "      <td>0.008726</td>\n",
       "      <td>-0.005981</td>\n",
       "      <td>-0.489547</td>\n",
       "      <td>0.058593</td>\n",
       "      <td>-0.056515</td>\n",
       "      <td>17.413085</td>\n",
       "    </tr>\n",
       "    <tr>\n",
       "      <th>std</th>\n",
       "      <td>0.070261</td>\n",
       "      <td>0.040811</td>\n",
       "      <td>0.056635</td>\n",
       "      <td>0.448734</td>\n",
       "      <td>0.502645</td>\n",
       "      <td>0.418687</td>\n",
       "      <td>0.424073</td>\n",
       "      <td>0.485942</td>\n",
       "      <td>0.414122</td>\n",
       "      <td>0.544547</td>\n",
       "      <td>...</td>\n",
       "      <td>0.321011</td>\n",
       "      <td>0.307584</td>\n",
       "      <td>0.336787</td>\n",
       "      <td>0.448306</td>\n",
       "      <td>0.608303</td>\n",
       "      <td>0.477975</td>\n",
       "      <td>0.511807</td>\n",
       "      <td>0.297480</td>\n",
       "      <td>0.279122</td>\n",
       "      <td>8.975143</td>\n",
       "    </tr>\n",
       "    <tr>\n",
       "      <th>min</th>\n",
       "      <td>-1.000000</td>\n",
       "      <td>-1.000000</td>\n",
       "      <td>-1.000000</td>\n",
       "      <td>-1.000000</td>\n",
       "      <td>-0.999873</td>\n",
       "      <td>-1.000000</td>\n",
       "      <td>-1.000000</td>\n",
       "      <td>-1.000000</td>\n",
       "      <td>-1.000000</td>\n",
       "      <td>-1.000000</td>\n",
       "      <td>...</td>\n",
       "      <td>-0.995357</td>\n",
       "      <td>-0.999765</td>\n",
       "      <td>-0.976580</td>\n",
       "      <td>-1.000000</td>\n",
       "      <td>-1.000000</td>\n",
       "      <td>-1.000000</td>\n",
       "      <td>-1.000000</td>\n",
       "      <td>-1.000000</td>\n",
       "      <td>-1.000000</td>\n",
       "      <td>1.000000</td>\n",
       "    </tr>\n",
       "    <tr>\n",
       "      <th>25%</th>\n",
       "      <td>0.262975</td>\n",
       "      <td>-0.024863</td>\n",
       "      <td>-0.120993</td>\n",
       "      <td>-0.992754</td>\n",
       "      <td>-0.978129</td>\n",
       "      <td>-0.980233</td>\n",
       "      <td>-0.993591</td>\n",
       "      <td>-0.978162</td>\n",
       "      <td>-0.980251</td>\n",
       "      <td>-0.936219</td>\n",
       "      <td>...</td>\n",
       "      <td>-0.542602</td>\n",
       "      <td>-0.845573</td>\n",
       "      <td>-0.121527</td>\n",
       "      <td>-0.289549</td>\n",
       "      <td>-0.482273</td>\n",
       "      <td>-0.376341</td>\n",
       "      <td>-0.812065</td>\n",
       "      <td>-0.017885</td>\n",
       "      <td>-0.143414</td>\n",
       "      <td>8.000000</td>\n",
       "    </tr>\n",
       "    <tr>\n",
       "      <th>50%</th>\n",
       "      <td>0.277193</td>\n",
       "      <td>-0.017219</td>\n",
       "      <td>-0.108676</td>\n",
       "      <td>-0.946196</td>\n",
       "      <td>-0.851897</td>\n",
       "      <td>-0.859365</td>\n",
       "      <td>-0.950709</td>\n",
       "      <td>-0.857328</td>\n",
       "      <td>-0.857143</td>\n",
       "      <td>-0.881637</td>\n",
       "      <td>...</td>\n",
       "      <td>-0.343685</td>\n",
       "      <td>-0.711692</td>\n",
       "      <td>0.009509</td>\n",
       "      <td>0.008943</td>\n",
       "      <td>0.008735</td>\n",
       "      <td>-0.000368</td>\n",
       "      <td>-0.709417</td>\n",
       "      <td>0.182071</td>\n",
       "      <td>0.003181</td>\n",
       "      <td>19.000000</td>\n",
       "    </tr>\n",
       "    <tr>\n",
       "      <th>75%</th>\n",
       "      <td>0.288461</td>\n",
       "      <td>-0.010783</td>\n",
       "      <td>-0.097794</td>\n",
       "      <td>-0.242813</td>\n",
       "      <td>-0.034231</td>\n",
       "      <td>-0.262415</td>\n",
       "      <td>-0.292680</td>\n",
       "      <td>-0.066701</td>\n",
       "      <td>-0.265671</td>\n",
       "      <td>-0.017129</td>\n",
       "      <td>...</td>\n",
       "      <td>-0.126979</td>\n",
       "      <td>-0.503878</td>\n",
       "      <td>0.150865</td>\n",
       "      <td>0.292861</td>\n",
       "      <td>0.506187</td>\n",
       "      <td>0.359368</td>\n",
       "      <td>-0.509079</td>\n",
       "      <td>0.248353</td>\n",
       "      <td>0.107659</td>\n",
       "      <td>26.000000</td>\n",
       "    </tr>\n",
       "    <tr>\n",
       "      <th>max</th>\n",
       "      <td>1.000000</td>\n",
       "      <td>1.000000</td>\n",
       "      <td>1.000000</td>\n",
       "      <td>1.000000</td>\n",
       "      <td>0.916238</td>\n",
       "      <td>1.000000</td>\n",
       "      <td>1.000000</td>\n",
       "      <td>0.967664</td>\n",
       "      <td>1.000000</td>\n",
       "      <td>1.000000</td>\n",
       "      <td>...</td>\n",
       "      <td>0.989538</td>\n",
       "      <td>0.956845</td>\n",
       "      <td>1.000000</td>\n",
       "      <td>1.000000</td>\n",
       "      <td>0.998702</td>\n",
       "      <td>0.996078</td>\n",
       "      <td>1.000000</td>\n",
       "      <td>0.478157</td>\n",
       "      <td>1.000000</td>\n",
       "      <td>30.000000</td>\n",
       "    </tr>\n",
       "  </tbody>\n",
       "</table>\n",
       "<p>8 rows × 562 columns</p>\n",
       "</div>"
      ],
      "text/plain": [
       "       tBodyAcc-mean()-X  tBodyAcc-mean()-Y  tBodyAcc-mean()-Z  \\\n",
       "count        7352.000000        7352.000000        7352.000000   \n",
       "mean            0.274488          -0.017695          -0.109141   \n",
       "std             0.070261           0.040811           0.056635   \n",
       "min            -1.000000          -1.000000          -1.000000   \n",
       "25%             0.262975          -0.024863          -0.120993   \n",
       "50%             0.277193          -0.017219          -0.108676   \n",
       "75%             0.288461          -0.010783          -0.097794   \n",
       "max             1.000000           1.000000           1.000000   \n",
       "\n",
       "       tBodyAcc-std()-X  tBodyAcc-std()-Y  tBodyAcc-std()-Z  tBodyAcc-mad()-X  \\\n",
       "count       7352.000000       7352.000000       7352.000000       7352.000000   \n",
       "mean          -0.605438         -0.510938         -0.604754         -0.630512   \n",
       "std            0.448734          0.502645          0.418687          0.424073   \n",
       "min           -1.000000         -0.999873         -1.000000         -1.000000   \n",
       "25%           -0.992754         -0.978129         -0.980233         -0.993591   \n",
       "50%           -0.946196         -0.851897         -0.859365         -0.950709   \n",
       "75%           -0.242813         -0.034231         -0.262415         -0.292680   \n",
       "max            1.000000          0.916238          1.000000          1.000000   \n",
       "\n",
       "       tBodyAcc-mad()-Y  tBodyAcc-mad()-Z  tBodyAcc-max()-X  ...  \\\n",
       "count       7352.000000       7352.000000       7352.000000  ...   \n",
       "mean          -0.526907         -0.606150         -0.468604  ...   \n",
       "std            0.485942          0.414122          0.544547  ...   \n",
       "min           -1.000000         -1.000000         -1.000000  ...   \n",
       "25%           -0.978162         -0.980251         -0.936219  ...   \n",
       "50%           -0.857328         -0.857143         -0.881637  ...   \n",
       "75%           -0.066701         -0.265671         -0.017129  ...   \n",
       "max            0.967664          1.000000          1.000000  ...   \n",
       "\n",
       "       fBodyBodyGyroJerkMag-skewness()  fBodyBodyGyroJerkMag-kurtosis()  \\\n",
       "count                      7352.000000                      7352.000000   \n",
       "mean                         -0.307009                        -0.625294   \n",
       "std                           0.321011                         0.307584   \n",
       "min                          -0.995357                        -0.999765   \n",
       "25%                          -0.542602                        -0.845573   \n",
       "50%                          -0.343685                        -0.711692   \n",
       "75%                          -0.126979                        -0.503878   \n",
       "max                           0.989538                         0.956845   \n",
       "\n",
       "       angle(tBodyAccMean,gravity)  angle(tBodyAccJerkMean),gravityMean)  \\\n",
       "count                  7352.000000                           7352.000000   \n",
       "mean                      0.008684                              0.002186   \n",
       "std                       0.336787                              0.448306   \n",
       "min                      -0.976580                             -1.000000   \n",
       "25%                      -0.121527                             -0.289549   \n",
       "50%                       0.009509                              0.008943   \n",
       "75%                       0.150865                              0.292861   \n",
       "max                       1.000000                              1.000000   \n",
       "\n",
       "       angle(tBodyGyroMean,gravityMean)  angle(tBodyGyroJerkMean,gravityMean)  \\\n",
       "count                       7352.000000                           7352.000000   \n",
       "mean                           0.008726                             -0.005981   \n",
       "std                            0.608303                              0.477975   \n",
       "min                           -1.000000                             -1.000000   \n",
       "25%                           -0.482273                             -0.376341   \n",
       "50%                            0.008735                             -0.000368   \n",
       "75%                            0.506187                              0.359368   \n",
       "max                            0.998702                              0.996078   \n",
       "\n",
       "       angle(X,gravityMean)  angle(Y,gravityMean)  angle(Z,gravityMean)  \\\n",
       "count           7352.000000           7352.000000           7352.000000   \n",
       "mean              -0.489547              0.058593             -0.056515   \n",
       "std                0.511807              0.297480              0.279122   \n",
       "min               -1.000000             -1.000000             -1.000000   \n",
       "25%               -0.812065             -0.017885             -0.143414   \n",
       "50%               -0.709417              0.182071              0.003181   \n",
       "75%               -0.509079              0.248353              0.107659   \n",
       "max                1.000000              0.478157              1.000000   \n",
       "\n",
       "           subject  \n",
       "count  7352.000000  \n",
       "mean     17.413085  \n",
       "std       8.975143  \n",
       "min       1.000000  \n",
       "25%       8.000000  \n",
       "50%      19.000000  \n",
       "75%      26.000000  \n",
       "max      30.000000  \n",
       "\n",
       "[8 rows x 562 columns]"
      ]
     },
     "execution_count": 3,
     "metadata": {},
     "output_type": "execute_result"
    }
   ],
   "source": [
    "data.describe()"
   ]
  },
  {
   "cell_type": "code",
   "execution_count": 4,
   "metadata": {
    "execution": {
     "iopub.execute_input": "2023-02-26T15:25:39.166101Z",
     "iopub.status.busy": "2023-02-26T15:25:39.165647Z",
     "iopub.status.idle": "2023-02-26T15:25:39.21057Z",
     "shell.execute_reply": "2023-02-26T15:25:39.208777Z",
     "shell.execute_reply.started": "2023-02-26T15:25:39.166063Z"
    }
   },
   "outputs": [
    {
     "name": "stdout",
     "output_type": "stream",
     "text": [
      "<class 'pandas.core.frame.DataFrame'>\n",
      "RangeIndex: 7352 entries, 0 to 7351\n",
      "Columns: 563 entries, tBodyAcc-mean()-X to Activity\n",
      "dtypes: float64(561), int64(1), object(1)\n",
      "memory usage: 31.6+ MB\n"
     ]
    }
   ],
   "source": [
    "data.info()"
   ]
  },
  {
   "cell_type": "code",
   "execution_count": 5,
   "metadata": {
    "execution": {
     "iopub.execute_input": "2023-02-26T15:25:39.213103Z",
     "iopub.status.busy": "2023-02-26T15:25:39.212663Z",
     "iopub.status.idle": "2023-02-26T15:25:39.230354Z",
     "shell.execute_reply": "2023-02-26T15:25:39.229063Z",
     "shell.execute_reply.started": "2023-02-26T15:25:39.213065Z"
    }
   },
   "outputs": [
    {
     "data": {
      "text/plain": [
       "Index(['tBodyAcc-mean()-X', 'tBodyAcc-mean()-Y', 'tBodyAcc-mean()-Z',\n",
       "       'tBodyAcc-std()-X', 'tBodyAcc-std()-Y', 'tBodyAcc-std()-Z',\n",
       "       'tBodyAcc-mad()-X', 'tBodyAcc-mad()-Y', 'tBodyAcc-mad()-Z',\n",
       "       'tBodyAcc-max()-X',\n",
       "       ...\n",
       "       'fBodyBodyGyroJerkMag-kurtosis()', 'angle(tBodyAccMean,gravity)',\n",
       "       'angle(tBodyAccJerkMean),gravityMean)',\n",
       "       'angle(tBodyGyroMean,gravityMean)',\n",
       "       'angle(tBodyGyroJerkMean,gravityMean)', 'angle(X,gravityMean)',\n",
       "       'angle(Y,gravityMean)', 'angle(Z,gravityMean)', 'subject', 'Activity'],\n",
       "      dtype='object', length=563)"
      ]
     },
     "execution_count": 5,
     "metadata": {},
     "output_type": "execute_result"
    }
   ],
   "source": [
    "data.columns"
   ]
  },
  {
   "cell_type": "code",
   "execution_count": 6,
   "metadata": {
    "execution": {
     "iopub.execute_input": "2023-02-26T15:25:39.233052Z",
     "iopub.status.busy": "2023-02-26T15:25:39.232408Z",
     "iopub.status.idle": "2023-02-26T15:25:39.258079Z",
     "shell.execute_reply": "2023-02-26T15:25:39.256233Z",
     "shell.execute_reply.started": "2023-02-26T15:25:39.233005Z"
    }
   },
   "outputs": [
    {
     "data": {
      "text/plain": [
       "LAYING                1407\n",
       "STANDING              1374\n",
       "SITTING               1286\n",
       "WALKING               1226\n",
       "WALKING_UPSTAIRS      1073\n",
       "WALKING_DOWNSTAIRS     986\n",
       "Name: Activity, dtype: int64"
      ]
     },
     "execution_count": 6,
     "metadata": {},
     "output_type": "execute_result"
    }
   ],
   "source": [
    "data.Activity.value_counts()"
   ]
  },
  {
   "cell_type": "code",
   "execution_count": 7,
   "metadata": {
    "execution": {
     "iopub.execute_input": "2023-02-26T15:25:39.261118Z",
     "iopub.status.busy": "2023-02-26T15:25:39.260571Z",
     "iopub.status.idle": "2023-02-26T15:25:39.272482Z",
     "shell.execute_reply": "2023-02-26T15:25:39.271198Z",
     "shell.execute_reply.started": "2023-02-26T15:25:39.261077Z"
    }
   },
   "outputs": [],
   "source": [
    "data['activity_code'] = data.Activity.astype('category').cat.codes"
   ]
  },
  {
   "cell_type": "code",
   "execution_count": 8,
   "metadata": {
    "execution": {
     "iopub.execute_input": "2023-02-26T15:25:39.274483Z",
     "iopub.status.busy": "2023-02-26T15:25:39.274031Z",
     "iopub.status.idle": "2023-02-26T15:25:39.289047Z",
     "shell.execute_reply": "2023-02-26T15:25:39.287314Z",
     "shell.execute_reply.started": "2023-02-26T15:25:39.274447Z"
    }
   },
   "outputs": [
    {
     "data": {
      "text/plain": [
       "0       2\n",
       "1       2\n",
       "2       2\n",
       "3       2\n",
       "4       2\n",
       "       ..\n",
       "7347    5\n",
       "7348    5\n",
       "7349    5\n",
       "7350    5\n",
       "7351    5\n",
       "Name: activity_code, Length: 7352, dtype: int8"
      ]
     },
     "execution_count": 8,
     "metadata": {},
     "output_type": "execute_result"
    }
   ],
   "source": [
    "data.activity_code"
   ]
  },
  {
   "cell_type": "code",
   "execution_count": 9,
   "metadata": {
    "execution": {
     "iopub.execute_input": "2023-02-26T15:25:39.291928Z",
     "iopub.status.busy": "2023-02-26T15:25:39.291362Z",
     "iopub.status.idle": "2023-02-26T15:25:39.320035Z",
     "shell.execute_reply": "2023-02-26T15:25:39.318645Z",
     "shell.execute_reply.started": "2023-02-26T15:25:39.291882Z"
    }
   },
   "outputs": [],
   "source": [
    "data1=data.drop('Activity',axis=1)"
   ]
  },
  {
   "cell_type": "code",
   "execution_count": 10,
   "metadata": {
    "execution": {
     "iopub.execute_input": "2023-02-26T15:25:39.329772Z",
     "iopub.status.busy": "2023-02-26T15:25:39.326292Z",
     "iopub.status.idle": "2023-02-26T15:25:39.35167Z",
     "shell.execute_reply": "2023-02-26T15:25:39.350135Z",
     "shell.execute_reply.started": "2023-02-26T15:25:39.329707Z"
    }
   },
   "outputs": [
    {
     "name": "stdout",
     "output_type": "stream",
     "text": [
      "<class 'pandas.core.frame.DataFrame'>\n",
      "RangeIndex: 7352 entries, 0 to 7351\n",
      "Columns: 564 entries, tBodyAcc-mean()-X to activity_code\n",
      "dtypes: float64(561), int64(1), int8(1), object(1)\n",
      "memory usage: 31.6+ MB\n"
     ]
    }
   ],
   "source": [
    "data.info()"
   ]
  },
  {
   "cell_type": "code",
   "execution_count": 11,
   "metadata": {
    "execution": {
     "iopub.execute_input": "2023-02-26T15:25:39.354798Z",
     "iopub.status.busy": "2023-02-26T15:25:39.354172Z",
     "iopub.status.idle": "2023-02-26T15:25:39.400273Z",
     "shell.execute_reply": "2023-02-26T15:25:39.398406Z",
     "shell.execute_reply.started": "2023-02-26T15:25:39.354741Z"
    }
   },
   "outputs": [],
   "source": [
    "x_col=data1.columns.to_list()\n",
    "x_col.pop(-1)\n",
    "x_data=data1[x_col]\n",
    "y_col='activity_code'"
   ]
  },
  {
   "cell_type": "code",
   "execution_count": 12,
   "metadata": {
    "execution": {
     "iopub.execute_input": "2023-02-26T15:25:39.402889Z",
     "iopub.status.busy": "2023-02-26T15:25:39.402433Z",
     "iopub.status.idle": "2023-02-26T15:25:40.275089Z",
     "shell.execute_reply": "2023-02-26T15:25:40.273258Z",
     "shell.execute_reply.started": "2023-02-26T15:25:39.402853Z"
    }
   },
   "outputs": [
    {
     "data": {
      "text/plain": [
       "((6616, 562), (736, 562), (6616,), (736,))"
      ]
     },
     "execution_count": 12,
     "metadata": {},
     "output_type": "execute_result"
    }
   ],
   "source": [
    "from sklearn.model_selection import train_test_split\n",
    "train_x,test_x,train_y,test_y = train_test_split(data1[x_col],data1[y_col].values,test_size=0.1)\n",
    "train_x.shape,test_x.shape,train_y.shape,test_y.shape"
   ]
  },
  {
   "cell_type": "code",
   "execution_count": null,
   "metadata": {},
   "outputs": [],
   "source": []
  },
  {
   "cell_type": "code",
   "execution_count": 13,
   "metadata": {
    "execution": {
     "iopub.execute_input": "2023-02-26T15:25:40.277366Z",
     "iopub.status.busy": "2023-02-26T15:25:40.276686Z",
     "iopub.status.idle": "2023-02-26T15:25:44.549259Z",
     "shell.execute_reply": "2023-02-26T15:25:44.547513Z",
     "shell.execute_reply.started": "2023-02-26T15:25:40.277325Z"
    }
   },
   "outputs": [
    {
     "data": {
      "text/plain": [
       "SVC()"
      ]
     },
     "execution_count": 13,
     "metadata": {},
     "output_type": "execute_result"
    }
   ],
   "source": [
    "# Build SVM model using svm.SVC with default parameters. Default kernel is rbl\n",
    "from sklearn.svm import SVC\n",
    "sv=SVC() #default kernel is 'rbl'\n",
    "sv.fit(train_x,train_y)"
   ]
  },
  {
   "cell_type": "code",
   "execution_count": 14,
   "metadata": {
    "execution": {
     "iopub.execute_input": "2023-02-26T15:25:44.552188Z",
     "iopub.status.busy": "2023-02-26T15:25:44.551667Z",
     "iopub.status.idle": "2023-02-26T15:26:00.999332Z",
     "shell.execute_reply": "2023-02-26T15:26:00.997983Z",
     "shell.execute_reply.started": "2023-02-26T15:25:44.55214Z"
    }
   },
   "outputs": [
    {
     "data": {
      "text/plain": [
       "array([0, 2, 5, ..., 5, 1, 1], dtype=int8)"
      ]
     },
     "execution_count": 14,
     "metadata": {},
     "output_type": "execute_result"
    }
   ],
   "source": [
    "train_y_pred=sv.predict(train_x)\n",
    "train_y_pred"
   ]
  },
  {
   "cell_type": "code",
   "execution_count": 15,
   "metadata": {
    "execution": {
     "iopub.execute_input": "2023-02-26T15:26:01.001658Z",
     "iopub.status.busy": "2023-02-26T15:26:01.001155Z",
     "iopub.status.idle": "2023-02-26T15:26:02.775324Z",
     "shell.execute_reply": "2023-02-26T15:26:02.773717Z",
     "shell.execute_reply.started": "2023-02-26T15:26:01.001611Z"
    }
   },
   "outputs": [
    {
     "data": {
      "text/plain": [
       "array([0, 4, 1, 1, 3, 1, 1, 0, 5, 3, 4, 5, 4, 2, 0, 4, 0, 1, 4, 3, 3, 0,\n",
       "       4, 2, 5, 0, 2, 5, 0, 2, 4, 5, 2, 1, 0, 0, 2, 5, 3, 0, 1, 3, 2, 4,\n",
       "       1, 3, 3, 5, 2, 4, 0, 2, 1, 0, 3, 0, 4, 0, 3, 3, 5, 1, 0, 2, 0, 4,\n",
       "       2, 2, 0, 3, 3, 1, 1, 3, 4, 2, 3, 0, 3, 0, 4, 3, 5, 3, 2, 0, 0, 3,\n",
       "       1, 0, 0, 1, 0, 1, 2, 5, 3, 4, 3, 2, 2, 2, 2, 0, 5, 3, 1, 0, 5, 2,\n",
       "       3, 5, 3, 3, 0, 4, 2, 0, 2, 4, 0, 3, 0, 5, 5, 2, 1, 0, 3, 1, 5, 4,\n",
       "       1, 2, 5, 1, 0, 3, 5, 4, 1, 2, 1, 3, 5, 2, 3, 3, 2, 4, 2, 1, 2, 1,\n",
       "       4, 5, 5, 4, 3, 4, 1, 3, 0, 0, 2, 5, 4, 2, 3, 0, 4, 5, 1, 5, 2, 1,\n",
       "       2, 1, 0, 0, 0, 0, 2, 5, 4, 0, 4, 3, 2, 3, 5, 1, 2, 0, 0, 4, 0, 2,\n",
       "       3, 2, 5, 0, 1, 0, 2, 4, 3, 0, 0, 1, 5, 0, 0, 3, 1, 2, 2, 0, 5, 2,\n",
       "       5, 3, 3, 4, 3, 5, 2, 2, 0, 5, 5, 3, 4, 2, 5, 4, 0, 2, 2, 4, 3, 0,\n",
       "       0, 1, 0, 0, 5, 5, 5, 2, 0, 1, 5, 4, 0, 5, 2, 1, 4, 2, 4, 3, 0, 2,\n",
       "       5, 2, 3, 2, 3, 3, 0, 2, 2, 4, 0, 2, 5, 2, 5, 5, 4, 1, 0, 2, 0, 3,\n",
       "       1, 2, 5, 1, 4, 1, 5, 3, 0, 0, 4, 1, 0, 4, 5, 2, 4, 3, 2, 1, 4, 0,\n",
       "       3, 5, 5, 2, 1, 1, 4, 0, 2, 0, 1, 0, 3, 2, 0, 1, 3, 3, 4, 2, 1, 2,\n",
       "       0, 3, 4, 5, 5, 0, 1, 4, 0, 0, 1, 1, 5, 3, 5, 4, 4, 1, 5, 5, 1, 4,\n",
       "       1, 0, 2, 5, 0, 4, 2, 0, 5, 4, 4, 3, 1, 1, 3, 0, 2, 4, 2, 5, 3, 0,\n",
       "       2, 3, 4, 3, 2, 0, 1, 4, 1, 4, 0, 1, 1, 3, 3, 5, 0, 2, 2, 0, 1, 2,\n",
       "       2, 0, 1, 4, 0, 3, 2, 5, 5, 2, 0, 3, 2, 2, 1, 1, 1, 0, 1, 5, 0, 3,\n",
       "       1, 4, 1, 2, 2, 1, 1, 1, 4, 1, 3, 2, 1, 5, 1, 3, 2, 1, 4, 4, 0, 0,\n",
       "       3, 0, 0, 1, 3, 2, 1, 0, 2, 5, 0, 4, 3, 0, 4, 4, 4, 1, 3, 4, 0, 4,\n",
       "       0, 1, 0, 4, 4, 2, 3, 2, 2, 3, 5, 5, 2, 1, 1, 5, 0, 1, 5, 5, 2, 2,\n",
       "       2, 4, 4, 0, 0, 1, 2, 1, 4, 1, 1, 4, 2, 3, 2, 2, 5, 1, 2, 4, 4, 0,\n",
       "       0, 3, 4, 3, 2, 5, 2, 1, 3, 0, 2, 5, 0, 0, 0, 2, 3, 0, 0, 1, 5, 5,\n",
       "       1, 3, 0, 3, 2, 1, 2, 2, 3, 2, 0, 3, 1, 5, 5, 0, 0, 1, 4, 5, 0, 2,\n",
       "       0, 0, 3, 3, 1, 4, 0, 4, 2, 1, 4, 5, 0, 1, 0, 2, 3, 5, 0, 0, 5, 0,\n",
       "       2, 3, 0, 1, 1, 5, 1, 2, 4, 4, 5, 0, 2, 1, 3, 4, 0, 0, 1, 4, 1, 2,\n",
       "       1, 1, 2, 3, 2, 1, 4, 1, 0, 5, 4, 0, 2, 4, 3, 2, 3, 4, 2, 1, 3, 0,\n",
       "       5, 1, 0, 0, 2, 4, 2, 3, 2, 0, 0, 0, 4, 5, 1, 1, 0, 1, 0, 0, 1, 3,\n",
       "       5, 1, 2, 0, 2, 3, 0, 3, 4, 4, 2, 5, 3, 4, 2, 1, 2, 1, 3, 5, 2, 1,\n",
       "       2, 3, 4, 3, 4, 5, 1, 0, 0, 1, 5, 0, 5, 1, 4, 2, 2, 3, 3, 0, 2, 1,\n",
       "       4, 4, 5, 0, 3, 2, 4, 5, 1, 0, 1, 4, 3, 2, 2, 1, 0, 2, 3, 2, 4, 3,\n",
       "       1, 2, 4, 4, 3, 1, 2, 0, 0, 1, 4, 4, 2, 0, 1, 3, 1, 5, 3, 3, 3, 4,\n",
       "       5, 1, 1, 2, 1, 4, 4, 2, 1, 3], dtype=int8)"
      ]
     },
     "execution_count": 15,
     "metadata": {},
     "output_type": "execute_result"
    }
   ],
   "source": [
    "test_y_pred= sv.predict(test_x)\n",
    "test_y_pred"
   ]
  },
  {
   "cell_type": "code",
   "execution_count": 16,
   "metadata": {
    "execution": {
     "iopub.execute_input": "2023-02-26T15:26:02.778441Z",
     "iopub.status.busy": "2023-02-26T15:26:02.777207Z",
     "iopub.status.idle": "2023-02-26T15:26:02.790481Z",
     "shell.execute_reply": "2023-02-26T15:26:02.788442Z",
     "shell.execute_reply.started": "2023-02-26T15:26:02.778362Z"
    }
   },
   "outputs": [
    {
     "name": "stdout",
     "output_type": "stream",
     "text": [
      "Training Accuracy 0.9557134220072552\n",
      "Testing Accuracy 0.9415760869565217\n"
     ]
    }
   ],
   "source": [
    "\n",
    "print(\"Training Accuracy\",accuracy_score(train_y,train_y_pred))\n",
    "print(\"Testing Accuracy\", accuracy_score(test_y,test_y_pred))"
   ]
  },
  {
   "cell_type": "code",
   "execution_count": 17,
   "metadata": {},
   "outputs": [
    {
     "data": {
      "text/html": [
       "<div>\n",
       "<style scoped>\n",
       "    .dataframe tbody tr th:only-of-type {\n",
       "        vertical-align: middle;\n",
       "    }\n",
       "\n",
       "    .dataframe tbody tr th {\n",
       "        vertical-align: top;\n",
       "    }\n",
       "\n",
       "    .dataframe thead th {\n",
       "        text-align: right;\n",
       "    }\n",
       "</style>\n",
       "<table border=\"1\" class=\"dataframe\">\n",
       "  <thead>\n",
       "    <tr style=\"text-align: right;\">\n",
       "      <th></th>\n",
       "      <th>index</th>\n",
       "      <th>Model</th>\n",
       "      <th>Accuracy</th>\n",
       "      <th>Recall</th>\n",
       "      <th>Precision</th>\n",
       "      <th>fscore</th>\n",
       "    </tr>\n",
       "  </thead>\n",
       "  <tbody>\n",
       "    <tr>\n",
       "      <th>0</th>\n",
       "      <td>1</td>\n",
       "      <td>NormalSVM</td>\n",
       "      <td>0.941576</td>\n",
       "      <td>0.941576</td>\n",
       "      <td>0.941576</td>\n",
       "      <td>0.941576</td>\n",
       "    </tr>\n",
       "  </tbody>\n",
       "</table>\n",
       "</div>"
      ],
      "text/plain": [
       "  index      Model  Accuracy    Recall  Precision    fscore\n",
       "0     1  NormalSVM  0.941576  0.941576   0.941576  0.941576"
      ]
     },
     "execution_count": 17,
     "metadata": {},
     "output_type": "execute_result"
    }
   ],
   "source": [
    "## Metrics on testing data\n",
    "accuracy_svc=accuracy_score(test_y,test_y_pred)\n",
    "recall_svc=recall_score(test_y,test_y_pred,average='micro')\n",
    "precision_svc=precision_score(test_y,test_y_pred,average='micro')\n",
    "fscore_svc=f1_score(test_y,test_y_pred,average='micro')\n",
    "model_score = pd.DataFrame(columns = (\"index\",\"Model\",\"Accuracy\",'Recall','Precision','fscore'))\n",
    "model_score = model_score.append(pd.DataFrame({'index':[1],'Model':[\"NormalSVM\"],'Accuracy':[accuracy_svc],'Recall':[recall_svc],'Precision':[precision_svc],'fscore':[fscore_svc]}))\n",
    "model_score"
   ]
  },
  {
   "cell_type": "code",
   "execution_count": null,
   "metadata": {},
   "outputs": [],
   "source": []
  },
  {
   "cell_type": "code",
   "execution_count": 18,
   "metadata": {},
   "outputs": [
    {
     "data": {
      "text/plain": [
       "array([[148,   0,   0,   0,   0,   0],\n",
       "       [  2, 118,  22,   0,   0,   0],\n",
       "       [  0,  12, 119,   0,   0,   0],\n",
       "       [  0,   0,   0, 111,   1,   2],\n",
       "       [  0,   0,   0,   1, 107,   2],\n",
       "       [  0,   0,   0,   1,   0,  90]], dtype=int64)"
      ]
     },
     "execution_count": 18,
     "metadata": {},
     "output_type": "execute_result"
    }
   ],
   "source": [
    "\n",
    "confusion_matrix_svc=confusion_matrix(test_y,test_y_pred,labels=[0,1,2,3,4,5])\n",
    "confusion_matrix_svc"
   ]
  },
  {
   "cell_type": "code",
   "execution_count": null,
   "metadata": {},
   "outputs": [],
   "source": []
  },
  {
   "cell_type": "markdown",
   "metadata": {},
   "source": [
    "# Build SVM model using svm.SVC with Linear Kernel"
   ]
  },
  {
   "cell_type": "code",
   "execution_count": 19,
   "metadata": {
    "execution": {
     "iopub.execute_input": "2023-02-26T15:26:02.793028Z",
     "iopub.status.busy": "2023-02-26T15:26:02.792607Z",
     "iopub.status.idle": "2023-02-26T15:26:04.198977Z",
     "shell.execute_reply": "2023-02-26T15:26:04.197971Z",
     "shell.execute_reply.started": "2023-02-26T15:26:02.792995Z"
    }
   },
   "outputs": [
    {
     "data": {
      "text/plain": [
       "SVC(kernel='linear')"
      ]
     },
     "execution_count": 19,
     "metadata": {},
     "output_type": "execute_result"
    }
   ],
   "source": [
    "from sklearn.svm import SVC\n",
    "sv_1=SVC(kernel='linear')\n",
    "sv_1.fit(train_x,train_y)"
   ]
  },
  {
   "cell_type": "code",
   "execution_count": 20,
   "metadata": {
    "execution": {
     "iopub.execute_input": "2023-02-26T15:26:04.200921Z",
     "iopub.status.busy": "2023-02-26T15:26:04.200526Z",
     "iopub.status.idle": "2023-02-26T15:26:05.20115Z",
     "shell.execute_reply": "2023-02-26T15:26:05.199719Z",
     "shell.execute_reply.started": "2023-02-26T15:26:04.200884Z"
    }
   },
   "outputs": [
    {
     "data": {
      "text/plain": [
       "array([0, 2, 5, ..., 5, 1, 1], dtype=int8)"
      ]
     },
     "execution_count": 20,
     "metadata": {},
     "output_type": "execute_result"
    }
   ],
   "source": [
    "train_y_pred_1=sv_1.predict(train_x)\n",
    "train_y_pred_1"
   ]
  },
  {
   "cell_type": "code",
   "execution_count": 21,
   "metadata": {
    "execution": {
     "iopub.execute_input": "2023-02-26T15:26:05.204322Z",
     "iopub.status.busy": "2023-02-26T15:26:05.203001Z",
     "iopub.status.idle": "2023-02-26T15:26:05.332166Z",
     "shell.execute_reply": "2023-02-26T15:26:05.330885Z",
     "shell.execute_reply.started": "2023-02-26T15:26:05.204266Z"
    }
   },
   "outputs": [
    {
     "data": {
      "text/plain": [
       "array([0, 4, 1, 1, 3, 1, 1, 0, 5, 3, 4, 5, 4, 2, 0, 4, 0, 1, 4, 3, 3, 0,\n",
       "       4, 2, 5, 0, 2, 5, 0, 2, 4, 5, 2, 1, 0, 0, 2, 5, 3, 0, 2, 3, 2, 4,\n",
       "       1, 3, 3, 5, 2, 4, 0, 2, 1, 0, 3, 0, 4, 0, 3, 3, 5, 1, 0, 1, 0, 4,\n",
       "       2, 1, 0, 3, 3, 1, 1, 3, 4, 1, 3, 0, 3, 0, 4, 3, 5, 3, 2, 0, 0, 3,\n",
       "       1, 0, 1, 1, 0, 1, 2, 5, 3, 4, 3, 2, 1, 1, 2, 0, 5, 3, 1, 0, 5, 2,\n",
       "       3, 5, 3, 3, 0, 4, 2, 0, 2, 4, 0, 3, 0, 5, 5, 1, 1, 0, 3, 1, 5, 4,\n",
       "       1, 2, 5, 1, 0, 5, 5, 4, 1, 2, 1, 3, 5, 1, 3, 3, 2, 4, 2, 2, 2, 1,\n",
       "       4, 5, 5, 4, 3, 4, 1, 3, 0, 0, 2, 5, 4, 2, 3, 0, 4, 5, 2, 5, 2, 1,\n",
       "       2, 1, 0, 0, 0, 0, 2, 5, 4, 0, 4, 3, 2, 3, 5, 1, 2, 0, 0, 4, 0, 2,\n",
       "       3, 2, 5, 0, 1, 0, 1, 4, 3, 0, 0, 1, 5, 0, 0, 3, 1, 2, 2, 0, 5, 2,\n",
       "       5, 3, 3, 4, 3, 4, 2, 2, 0, 5, 5, 3, 4, 2, 5, 4, 0, 2, 2, 4, 3, 0,\n",
       "       0, 2, 0, 0, 5, 5, 5, 2, 0, 2, 5, 4, 0, 5, 2, 2, 4, 2, 4, 3, 0, 2,\n",
       "       5, 2, 3, 2, 3, 3, 0, 2, 2, 4, 0, 1, 5, 2, 5, 5, 4, 2, 0, 2, 0, 3,\n",
       "       1, 2, 5, 1, 4, 1, 5, 3, 0, 0, 4, 1, 0, 4, 5, 2, 4, 3, 2, 1, 4, 0,\n",
       "       3, 5, 5, 2, 1, 1, 4, 0, 2, 0, 1, 0, 3, 2, 0, 1, 3, 3, 4, 2, 1, 2,\n",
       "       0, 3, 4, 5, 3, 0, 1, 4, 0, 0, 1, 1, 5, 3, 5, 4, 4, 1, 5, 5, 1, 4,\n",
       "       2, 0, 2, 5, 0, 4, 2, 0, 5, 4, 4, 3, 1, 1, 3, 0, 2, 4, 2, 5, 3, 0,\n",
       "       2, 3, 4, 3, 2, 0, 1, 4, 1, 4, 0, 1, 1, 3, 3, 5, 0, 1, 2, 0, 1, 2,\n",
       "       2, 0, 1, 4, 0, 3, 2, 5, 5, 2, 0, 3, 2, 2, 1, 1, 1, 0, 1, 5, 0, 3,\n",
       "       1, 4, 1, 1, 2, 1, 1, 1, 4, 1, 3, 2, 1, 5, 1, 3, 2, 1, 4, 4, 0, 0,\n",
       "       3, 0, 0, 1, 3, 2, 1, 0, 2, 5, 0, 4, 3, 0, 4, 4, 4, 1, 3, 4, 0, 4,\n",
       "       0, 1, 0, 4, 4, 1, 3, 2, 2, 3, 5, 5, 2, 1, 1, 5, 0, 1, 5, 5, 2, 2,\n",
       "       2, 4, 4, 0, 0, 1, 2, 1, 4, 2, 1, 4, 2, 3, 2, 1, 5, 1, 1, 4, 4, 0,\n",
       "       0, 3, 4, 3, 2, 5, 2, 1, 3, 0, 2, 5, 0, 0, 0, 2, 3, 0, 0, 1, 5, 3,\n",
       "       1, 3, 0, 3, 2, 1, 2, 2, 3, 2, 0, 3, 1, 5, 5, 0, 0, 1, 4, 5, 0, 1,\n",
       "       0, 0, 3, 3, 1, 4, 0, 4, 1, 1, 4, 5, 0, 1, 0, 2, 3, 5, 0, 0, 4, 0,\n",
       "       2, 3, 0, 1, 1, 5, 1, 2, 4, 5, 5, 0, 2, 1, 3, 4, 0, 0, 1, 4, 2, 2,\n",
       "       1, 1, 2, 3, 2, 1, 4, 1, 0, 5, 3, 0, 2, 4, 3, 2, 3, 4, 2, 1, 3, 0,\n",
       "       5, 1, 0, 0, 2, 4, 1, 4, 1, 0, 0, 0, 4, 5, 1, 1, 0, 1, 0, 0, 1, 3,\n",
       "       5, 1, 2, 0, 2, 3, 0, 3, 4, 4, 2, 5, 3, 4, 2, 1, 2, 1, 3, 5, 2, 1,\n",
       "       2, 3, 4, 3, 4, 5, 1, 1, 0, 1, 5, 0, 5, 1, 4, 1, 1, 3, 3, 0, 1, 1,\n",
       "       4, 4, 5, 0, 3, 1, 4, 5, 1, 0, 1, 4, 3, 1, 2, 1, 0, 2, 3, 2, 4, 3,\n",
       "       1, 1, 4, 4, 3, 1, 2, 0, 0, 1, 4, 4, 2, 0, 1, 3, 2, 5, 3, 3, 3, 4,\n",
       "       5, 1, 1, 2, 1, 4, 4, 2, 1, 3], dtype=int8)"
      ]
     },
     "execution_count": 21,
     "metadata": {},
     "output_type": "execute_result"
    }
   ],
   "source": [
    "test_y_pred_1= sv_1.predict(test_x)\n",
    "test_y_pred_1"
   ]
  },
  {
   "cell_type": "code",
   "execution_count": 22,
   "metadata": {
    "execution": {
     "iopub.execute_input": "2023-02-26T15:26:05.335227Z",
     "iopub.status.busy": "2023-02-26T15:26:05.334314Z",
     "iopub.status.idle": "2023-02-26T15:26:05.343719Z",
     "shell.execute_reply": "2023-02-26T15:26:05.342484Z",
     "shell.execute_reply.started": "2023-02-26T15:26:05.33518Z"
    }
   },
   "outputs": [
    {
     "name": "stdout",
     "output_type": "stream",
     "text": [
      "Training Accuracy 0.9948609431680774\n",
      "Testing Accuracy 0.9864130434782609\n"
     ]
    }
   ],
   "source": [
    "print(\"Training Accuracy\",accuracy_score(train_y,train_y_pred_1))\n",
    "print(\"Testing Accuracy\", accuracy_score(test_y,test_y_pred_1))"
   ]
  },
  {
   "cell_type": "code",
   "execution_count": 23,
   "metadata": {},
   "outputs": [],
   "source": [
    "accuracy_svc_1=accuracy_score(test_y,test_y_pred_1)\n",
    "recall_svc_1=recall_score(test_y,test_y_pred_1,average='micro')\n",
    "precision_svc_1=precision_score(test_y,test_y_pred_1,average='micro')\n",
    "fscore_svc_1=f1_score(test_y,test_y_pred_1,average='micro')\n",
    "model_score = model_score.append(pd.DataFrame({'index':[1],'Model':[\"LinearSVM\"],'Accuracy':[accuracy_svc_1],'Recall':[recall_svc_1],'Precision':[precision_svc_1],'fscore':[fscore_svc_1]}))"
   ]
  },
  {
   "cell_type": "code",
   "execution_count": 24,
   "metadata": {},
   "outputs": [
    {
     "data": {
      "text/html": [
       "<div>\n",
       "<style scoped>\n",
       "    .dataframe tbody tr th:only-of-type {\n",
       "        vertical-align: middle;\n",
       "    }\n",
       "\n",
       "    .dataframe tbody tr th {\n",
       "        vertical-align: top;\n",
       "    }\n",
       "\n",
       "    .dataframe thead th {\n",
       "        text-align: right;\n",
       "    }\n",
       "</style>\n",
       "<table border=\"1\" class=\"dataframe\">\n",
       "  <thead>\n",
       "    <tr style=\"text-align: right;\">\n",
       "      <th></th>\n",
       "      <th>index</th>\n",
       "      <th>Model</th>\n",
       "      <th>Accuracy</th>\n",
       "      <th>Recall</th>\n",
       "      <th>Precision</th>\n",
       "      <th>fscore</th>\n",
       "    </tr>\n",
       "  </thead>\n",
       "  <tbody>\n",
       "    <tr>\n",
       "      <th>0</th>\n",
       "      <td>1</td>\n",
       "      <td>NormalSVM</td>\n",
       "      <td>0.941576</td>\n",
       "      <td>0.941576</td>\n",
       "      <td>0.941576</td>\n",
       "      <td>0.941576</td>\n",
       "    </tr>\n",
       "    <tr>\n",
       "      <th>0</th>\n",
       "      <td>1</td>\n",
       "      <td>LinearSVM</td>\n",
       "      <td>0.986413</td>\n",
       "      <td>0.986413</td>\n",
       "      <td>0.986413</td>\n",
       "      <td>0.986413</td>\n",
       "    </tr>\n",
       "  </tbody>\n",
       "</table>\n",
       "</div>"
      ],
      "text/plain": [
       "  index      Model  Accuracy    Recall  Precision    fscore\n",
       "0     1  NormalSVM  0.941576  0.941576   0.941576  0.941576\n",
       "0     1  LinearSVM  0.986413  0.986413   0.986413  0.986413"
      ]
     },
     "execution_count": 24,
     "metadata": {},
     "output_type": "execute_result"
    }
   ],
   "source": [
    "model_score"
   ]
  },
  {
   "cell_type": "code",
   "execution_count": 25,
   "metadata": {},
   "outputs": [
    {
     "data": {
      "text/plain": [
       "array([[148,   0,   0,   0,   0,   0],\n",
       "       [  0, 139,   3,   0,   0,   0],\n",
       "       [  0,   6, 125,   0,   0,   0],\n",
       "       [  0,   0,   0, 114,   0,   0],\n",
       "       [  0,   0,   0,   0, 109,   1],\n",
       "       [  0,   0,   0,   0,   0,  91]], dtype=int64)"
      ]
     },
     "execution_count": 25,
     "metadata": {},
     "output_type": "execute_result"
    }
   ],
   "source": [
    "\n",
    "confusion_matrix_svc_1=confusion_matrix(test_y,test_y_pred_1,labels=[0,1,2,3,4,5])\n",
    "confusion_matrix_svc_1"
   ]
  },
  {
   "cell_type": "code",
   "execution_count": null,
   "metadata": {},
   "outputs": [],
   "source": []
  },
  {
   "cell_type": "markdown",
   "metadata": {},
   "source": [
    "# Build SVM model using svm.SVC with Polynomial kernel"
   ]
  },
  {
   "cell_type": "code",
   "execution_count": 26,
   "metadata": {
    "execution": {
     "iopub.execute_input": "2023-02-26T15:26:05.346767Z",
     "iopub.status.busy": "2023-02-26T15:26:05.345857Z",
     "iopub.status.idle": "2023-02-26T15:26:08.569032Z",
     "shell.execute_reply": "2023-02-26T15:26:08.5677Z",
     "shell.execute_reply.started": "2023-02-26T15:26:05.346713Z"
    }
   },
   "outputs": [
    {
     "data": {
      "text/plain": [
       "SVC(kernel='poly')"
      ]
     },
     "execution_count": 26,
     "metadata": {},
     "output_type": "execute_result"
    }
   ],
   "source": [
    "sv_2=SVC(kernel='poly')\n",
    "sv_2.fit(train_x,train_y)"
   ]
  },
  {
   "cell_type": "code",
   "execution_count": 27,
   "metadata": {
    "execution": {
     "iopub.execute_input": "2023-02-26T15:26:08.571355Z",
     "iopub.status.busy": "2023-02-26T15:26:08.570906Z",
     "iopub.status.idle": "2023-02-26T15:26:15.542052Z",
     "shell.execute_reply": "2023-02-26T15:26:15.540699Z",
     "shell.execute_reply.started": "2023-02-26T15:26:08.571318Z"
    }
   },
   "outputs": [],
   "source": [
    "train_y_pred_2=sv_2.predict(train_x)"
   ]
  },
  {
   "cell_type": "code",
   "execution_count": 28,
   "metadata": {
    "execution": {
     "iopub.execute_input": "2023-02-26T15:26:15.544357Z",
     "iopub.status.busy": "2023-02-26T15:26:15.543939Z",
     "iopub.status.idle": "2023-02-26T15:26:16.283249Z",
     "shell.execute_reply": "2023-02-26T15:26:16.281653Z",
     "shell.execute_reply.started": "2023-02-26T15:26:15.544322Z"
    }
   },
   "outputs": [],
   "source": [
    "test_y_pred_2= sv_2.predict(test_x)"
   ]
  },
  {
   "cell_type": "code",
   "execution_count": 29,
   "metadata": {
    "execution": {
     "iopub.execute_input": "2023-02-26T15:26:16.288358Z",
     "iopub.status.busy": "2023-02-26T15:26:16.287877Z",
     "iopub.status.idle": "2023-02-26T15:26:16.298166Z",
     "shell.execute_reply": "2023-02-26T15:26:16.296507Z",
     "shell.execute_reply.started": "2023-02-26T15:26:16.288322Z"
    }
   },
   "outputs": [
    {
     "name": "stdout",
     "output_type": "stream",
     "text": [
      "Training Accuracy 0.9563180169286578\n",
      "Testing Accuracy 0.9483695652173914\n"
     ]
    }
   ],
   "source": [
    "print(\"Training Accuracy\",accuracy_score(train_y,train_y_pred_2))\n",
    "print(\"Testing Accuracy\", accuracy_score(test_y,test_y_pred_2))"
   ]
  },
  {
   "cell_type": "code",
   "execution_count": 30,
   "metadata": {},
   "outputs": [
    {
     "data": {
      "text/plain": [
       "array([[148,   0,   0,   0,   0,   0],\n",
       "       [  1, 128,  13,   0,   0,   0],\n",
       "       [  0,   7, 124,   0,   0,   0],\n",
       "       [  0,   0,   0, 113,   0,   1],\n",
       "       [  0,   0,   0,  12,  97,   1],\n",
       "       [  0,   0,   0,   3,   0,  88]], dtype=int64)"
      ]
     },
     "execution_count": 30,
     "metadata": {},
     "output_type": "execute_result"
    }
   ],
   "source": [
    "\n",
    "confusion_matrix_svc_2=confusion_matrix(test_y,test_y_pred_2,labels=[0,1,2,3,4,5])\n",
    "confusion_matrix_svc_2"
   ]
  },
  {
   "cell_type": "code",
   "execution_count": 31,
   "metadata": {},
   "outputs": [],
   "source": [
    "accuracy_svc_2=accuracy_score(test_y,test_y_pred_2)\n",
    "recall_svc_2=recall_score(test_y,test_y_pred_2,average='micro')\n",
    "precision_svc_2=precision_score(test_y,test_y_pred_2,average='micro')\n",
    "fscore_svc_2=f1_score(test_y,test_y_pred_2,average='micro')\n",
    "model_score = model_score.append(pd.DataFrame({'index':[1],'Model':[\"PolySVM\"],'Accuracy':[accuracy_svc_2],'Recall':[recall_svc_2],'Precision':[precision_svc_2],'fscore':[fscore_svc_2]}))"
   ]
  },
  {
   "cell_type": "code",
   "execution_count": 32,
   "metadata": {},
   "outputs": [
    {
     "data": {
      "text/html": [
       "<div>\n",
       "<style scoped>\n",
       "    .dataframe tbody tr th:only-of-type {\n",
       "        vertical-align: middle;\n",
       "    }\n",
       "\n",
       "    .dataframe tbody tr th {\n",
       "        vertical-align: top;\n",
       "    }\n",
       "\n",
       "    .dataframe thead th {\n",
       "        text-align: right;\n",
       "    }\n",
       "</style>\n",
       "<table border=\"1\" class=\"dataframe\">\n",
       "  <thead>\n",
       "    <tr style=\"text-align: right;\">\n",
       "      <th></th>\n",
       "      <th>index</th>\n",
       "      <th>Model</th>\n",
       "      <th>Accuracy</th>\n",
       "      <th>Recall</th>\n",
       "      <th>Precision</th>\n",
       "      <th>fscore</th>\n",
       "    </tr>\n",
       "  </thead>\n",
       "  <tbody>\n",
       "    <tr>\n",
       "      <th>0</th>\n",
       "      <td>1</td>\n",
       "      <td>NormalSVM</td>\n",
       "      <td>0.941576</td>\n",
       "      <td>0.941576</td>\n",
       "      <td>0.941576</td>\n",
       "      <td>0.941576</td>\n",
       "    </tr>\n",
       "    <tr>\n",
       "      <th>0</th>\n",
       "      <td>1</td>\n",
       "      <td>LinearSVM</td>\n",
       "      <td>0.986413</td>\n",
       "      <td>0.986413</td>\n",
       "      <td>0.986413</td>\n",
       "      <td>0.986413</td>\n",
       "    </tr>\n",
       "    <tr>\n",
       "      <th>0</th>\n",
       "      <td>1</td>\n",
       "      <td>PolySVM</td>\n",
       "      <td>0.948370</td>\n",
       "      <td>0.948370</td>\n",
       "      <td>0.948370</td>\n",
       "      <td>0.948370</td>\n",
       "    </tr>\n",
       "  </tbody>\n",
       "</table>\n",
       "</div>"
      ],
      "text/plain": [
       "  index      Model  Accuracy    Recall  Precision    fscore\n",
       "0     1  NormalSVM  0.941576  0.941576   0.941576  0.941576\n",
       "0     1  LinearSVM  0.986413  0.986413   0.986413  0.986413\n",
       "0     1    PolySVM  0.948370  0.948370   0.948370  0.948370"
      ]
     },
     "execution_count": 32,
     "metadata": {},
     "output_type": "execute_result"
    }
   ],
   "source": [
    "model_score"
   ]
  },
  {
   "cell_type": "markdown",
   "metadata": {},
   "source": [
    "# Build SVM model using svm.SVC with Sigmoid kernel\n",
    "# "
   ]
  },
  {
   "cell_type": "code",
   "execution_count": 33,
   "metadata": {
    "execution": {
     "iopub.execute_input": "2023-02-26T15:26:16.300751Z",
     "iopub.status.busy": "2023-02-26T15:26:16.300269Z",
     "iopub.status.idle": "2023-02-26T15:26:27.726864Z",
     "shell.execute_reply": "2023-02-26T15:26:27.72535Z",
     "shell.execute_reply.started": "2023-02-26T15:26:16.300713Z"
    }
   },
   "outputs": [
    {
     "data": {
      "text/plain": [
       "SVC(kernel='sigmoid')"
      ]
     },
     "execution_count": 33,
     "metadata": {},
     "output_type": "execute_result"
    }
   ],
   "source": [
    "sv_3=SVC(kernel='sigmoid')\n",
    "sv_3.fit(train_x,train_y)"
   ]
  },
  {
   "cell_type": "code",
   "execution_count": 34,
   "metadata": {
    "execution": {
     "iopub.execute_input": "2023-02-26T15:26:27.729903Z",
     "iopub.status.busy": "2023-02-26T15:26:27.728555Z",
     "iopub.status.idle": "2023-02-26T15:26:45.823233Z",
     "shell.execute_reply": "2023-02-26T15:26:45.821717Z",
     "shell.execute_reply.started": "2023-02-26T15:26:27.72986Z"
    }
   },
   "outputs": [],
   "source": [
    "train_y_pred_3=sv_3.predict(train_x)"
   ]
  },
  {
   "cell_type": "code",
   "execution_count": 35,
   "metadata": {
    "execution": {
     "iopub.execute_input": "2023-02-26T15:26:45.82525Z",
     "iopub.status.busy": "2023-02-26T15:26:45.824857Z",
     "iopub.status.idle": "2023-02-26T15:26:47.927379Z",
     "shell.execute_reply": "2023-02-26T15:26:47.925745Z",
     "shell.execute_reply.started": "2023-02-26T15:26:45.825215Z"
    }
   },
   "outputs": [],
   "source": [
    "test_y_pred_3= sv_3.predict(test_x)"
   ]
  },
  {
   "cell_type": "code",
   "execution_count": 36,
   "metadata": {
    "execution": {
     "iopub.execute_input": "2023-02-26T15:26:47.933678Z",
     "iopub.status.busy": "2023-02-26T15:26:47.933256Z",
     "iopub.status.idle": "2023-02-26T15:26:47.943753Z",
     "shell.execute_reply": "2023-02-26T15:26:47.941706Z",
     "shell.execute_reply.started": "2023-02-26T15:26:47.933645Z"
    }
   },
   "outputs": [
    {
     "name": "stdout",
     "output_type": "stream",
     "text": [
      "Training Accuracy 0.3464328899637243\n",
      "Testing Accuracy 0.35054347826086957\n"
     ]
    }
   ],
   "source": [
    "print(\"Training Accuracy\",accuracy_score(train_y,train_y_pred_3))\n",
    "print(\"Testing Accuracy\", accuracy_score(test_y,test_y_pred_3))"
   ]
  },
  {
   "cell_type": "code",
   "execution_count": 37,
   "metadata": {},
   "outputs": [
    {
     "data": {
      "text/html": [
       "<div>\n",
       "<style scoped>\n",
       "    .dataframe tbody tr th:only-of-type {\n",
       "        vertical-align: middle;\n",
       "    }\n",
       "\n",
       "    .dataframe tbody tr th {\n",
       "        vertical-align: top;\n",
       "    }\n",
       "\n",
       "    .dataframe thead th {\n",
       "        text-align: right;\n",
       "    }\n",
       "</style>\n",
       "<table border=\"1\" class=\"dataframe\">\n",
       "  <thead>\n",
       "    <tr style=\"text-align: right;\">\n",
       "      <th></th>\n",
       "      <th>index</th>\n",
       "      <th>Model</th>\n",
       "      <th>Accuracy</th>\n",
       "      <th>Recall</th>\n",
       "      <th>Precision</th>\n",
       "      <th>fscore</th>\n",
       "    </tr>\n",
       "  </thead>\n",
       "  <tbody>\n",
       "    <tr>\n",
       "      <th>0</th>\n",
       "      <td>1</td>\n",
       "      <td>NormalSVM</td>\n",
       "      <td>0.941576</td>\n",
       "      <td>0.941576</td>\n",
       "      <td>0.941576</td>\n",
       "      <td>0.941576</td>\n",
       "    </tr>\n",
       "    <tr>\n",
       "      <th>0</th>\n",
       "      <td>1</td>\n",
       "      <td>LinearSVM</td>\n",
       "      <td>0.986413</td>\n",
       "      <td>0.986413</td>\n",
       "      <td>0.986413</td>\n",
       "      <td>0.986413</td>\n",
       "    </tr>\n",
       "    <tr>\n",
       "      <th>0</th>\n",
       "      <td>1</td>\n",
       "      <td>PolySVM</td>\n",
       "      <td>0.948370</td>\n",
       "      <td>0.948370</td>\n",
       "      <td>0.948370</td>\n",
       "      <td>0.948370</td>\n",
       "    </tr>\n",
       "    <tr>\n",
       "      <th>0</th>\n",
       "      <td>1</td>\n",
       "      <td>SigmoidSVM</td>\n",
       "      <td>0.350543</td>\n",
       "      <td>0.350543</td>\n",
       "      <td>0.350543</td>\n",
       "      <td>0.350543</td>\n",
       "    </tr>\n",
       "  </tbody>\n",
       "</table>\n",
       "</div>"
      ],
      "text/plain": [
       "  index       Model  Accuracy    Recall  Precision    fscore\n",
       "0     1   NormalSVM  0.941576  0.941576   0.941576  0.941576\n",
       "0     1   LinearSVM  0.986413  0.986413   0.986413  0.986413\n",
       "0     1     PolySVM  0.948370  0.948370   0.948370  0.948370\n",
       "0     1  SigmoidSVM  0.350543  0.350543   0.350543  0.350543"
      ]
     },
     "execution_count": 37,
     "metadata": {},
     "output_type": "execute_result"
    }
   ],
   "source": [
    "accuracy_svc_3=accuracy_score(test_y,test_y_pred_3)\n",
    "recall_svc_3=recall_score(test_y,test_y_pred_3,average='micro')\n",
    "precision_svc_3=precision_score(test_y,test_y_pred_3,average='micro')\n",
    "fscore_svc_3=f1_score(test_y,test_y_pred_3,average='micro')\n",
    "model_score = model_score.append(pd.DataFrame({'index':[1],'Model':['SigmoidSVM'],'Accuracy':[accuracy_svc_3],'Recall':[recall_svc_3],'Precision':[precision_svc_3],'fscore':[fscore_svc_3]}))\n",
    "model_score"
   ]
  },
  {
   "cell_type": "code",
   "execution_count": 38,
   "metadata": {},
   "outputs": [
    {
     "data": {
      "text/plain": [
       "array([[47, 53,  9, 39,  0,  0],\n",
       "       [ 0, 77, 23, 42,  0,  0],\n",
       "       [ 1, 54, 26, 50,  0,  0],\n",
       "       [ 1, 38,  0, 58,  0, 17],\n",
       "       [ 1, 14,  0, 53, 29, 13],\n",
       "       [ 0, 28,  0, 42,  0, 21]], dtype=int64)"
      ]
     },
     "execution_count": 38,
     "metadata": {},
     "output_type": "execute_result"
    }
   ],
   "source": [
    "confusion_matrix_svc_3=confusion_matrix(test_y,test_y_pred_3,labels=[0,1,2,3,4,5])\n",
    "confusion_matrix_svc_3"
   ]
  },
  {
   "cell_type": "markdown",
   "metadata": {},
   "source": [
    "# Build SVM model using svm.SVC with Sigmoid kernel and gamma as auto"
   ]
  },
  {
   "cell_type": "code",
   "execution_count": 39,
   "metadata": {
    "execution": {
     "iopub.execute_input": "2023-02-26T15:26:47.946273Z",
     "iopub.status.busy": "2023-02-26T15:26:47.945808Z",
     "iopub.status.idle": "2023-02-26T15:27:00.196203Z",
     "shell.execute_reply": "2023-02-26T15:27:00.194566Z",
     "shell.execute_reply.started": "2023-02-26T15:26:47.946238Z"
    }
   },
   "outputs": [
    {
     "data": {
      "text/plain": [
       "SVC(gamma='auto', kernel='sigmoid')"
      ]
     },
     "execution_count": 39,
     "metadata": {},
     "output_type": "execute_result"
    }
   ],
   "source": [
    "sv_4=SVC(kernel='sigmoid',gamma='auto')\n",
    "sv_4.fit(train_x,train_y)"
   ]
  },
  {
   "cell_type": "code",
   "execution_count": 40,
   "metadata": {
    "execution": {
     "iopub.execute_input": "2023-02-26T15:27:00.199205Z",
     "iopub.status.busy": "2023-02-26T15:27:00.197961Z",
     "iopub.status.idle": "2023-02-26T15:27:20.544341Z",
     "shell.execute_reply": "2023-02-26T15:27:20.542849Z",
     "shell.execute_reply.started": "2023-02-26T15:27:00.199162Z"
    }
   },
   "outputs": [],
   "source": [
    "train_y_pred_4=sv_4.predict(train_x)\n",
    "test_y_pred_4= sv_4.predict(test_x)"
   ]
  },
  {
   "cell_type": "code",
   "execution_count": 41,
   "metadata": {
    "execution": {
     "iopub.execute_input": "2023-02-26T15:27:20.546614Z",
     "iopub.status.busy": "2023-02-26T15:27:20.545943Z",
     "iopub.status.idle": "2023-02-26T15:27:20.557722Z",
     "shell.execute_reply": "2023-02-26T15:27:20.555825Z",
     "shell.execute_reply.started": "2023-02-26T15:27:20.546565Z"
    }
   },
   "outputs": [
    {
     "name": "stdout",
     "output_type": "stream",
     "text": [
      "Training Accuracy 0.3482466747279323\n",
      "Testing Accuracy 0.35054347826086957\n"
     ]
    }
   ],
   "source": [
    "print(\"Training Accuracy\",accuracy_score(train_y,train_y_pred_4))\n",
    "print(\"Testing Accuracy\", accuracy_score(test_y,test_y_pred_4))"
   ]
  },
  {
   "cell_type": "code",
   "execution_count": 42,
   "metadata": {},
   "outputs": [
    {
     "data": {
      "text/html": [
       "<div>\n",
       "<style scoped>\n",
       "    .dataframe tbody tr th:only-of-type {\n",
       "        vertical-align: middle;\n",
       "    }\n",
       "\n",
       "    .dataframe tbody tr th {\n",
       "        vertical-align: top;\n",
       "    }\n",
       "\n",
       "    .dataframe thead th {\n",
       "        text-align: right;\n",
       "    }\n",
       "</style>\n",
       "<table border=\"1\" class=\"dataframe\">\n",
       "  <thead>\n",
       "    <tr style=\"text-align: right;\">\n",
       "      <th></th>\n",
       "      <th>index</th>\n",
       "      <th>Model</th>\n",
       "      <th>Accuracy</th>\n",
       "      <th>Recall</th>\n",
       "      <th>Precision</th>\n",
       "      <th>fscore</th>\n",
       "    </tr>\n",
       "  </thead>\n",
       "  <tbody>\n",
       "    <tr>\n",
       "      <th>0</th>\n",
       "      <td>1</td>\n",
       "      <td>NormalSVM</td>\n",
       "      <td>0.941576</td>\n",
       "      <td>0.941576</td>\n",
       "      <td>0.941576</td>\n",
       "      <td>0.941576</td>\n",
       "    </tr>\n",
       "    <tr>\n",
       "      <th>0</th>\n",
       "      <td>1</td>\n",
       "      <td>LinearSVM</td>\n",
       "      <td>0.986413</td>\n",
       "      <td>0.986413</td>\n",
       "      <td>0.986413</td>\n",
       "      <td>0.986413</td>\n",
       "    </tr>\n",
       "    <tr>\n",
       "      <th>0</th>\n",
       "      <td>1</td>\n",
       "      <td>PolySVM</td>\n",
       "      <td>0.948370</td>\n",
       "      <td>0.948370</td>\n",
       "      <td>0.948370</td>\n",
       "      <td>0.948370</td>\n",
       "    </tr>\n",
       "    <tr>\n",
       "      <th>0</th>\n",
       "      <td>1</td>\n",
       "      <td>SigmoidSVM</td>\n",
       "      <td>0.350543</td>\n",
       "      <td>0.350543</td>\n",
       "      <td>0.350543</td>\n",
       "      <td>0.350543</td>\n",
       "    </tr>\n",
       "    <tr>\n",
       "      <th>0</th>\n",
       "      <td>1</td>\n",
       "      <td>SigmoidautoSVM</td>\n",
       "      <td>0.350543</td>\n",
       "      <td>0.350543</td>\n",
       "      <td>0.350543</td>\n",
       "      <td>0.350543</td>\n",
       "    </tr>\n",
       "  </tbody>\n",
       "</table>\n",
       "</div>"
      ],
      "text/plain": [
       "  index           Model  Accuracy    Recall  Precision    fscore\n",
       "0     1       NormalSVM  0.941576  0.941576   0.941576  0.941576\n",
       "0     1       LinearSVM  0.986413  0.986413   0.986413  0.986413\n",
       "0     1         PolySVM  0.948370  0.948370   0.948370  0.948370\n",
       "0     1      SigmoidSVM  0.350543  0.350543   0.350543  0.350543\n",
       "0     1  SigmoidautoSVM  0.350543  0.350543   0.350543  0.350543"
      ]
     },
     "execution_count": 42,
     "metadata": {},
     "output_type": "execute_result"
    }
   ],
   "source": [
    "accuracy_svc_4=accuracy_score(test_y,test_y_pred_4)\n",
    "recall_svc_4=recall_score(test_y,test_y_pred_4,average='micro')\n",
    "precision_svc_4=precision_score(test_y,test_y_pred_4,average='micro')\n",
    "fscore_svc_4=f1_score(test_y,test_y_pred_4,average='micro')\n",
    "model_score = model_score.append(pd.DataFrame({'index':[1],'Model':['SigmoidautoSVM'],'Accuracy':[accuracy_svc_4],'Recall':[recall_svc_4],'Precision':[precision_svc_4],'fscore':[fscore_svc_4]}))\n",
    "model_score"
   ]
  },
  {
   "cell_type": "code",
   "execution_count": 43,
   "metadata": {},
   "outputs": [
    {
     "data": {
      "text/plain": [
       "array([[47, 53,  9, 39,  0,  0],\n",
       "       [ 0, 77, 23, 42,  0,  0],\n",
       "       [ 1, 54, 26, 50,  0,  0],\n",
       "       [ 1, 38,  0, 58,  0, 17],\n",
       "       [ 1, 14,  0, 53, 29, 13],\n",
       "       [ 0, 28,  0, 42,  0, 21]], dtype=int64)"
      ]
     },
     "execution_count": 43,
     "metadata": {},
     "output_type": "execute_result"
    }
   ],
   "source": [
    "confusion_matrix_svc_4=confusion_matrix(test_y,test_y_pred_4,labels=[0,1,2,3,4,5])\n",
    "confusion_matrix_svc_4"
   ]
  },
  {
   "cell_type": "code",
   "execution_count": 44,
   "metadata": {},
   "outputs": [
    {
     "data": {
      "text/html": [
       "<div>\n",
       "<style scoped>\n",
       "    .dataframe tbody tr th:only-of-type {\n",
       "        vertical-align: middle;\n",
       "    }\n",
       "\n",
       "    .dataframe tbody tr th {\n",
       "        vertical-align: top;\n",
       "    }\n",
       "\n",
       "    .dataframe thead th {\n",
       "        text-align: right;\n",
       "    }\n",
       "</style>\n",
       "<table border=\"1\" class=\"dataframe\">\n",
       "  <thead>\n",
       "    <tr style=\"text-align: right;\">\n",
       "      <th></th>\n",
       "      <th>index</th>\n",
       "      <th>Model</th>\n",
       "      <th>Accuracy</th>\n",
       "      <th>Recall</th>\n",
       "      <th>Precision</th>\n",
       "      <th>fscore</th>\n",
       "    </tr>\n",
       "  </thead>\n",
       "  <tbody>\n",
       "    <tr>\n",
       "      <th>0</th>\n",
       "      <td>1</td>\n",
       "      <td>NormalSVM</td>\n",
       "      <td>0.941576</td>\n",
       "      <td>0.941576</td>\n",
       "      <td>0.941576</td>\n",
       "      <td>0.941576</td>\n",
       "    </tr>\n",
       "    <tr>\n",
       "      <th>0</th>\n",
       "      <td>1</td>\n",
       "      <td>LinearSVM</td>\n",
       "      <td>0.986413</td>\n",
       "      <td>0.986413</td>\n",
       "      <td>0.986413</td>\n",
       "      <td>0.986413</td>\n",
       "    </tr>\n",
       "    <tr>\n",
       "      <th>0</th>\n",
       "      <td>1</td>\n",
       "      <td>PolySVM</td>\n",
       "      <td>0.948370</td>\n",
       "      <td>0.948370</td>\n",
       "      <td>0.948370</td>\n",
       "      <td>0.948370</td>\n",
       "    </tr>\n",
       "    <tr>\n",
       "      <th>0</th>\n",
       "      <td>1</td>\n",
       "      <td>SigmoidSVM</td>\n",
       "      <td>0.350543</td>\n",
       "      <td>0.350543</td>\n",
       "      <td>0.350543</td>\n",
       "      <td>0.350543</td>\n",
       "    </tr>\n",
       "    <tr>\n",
       "      <th>0</th>\n",
       "      <td>1</td>\n",
       "      <td>SigmoidautoSVM</td>\n",
       "      <td>0.350543</td>\n",
       "      <td>0.350543</td>\n",
       "      <td>0.350543</td>\n",
       "      <td>0.350543</td>\n",
       "    </tr>\n",
       "  </tbody>\n",
       "</table>\n",
       "</div>"
      ],
      "text/plain": [
       "  index           Model  Accuracy    Recall  Precision    fscore\n",
       "0     1       NormalSVM  0.941576  0.941576   0.941576  0.941576\n",
       "0     1       LinearSVM  0.986413  0.986413   0.986413  0.986413\n",
       "0     1         PolySVM  0.948370  0.948370   0.948370  0.948370\n",
       "0     1      SigmoidSVM  0.350543  0.350543   0.350543  0.350543\n",
       "0     1  SigmoidautoSVM  0.350543  0.350543   0.350543  0.350543"
      ]
     },
     "execution_count": 44,
     "metadata": {},
     "output_type": "execute_result"
    }
   ],
   "source": [
    "##final comparison between kernels and svm models\n",
    "model_score"
   ]
  },
  {
   "cell_type": "code",
   "execution_count": 45,
   "metadata": {},
   "outputs": [
    {
     "name": "stdout",
     "output_type": "stream",
     "text": [
      "Therefore LinearSVM is best among the kernels with accuracy of 0.983696.\n"
     ]
    }
   ],
   "source": [
    "print(\"Therefore LinearSVM is best among the kernels with accuracy of 0.983696.\")"
   ]
  },
  {
   "cell_type": "code",
   "execution_count": null,
   "metadata": {},
   "outputs": [],
   "source": []
  },
  {
   "cell_type": "code",
   "execution_count": null,
   "metadata": {},
   "outputs": [],
   "source": []
  },
  {
   "cell_type": "code",
   "execution_count": null,
   "metadata": {},
   "outputs": [],
   "source": []
  },
  {
   "cell_type": "code",
   "execution_count": null,
   "metadata": {},
   "outputs": [],
   "source": []
  }
 ],
 "metadata": {
  "kernelspec": {
   "display_name": "Python 3",
   "language": "python",
   "name": "python3"
  },
  "language_info": {
   "codemirror_mode": {
    "name": "ipython",
    "version": 3
   },
   "file_extension": ".py",
   "mimetype": "text/x-python",
   "name": "python",
   "nbconvert_exporter": "python",
   "pygments_lexer": "ipython3",
   "version": "3.8.8"
  }
 },
 "nbformat": 4,
 "nbformat_minor": 4
}
