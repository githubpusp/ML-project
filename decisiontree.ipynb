{
  "cells": [
    {
      "cell_type": "markdown",
      "metadata": {
        "id": "view-in-github",
        "colab_type": "text"
      },
      "source": [
        "<a href=\"https://colab.research.google.com/github/30kirtana/ML-project/blob/main/decisiontree.ipynb\" target=\"_parent\"><img src=\"https://colab.research.google.com/assets/colab-badge.svg\" alt=\"Open In Colab\"/></a>"
      ]
    },
    {
      "cell_type": "markdown",
      "id": "12fed013",
      "metadata": {
        "papermill": {
          "duration": 0.00765,
          "end_time": "2023-02-07T07:36:22.216790",
          "exception": false,
          "start_time": "2023-02-07T07:36:22.209140",
          "status": "completed"
        },
        "tags": [],
        "id": "12fed013"
      },
      "source": [
        "# Decision Tree Classifier"
      ]
    },
    {
      "cell_type": "code",
      "execution_count": 36,
      "id": "7d875b91",
      "metadata": {
        "execution": {
          "iopub.execute_input": "2023-02-07T07:36:22.231895Z",
          "iopub.status.busy": "2023-02-07T07:36:22.231322Z",
          "iopub.status.idle": "2023-02-07T07:36:23.802750Z",
          "shell.execute_reply": "2023-02-07T07:36:23.801147Z"
        },
        "papermill": {
          "duration": 1.583358,
          "end_time": "2023-02-07T07:36:23.806565",
          "exception": false,
          "start_time": "2023-02-07T07:36:22.223207",
          "status": "completed"
        },
        "tags": [],
        "colab": {
          "base_uri": "https://localhost:8080/",
          "height": 317
        },
        "id": "7d875b91",
        "outputId": "2f6406d6-f919-439a-b4dc-564ff8d02d25"
      },
      "outputs": [
        {
          "output_type": "execute_result",
          "data": {
            "text/plain": [
              "   tBodyAcc-mean()-X  tBodyAcc-mean()-Y  tBodyAcc-mean()-Z  tBodyAcc-std()-X  \\\n",
              "0           0.288585          -0.020294          -0.132905         -0.995279   \n",
              "1           0.278419          -0.016411          -0.123520         -0.998245   \n",
              "2           0.279653          -0.019467          -0.113462         -0.995380   \n",
              "3           0.279174          -0.026201          -0.123283         -0.996091   \n",
              "4           0.276629          -0.016570          -0.115362         -0.998139   \n",
              "\n",
              "   tBodyAcc-std()-Y  tBodyAcc-std()-Z  tBodyAcc-mad()-X  tBodyAcc-mad()-Y  \\\n",
              "0         -0.983111         -0.913526         -0.995112         -0.983185   \n",
              "1         -0.975300         -0.960322         -0.998807         -0.974914   \n",
              "2         -0.967187         -0.978944         -0.996520         -0.963668   \n",
              "3         -0.983403         -0.990675         -0.997099         -0.982750   \n",
              "4         -0.980817         -0.990482         -0.998321         -0.979672   \n",
              "\n",
              "   tBodyAcc-mad()-Z  tBodyAcc-max()-X  ...  fBodyBodyGyroJerkMag-kurtosis()  \\\n",
              "0         -0.923527         -0.934724  ...                        -0.710304   \n",
              "1         -0.957686         -0.943068  ...                        -0.861499   \n",
              "2         -0.977469         -0.938692  ...                        -0.760104   \n",
              "3         -0.989302         -0.938692  ...                        -0.482845   \n",
              "4         -0.990441         -0.942469  ...                        -0.699205   \n",
              "\n",
              "   angle(tBodyAccMean,gravity)  angle(tBodyAccJerkMean),gravityMean)  \\\n",
              "0                    -0.112754                              0.030400   \n",
              "1                     0.053477                             -0.007435   \n",
              "2                    -0.118559                              0.177899   \n",
              "3                    -0.036788                             -0.012892   \n",
              "4                     0.123320                              0.122542   \n",
              "\n",
              "   angle(tBodyGyroMean,gravityMean)  angle(tBodyGyroJerkMean,gravityMean)  \\\n",
              "0                         -0.464761                             -0.018446   \n",
              "1                         -0.732626                              0.703511   \n",
              "2                          0.100699                              0.808529   \n",
              "3                          0.640011                             -0.485366   \n",
              "4                          0.693578                             -0.615971   \n",
              "\n",
              "   angle(X,gravityMean)  angle(Y,gravityMean)  angle(Z,gravityMean)  subject  \\\n",
              "0             -0.841247              0.179941             -0.058627        1   \n",
              "1             -0.844788              0.180289             -0.054317        1   \n",
              "2             -0.848933              0.180637             -0.049118        1   \n",
              "3             -0.848649              0.181935             -0.047663        1   \n",
              "4             -0.847865              0.185151             -0.043892        1   \n",
              "\n",
              "   Activity  \n",
              "0  STANDING  \n",
              "1  STANDING  \n",
              "2  STANDING  \n",
              "3  STANDING  \n",
              "4  STANDING  \n",
              "\n",
              "[5 rows x 563 columns]"
            ],
            "text/html": [
              "\n",
              "  <div id=\"df-3c09603d-0a61-42e9-b151-d8b46cecaf07\">\n",
              "    <div class=\"colab-df-container\">\n",
              "      <div>\n",
              "<style scoped>\n",
              "    .dataframe tbody tr th:only-of-type {\n",
              "        vertical-align: middle;\n",
              "    }\n",
              "\n",
              "    .dataframe tbody tr th {\n",
              "        vertical-align: top;\n",
              "    }\n",
              "\n",
              "    .dataframe thead th {\n",
              "        text-align: right;\n",
              "    }\n",
              "</style>\n",
              "<table border=\"1\" class=\"dataframe\">\n",
              "  <thead>\n",
              "    <tr style=\"text-align: right;\">\n",
              "      <th></th>\n",
              "      <th>tBodyAcc-mean()-X</th>\n",
              "      <th>tBodyAcc-mean()-Y</th>\n",
              "      <th>tBodyAcc-mean()-Z</th>\n",
              "      <th>tBodyAcc-std()-X</th>\n",
              "      <th>tBodyAcc-std()-Y</th>\n",
              "      <th>tBodyAcc-std()-Z</th>\n",
              "      <th>tBodyAcc-mad()-X</th>\n",
              "      <th>tBodyAcc-mad()-Y</th>\n",
              "      <th>tBodyAcc-mad()-Z</th>\n",
              "      <th>tBodyAcc-max()-X</th>\n",
              "      <th>...</th>\n",
              "      <th>fBodyBodyGyroJerkMag-kurtosis()</th>\n",
              "      <th>angle(tBodyAccMean,gravity)</th>\n",
              "      <th>angle(tBodyAccJerkMean),gravityMean)</th>\n",
              "      <th>angle(tBodyGyroMean,gravityMean)</th>\n",
              "      <th>angle(tBodyGyroJerkMean,gravityMean)</th>\n",
              "      <th>angle(X,gravityMean)</th>\n",
              "      <th>angle(Y,gravityMean)</th>\n",
              "      <th>angle(Z,gravityMean)</th>\n",
              "      <th>subject</th>\n",
              "      <th>Activity</th>\n",
              "    </tr>\n",
              "  </thead>\n",
              "  <tbody>\n",
              "    <tr>\n",
              "      <th>0</th>\n",
              "      <td>0.288585</td>\n",
              "      <td>-0.020294</td>\n",
              "      <td>-0.132905</td>\n",
              "      <td>-0.995279</td>\n",
              "      <td>-0.983111</td>\n",
              "      <td>-0.913526</td>\n",
              "      <td>-0.995112</td>\n",
              "      <td>-0.983185</td>\n",
              "      <td>-0.923527</td>\n",
              "      <td>-0.934724</td>\n",
              "      <td>...</td>\n",
              "      <td>-0.710304</td>\n",
              "      <td>-0.112754</td>\n",
              "      <td>0.030400</td>\n",
              "      <td>-0.464761</td>\n",
              "      <td>-0.018446</td>\n",
              "      <td>-0.841247</td>\n",
              "      <td>0.179941</td>\n",
              "      <td>-0.058627</td>\n",
              "      <td>1</td>\n",
              "      <td>STANDING</td>\n",
              "    </tr>\n",
              "    <tr>\n",
              "      <th>1</th>\n",
              "      <td>0.278419</td>\n",
              "      <td>-0.016411</td>\n",
              "      <td>-0.123520</td>\n",
              "      <td>-0.998245</td>\n",
              "      <td>-0.975300</td>\n",
              "      <td>-0.960322</td>\n",
              "      <td>-0.998807</td>\n",
              "      <td>-0.974914</td>\n",
              "      <td>-0.957686</td>\n",
              "      <td>-0.943068</td>\n",
              "      <td>...</td>\n",
              "      <td>-0.861499</td>\n",
              "      <td>0.053477</td>\n",
              "      <td>-0.007435</td>\n",
              "      <td>-0.732626</td>\n",
              "      <td>0.703511</td>\n",
              "      <td>-0.844788</td>\n",
              "      <td>0.180289</td>\n",
              "      <td>-0.054317</td>\n",
              "      <td>1</td>\n",
              "      <td>STANDING</td>\n",
              "    </tr>\n",
              "    <tr>\n",
              "      <th>2</th>\n",
              "      <td>0.279653</td>\n",
              "      <td>-0.019467</td>\n",
              "      <td>-0.113462</td>\n",
              "      <td>-0.995380</td>\n",
              "      <td>-0.967187</td>\n",
              "      <td>-0.978944</td>\n",
              "      <td>-0.996520</td>\n",
              "      <td>-0.963668</td>\n",
              "      <td>-0.977469</td>\n",
              "      <td>-0.938692</td>\n",
              "      <td>...</td>\n",
              "      <td>-0.760104</td>\n",
              "      <td>-0.118559</td>\n",
              "      <td>0.177899</td>\n",
              "      <td>0.100699</td>\n",
              "      <td>0.808529</td>\n",
              "      <td>-0.848933</td>\n",
              "      <td>0.180637</td>\n",
              "      <td>-0.049118</td>\n",
              "      <td>1</td>\n",
              "      <td>STANDING</td>\n",
              "    </tr>\n",
              "    <tr>\n",
              "      <th>3</th>\n",
              "      <td>0.279174</td>\n",
              "      <td>-0.026201</td>\n",
              "      <td>-0.123283</td>\n",
              "      <td>-0.996091</td>\n",
              "      <td>-0.983403</td>\n",
              "      <td>-0.990675</td>\n",
              "      <td>-0.997099</td>\n",
              "      <td>-0.982750</td>\n",
              "      <td>-0.989302</td>\n",
              "      <td>-0.938692</td>\n",
              "      <td>...</td>\n",
              "      <td>-0.482845</td>\n",
              "      <td>-0.036788</td>\n",
              "      <td>-0.012892</td>\n",
              "      <td>0.640011</td>\n",
              "      <td>-0.485366</td>\n",
              "      <td>-0.848649</td>\n",
              "      <td>0.181935</td>\n",
              "      <td>-0.047663</td>\n",
              "      <td>1</td>\n",
              "      <td>STANDING</td>\n",
              "    </tr>\n",
              "    <tr>\n",
              "      <th>4</th>\n",
              "      <td>0.276629</td>\n",
              "      <td>-0.016570</td>\n",
              "      <td>-0.115362</td>\n",
              "      <td>-0.998139</td>\n",
              "      <td>-0.980817</td>\n",
              "      <td>-0.990482</td>\n",
              "      <td>-0.998321</td>\n",
              "      <td>-0.979672</td>\n",
              "      <td>-0.990441</td>\n",
              "      <td>-0.942469</td>\n",
              "      <td>...</td>\n",
              "      <td>-0.699205</td>\n",
              "      <td>0.123320</td>\n",
              "      <td>0.122542</td>\n",
              "      <td>0.693578</td>\n",
              "      <td>-0.615971</td>\n",
              "      <td>-0.847865</td>\n",
              "      <td>0.185151</td>\n",
              "      <td>-0.043892</td>\n",
              "      <td>1</td>\n",
              "      <td>STANDING</td>\n",
              "    </tr>\n",
              "  </tbody>\n",
              "</table>\n",
              "<p>5 rows × 563 columns</p>\n",
              "</div>\n",
              "      <button class=\"colab-df-convert\" onclick=\"convertToInteractive('df-3c09603d-0a61-42e9-b151-d8b46cecaf07')\"\n",
              "              title=\"Convert this dataframe to an interactive table.\"\n",
              "              style=\"display:none;\">\n",
              "        \n",
              "  <svg xmlns=\"http://www.w3.org/2000/svg\" height=\"24px\"viewBox=\"0 0 24 24\"\n",
              "       width=\"24px\">\n",
              "    <path d=\"M0 0h24v24H0V0z\" fill=\"none\"/>\n",
              "    <path d=\"M18.56 5.44l.94 2.06.94-2.06 2.06-.94-2.06-.94-.94-2.06-.94 2.06-2.06.94zm-11 1L8.5 8.5l.94-2.06 2.06-.94-2.06-.94L8.5 2.5l-.94 2.06-2.06.94zm10 10l.94 2.06.94-2.06 2.06-.94-2.06-.94-.94-2.06-.94 2.06-2.06.94z\"/><path d=\"M17.41 7.96l-1.37-1.37c-.4-.4-.92-.59-1.43-.59-.52 0-1.04.2-1.43.59L10.3 9.45l-7.72 7.72c-.78.78-.78 2.05 0 2.83L4 21.41c.39.39.9.59 1.41.59.51 0 1.02-.2 1.41-.59l7.78-7.78 2.81-2.81c.8-.78.8-2.07 0-2.86zM5.41 20L4 18.59l7.72-7.72 1.47 1.35L5.41 20z\"/>\n",
              "  </svg>\n",
              "      </button>\n",
              "      \n",
              "  <style>\n",
              "    .colab-df-container {\n",
              "      display:flex;\n",
              "      flex-wrap:wrap;\n",
              "      gap: 12px;\n",
              "    }\n",
              "\n",
              "    .colab-df-convert {\n",
              "      background-color: #E8F0FE;\n",
              "      border: none;\n",
              "      border-radius: 50%;\n",
              "      cursor: pointer;\n",
              "      display: none;\n",
              "      fill: #1967D2;\n",
              "      height: 32px;\n",
              "      padding: 0 0 0 0;\n",
              "      width: 32px;\n",
              "    }\n",
              "\n",
              "    .colab-df-convert:hover {\n",
              "      background-color: #E2EBFA;\n",
              "      box-shadow: 0px 1px 2px rgba(60, 64, 67, 0.3), 0px 1px 3px 1px rgba(60, 64, 67, 0.15);\n",
              "      fill: #174EA6;\n",
              "    }\n",
              "\n",
              "    [theme=dark] .colab-df-convert {\n",
              "      background-color: #3B4455;\n",
              "      fill: #D2E3FC;\n",
              "    }\n",
              "\n",
              "    [theme=dark] .colab-df-convert:hover {\n",
              "      background-color: #434B5C;\n",
              "      box-shadow: 0px 1px 3px 1px rgba(0, 0, 0, 0.15);\n",
              "      filter: drop-shadow(0px 1px 2px rgba(0, 0, 0, 0.3));\n",
              "      fill: #FFFFFF;\n",
              "    }\n",
              "  </style>\n",
              "\n",
              "      <script>\n",
              "        const buttonEl =\n",
              "          document.querySelector('#df-3c09603d-0a61-42e9-b151-d8b46cecaf07 button.colab-df-convert');\n",
              "        buttonEl.style.display =\n",
              "          google.colab.kernel.accessAllowed ? 'block' : 'none';\n",
              "\n",
              "        async function convertToInteractive(key) {\n",
              "          const element = document.querySelector('#df-3c09603d-0a61-42e9-b151-d8b46cecaf07');\n",
              "          const dataTable =\n",
              "            await google.colab.kernel.invokeFunction('convertToInteractive',\n",
              "                                                     [key], {});\n",
              "          if (!dataTable) return;\n",
              "\n",
              "          const docLinkHtml = 'Like what you see? Visit the ' +\n",
              "            '<a target=\"_blank\" href=https://colab.research.google.com/notebooks/data_table.ipynb>data table notebook</a>'\n",
              "            + ' to learn more about interactive tables.';\n",
              "          element.innerHTML = '';\n",
              "          dataTable['output_type'] = 'display_data';\n",
              "          await google.colab.output.renderOutput(dataTable, element);\n",
              "          const docLink = document.createElement('div');\n",
              "          docLink.innerHTML = docLinkHtml;\n",
              "          element.appendChild(docLink);\n",
              "        }\n",
              "      </script>\n",
              "    </div>\n",
              "  </div>\n",
              "  "
            ]
          },
          "metadata": {},
          "execution_count": 36
        }
      ],
      "source": [
        "import pandas as pd \n",
        "import numpy as np \n",
        "import seaborn as sn\n",
        "import matplotlib.pyplot as plt\n",
        "import time\n",
        "from sklearn.metrics import precision_recall_curve\n",
        "from sklearn.metrics import precision_score\n",
        "from sklearn.metrics import recall_score\n",
        "d=pd.read_csv(\"train.csv\")\n",
        "d.head()"
      ]
    },
    {
      "cell_type": "code",
      "execution_count": 37,
      "id": "3bc70687",
      "metadata": {
        "execution": {
          "iopub.execute_input": "2023-02-07T07:36:23.827932Z",
          "iopub.status.busy": "2023-02-07T07:36:23.827430Z",
          "iopub.status.idle": "2023-02-07T07:36:23.835549Z",
          "shell.execute_reply": "2023-02-07T07:36:23.834225Z"
        },
        "papermill": {
          "duration": 0.01863,
          "end_time": "2023-02-07T07:36:23.838143",
          "exception": false,
          "start_time": "2023-02-07T07:36:23.819513",
          "status": "completed"
        },
        "tags": [],
        "colab": {
          "base_uri": "https://localhost:8080/"
        },
        "id": "3bc70687",
        "outputId": "1b62eaaf-7672-4edb-a73c-e4d6dd9c7afd"
      },
      "outputs": [
        {
          "output_type": "execute_result",
          "data": {
            "text/plain": [
              "(7352, 563)"
            ]
          },
          "metadata": {},
          "execution_count": 37
        }
      ],
      "source": [
        "d.shape "
      ]
    },
    {
      "cell_type": "code",
      "execution_count": 38,
      "id": "90a93276",
      "metadata": {
        "execution": {
          "iopub.execute_input": "2023-02-07T07:36:23.852898Z",
          "iopub.status.busy": "2023-02-07T07:36:23.852387Z",
          "iopub.status.idle": "2023-02-07T07:36:23.862006Z",
          "shell.execute_reply": "2023-02-07T07:36:23.860525Z"
        },
        "papermill": {
          "duration": 0.020031,
          "end_time": "2023-02-07T07:36:23.864532",
          "exception": false,
          "start_time": "2023-02-07T07:36:23.844501",
          "status": "completed"
        },
        "tags": [],
        "colab": {
          "base_uri": "https://localhost:8080/"
        },
        "id": "90a93276",
        "outputId": "a206f6c6-bde9-40b1-a1d9-5dabb848dbf7"
      },
      "outputs": [
        {
          "output_type": "execute_result",
          "data": {
            "text/plain": [
              "Index(['tBodyAcc-mean()-X', 'tBodyAcc-mean()-Y', 'tBodyAcc-mean()-Z',\n",
              "       'tBodyAcc-std()-X', 'tBodyAcc-std()-Y', 'tBodyAcc-std()-Z',\n",
              "       'tBodyAcc-mad()-X', 'tBodyAcc-mad()-Y', 'tBodyAcc-mad()-Z',\n",
              "       'tBodyAcc-max()-X',\n",
              "       ...\n",
              "       'fBodyBodyGyroJerkMag-kurtosis()', 'angle(tBodyAccMean,gravity)',\n",
              "       'angle(tBodyAccJerkMean),gravityMean)',\n",
              "       'angle(tBodyGyroMean,gravityMean)',\n",
              "       'angle(tBodyGyroJerkMean,gravityMean)', 'angle(X,gravityMean)',\n",
              "       'angle(Y,gravityMean)', 'angle(Z,gravityMean)', 'subject', 'Activity'],\n",
              "      dtype='object', length=563)"
            ]
          },
          "metadata": {},
          "execution_count": 38
        }
      ],
      "source": [
        "d.columns"
      ]
    },
    {
      "cell_type": "code",
      "execution_count": 39,
      "id": "37ec5f8a",
      "metadata": {
        "execution": {
          "iopub.execute_input": "2023-02-07T07:36:23.879938Z",
          "iopub.status.busy": "2023-02-07T07:36:23.879443Z",
          "iopub.status.idle": "2023-02-07T07:36:23.898197Z",
          "shell.execute_reply": "2023-02-07T07:36:23.896777Z"
        },
        "papermill": {
          "duration": 0.02978,
          "end_time": "2023-02-07T07:36:23.900960",
          "exception": false,
          "start_time": "2023-02-07T07:36:23.871180",
          "status": "completed"
        },
        "tags": [],
        "colab": {
          "base_uri": "https://localhost:8080/"
        },
        "id": "37ec5f8a",
        "outputId": "d8d7ece3-ba82-41ee-a766-3694b6b0e850"
      },
      "outputs": [
        {
          "output_type": "execute_result",
          "data": {
            "text/plain": [
              "LAYING                1407\n",
              "STANDING              1374\n",
              "SITTING               1286\n",
              "WALKING               1226\n",
              "WALKING_UPSTAIRS      1073\n",
              "WALKING_DOWNSTAIRS     986\n",
              "Name: Activity, dtype: int64"
            ]
          },
          "metadata": {},
          "execution_count": 39
        }
      ],
      "source": [
        "d.Activity.value_counts()"
      ]
    },
    {
      "cell_type": "code",
      "execution_count": 40,
      "id": "82f66368",
      "metadata": {
        "execution": {
          "iopub.execute_input": "2023-02-07T07:36:23.917293Z",
          "iopub.status.busy": "2023-02-07T07:36:23.915905Z",
          "iopub.status.idle": "2023-02-07T07:36:23.928796Z",
          "shell.execute_reply": "2023-02-07T07:36:23.927413Z"
        },
        "papermill": {
          "duration": 0.024901,
          "end_time": "2023-02-07T07:36:23.932462",
          "exception": false,
          "start_time": "2023-02-07T07:36:23.907561",
          "status": "completed"
        },
        "tags": [],
        "id": "82f66368"
      },
      "outputs": [],
      "source": [
        "d['activity_code']= d.Activity.astype('category').cat.codes"
      ]
    },
    {
      "cell_type": "code",
      "execution_count": 41,
      "id": "351c0e1d",
      "metadata": {
        "execution": {
          "iopub.execute_input": "2023-02-07T07:36:23.948207Z",
          "iopub.status.busy": "2023-02-07T07:36:23.947580Z",
          "iopub.status.idle": "2023-02-07T07:36:23.960636Z",
          "shell.execute_reply": "2023-02-07T07:36:23.959543Z"
        },
        "papermill": {
          "duration": 0.024446,
          "end_time": "2023-02-07T07:36:23.963773",
          "exception": false,
          "start_time": "2023-02-07T07:36:23.939327",
          "status": "completed"
        },
        "tags": [],
        "colab": {
          "base_uri": "https://localhost:8080/"
        },
        "id": "351c0e1d",
        "outputId": "00f0528a-fb06-4db5-f445-f2c134ea733a"
      },
      "outputs": [
        {
          "output_type": "execute_result",
          "data": {
            "text/plain": [
              "0       2\n",
              "1       2\n",
              "2       2\n",
              "3       2\n",
              "4       2\n",
              "       ..\n",
              "7347    5\n",
              "7348    5\n",
              "7349    5\n",
              "7350    5\n",
              "7351    5\n",
              "Name: activity_code, Length: 7352, dtype: int8"
            ]
          },
          "metadata": {},
          "execution_count": 41
        }
      ],
      "source": [
        "d.activity_code"
      ]
    },
    {
      "cell_type": "code",
      "execution_count": 42,
      "id": "d3b46f14",
      "metadata": {
        "execution": {
          "iopub.execute_input": "2023-02-07T07:36:23.980490Z",
          "iopub.status.busy": "2023-02-07T07:36:23.979850Z",
          "iopub.status.idle": "2023-02-07T07:36:24.048095Z",
          "shell.execute_reply": "2023-02-07T07:36:24.046501Z"
        },
        "papermill": {
          "duration": 0.079718,
          "end_time": "2023-02-07T07:36:24.051009",
          "exception": false,
          "start_time": "2023-02-07T07:36:23.971291",
          "status": "completed"
        },
        "tags": [],
        "colab": {
          "base_uri": "https://localhost:8080/",
          "height": 505
        },
        "id": "d3b46f14",
        "outputId": "9c34cb94-c83a-4d52-b8e5-545d150a244c"
      },
      "outputs": [
        {
          "output_type": "execute_result",
          "data": {
            "text/plain": [
              "      tBodyAcc-mean()-X  tBodyAcc-mean()-Y  tBodyAcc-mean()-Z  \\\n",
              "0              0.288585          -0.020294          -0.132905   \n",
              "1              0.278419          -0.016411          -0.123520   \n",
              "2              0.279653          -0.019467          -0.113462   \n",
              "3              0.279174          -0.026201          -0.123283   \n",
              "4              0.276629          -0.016570          -0.115362   \n",
              "...                 ...                ...                ...   \n",
              "7347           0.299665          -0.057193          -0.181233   \n",
              "7348           0.273853          -0.007749          -0.147468   \n",
              "7349           0.273387          -0.017011          -0.045022   \n",
              "7350           0.289654          -0.018843          -0.158281   \n",
              "7351           0.351503          -0.012423          -0.203867   \n",
              "\n",
              "      tBodyAcc-std()-X  tBodyAcc-std()-Y  tBodyAcc-std()-Z  tBodyAcc-mad()-X  \\\n",
              "0            -0.995279         -0.983111         -0.913526         -0.995112   \n",
              "1            -0.998245         -0.975300         -0.960322         -0.998807   \n",
              "2            -0.995380         -0.967187         -0.978944         -0.996520   \n",
              "3            -0.996091         -0.983403         -0.990675         -0.997099   \n",
              "4            -0.998139         -0.980817         -0.990482         -0.998321   \n",
              "...                ...               ...               ...               ...   \n",
              "7347         -0.195387          0.039905          0.077078         -0.282301   \n",
              "7348         -0.235309          0.004816          0.059280         -0.322552   \n",
              "7349         -0.218218         -0.103822          0.274533         -0.304515   \n",
              "7350         -0.219139         -0.111412          0.268893         -0.310487   \n",
              "7351         -0.269270         -0.087212          0.177404         -0.377404   \n",
              "\n",
              "      tBodyAcc-mad()-Y  tBodyAcc-mad()-Z  tBodyAcc-max()-X  ...  \\\n",
              "0            -0.983185         -0.923527         -0.934724  ...   \n",
              "1            -0.974914         -0.957686         -0.943068  ...   \n",
              "2            -0.963668         -0.977469         -0.938692  ...   \n",
              "3            -0.982750         -0.989302         -0.938692  ...   \n",
              "4            -0.979672         -0.990441         -0.942469  ...   \n",
              "...                ...               ...               ...  ...   \n",
              "7347          0.043616          0.060410          0.210795  ...   \n",
              "7348         -0.029456          0.080585          0.117440  ...   \n",
              "7349         -0.098913          0.332584          0.043999  ...   \n",
              "7350         -0.068200          0.319473          0.101702  ...   \n",
              "7351         -0.038678          0.229430          0.269013  ...   \n",
              "\n",
              "      fBodyBodyGyroJerkMag-kurtosis()  angle(tBodyAccMean,gravity)  \\\n",
              "0                           -0.710304                    -0.112754   \n",
              "1                           -0.861499                     0.053477   \n",
              "2                           -0.760104                    -0.118559   \n",
              "3                           -0.482845                    -0.036788   \n",
              "4                           -0.699205                     0.123320   \n",
              "...                               ...                          ...   \n",
              "7347                        -0.880324                    -0.190437   \n",
              "7348                        -0.680744                     0.064907   \n",
              "7349                        -0.304029                     0.052806   \n",
              "7350                        -0.344314                    -0.101360   \n",
              "7351                        -0.740738                    -0.280088   \n",
              "\n",
              "      angle(tBodyAccJerkMean),gravityMean)  angle(tBodyGyroMean,gravityMean)  \\\n",
              "0                                 0.030400                         -0.464761   \n",
              "1                                -0.007435                         -0.732626   \n",
              "2                                 0.177899                          0.100699   \n",
              "3                                -0.012892                          0.640011   \n",
              "4                                 0.122542                          0.693578   \n",
              "...                                    ...                               ...   \n",
              "7347                              0.829718                          0.206972   \n",
              "7348                              0.875679                         -0.879033   \n",
              "7349                             -0.266724                          0.864404   \n",
              "7350                              0.700740                          0.936674   \n",
              "7351                             -0.007739                         -0.056088   \n",
              "\n",
              "      angle(tBodyGyroJerkMean,gravityMean)  angle(X,gravityMean)  \\\n",
              "0                                -0.018446             -0.841247   \n",
              "1                                 0.703511             -0.844788   \n",
              "2                                 0.808529             -0.848933   \n",
              "3                                -0.485366             -0.848649   \n",
              "4                                -0.615971             -0.847865   \n",
              "...                                    ...                   ...   \n",
              "7347                             -0.425619             -0.791883   \n",
              "7348                              0.400219             -0.771840   \n",
              "7349                              0.701169             -0.779133   \n",
              "7350                             -0.589479             -0.785181   \n",
              "7351                             -0.616956             -0.783267   \n",
              "\n",
              "      angle(Y,gravityMean)  angle(Z,gravityMean)  subject  activity_code  \n",
              "0                 0.179941             -0.058627        1              2  \n",
              "1                 0.180289             -0.054317        1              2  \n",
              "2                 0.180637             -0.049118        1              2  \n",
              "3                 0.181935             -0.047663        1              2  \n",
              "4                 0.185151             -0.043892        1              2  \n",
              "...                    ...                   ...      ...            ...  \n",
              "7347              0.238604              0.049819       30              5  \n",
              "7348              0.252676              0.050053       30              5  \n",
              "7349              0.249145              0.040811       30              5  \n",
              "7350              0.246432              0.025339       30              5  \n",
              "7351              0.246809              0.036695       30              5  \n",
              "\n",
              "[7352 rows x 563 columns]"
            ],
            "text/html": [
              "\n",
              "  <div id=\"df-b6432d49-280a-4e85-9a2c-53108b3c5e1d\">\n",
              "    <div class=\"colab-df-container\">\n",
              "      <div>\n",
              "<style scoped>\n",
              "    .dataframe tbody tr th:only-of-type {\n",
              "        vertical-align: middle;\n",
              "    }\n",
              "\n",
              "    .dataframe tbody tr th {\n",
              "        vertical-align: top;\n",
              "    }\n",
              "\n",
              "    .dataframe thead th {\n",
              "        text-align: right;\n",
              "    }\n",
              "</style>\n",
              "<table border=\"1\" class=\"dataframe\">\n",
              "  <thead>\n",
              "    <tr style=\"text-align: right;\">\n",
              "      <th></th>\n",
              "      <th>tBodyAcc-mean()-X</th>\n",
              "      <th>tBodyAcc-mean()-Y</th>\n",
              "      <th>tBodyAcc-mean()-Z</th>\n",
              "      <th>tBodyAcc-std()-X</th>\n",
              "      <th>tBodyAcc-std()-Y</th>\n",
              "      <th>tBodyAcc-std()-Z</th>\n",
              "      <th>tBodyAcc-mad()-X</th>\n",
              "      <th>tBodyAcc-mad()-Y</th>\n",
              "      <th>tBodyAcc-mad()-Z</th>\n",
              "      <th>tBodyAcc-max()-X</th>\n",
              "      <th>...</th>\n",
              "      <th>fBodyBodyGyroJerkMag-kurtosis()</th>\n",
              "      <th>angle(tBodyAccMean,gravity)</th>\n",
              "      <th>angle(tBodyAccJerkMean),gravityMean)</th>\n",
              "      <th>angle(tBodyGyroMean,gravityMean)</th>\n",
              "      <th>angle(tBodyGyroJerkMean,gravityMean)</th>\n",
              "      <th>angle(X,gravityMean)</th>\n",
              "      <th>angle(Y,gravityMean)</th>\n",
              "      <th>angle(Z,gravityMean)</th>\n",
              "      <th>subject</th>\n",
              "      <th>activity_code</th>\n",
              "    </tr>\n",
              "  </thead>\n",
              "  <tbody>\n",
              "    <tr>\n",
              "      <th>0</th>\n",
              "      <td>0.288585</td>\n",
              "      <td>-0.020294</td>\n",
              "      <td>-0.132905</td>\n",
              "      <td>-0.995279</td>\n",
              "      <td>-0.983111</td>\n",
              "      <td>-0.913526</td>\n",
              "      <td>-0.995112</td>\n",
              "      <td>-0.983185</td>\n",
              "      <td>-0.923527</td>\n",
              "      <td>-0.934724</td>\n",
              "      <td>...</td>\n",
              "      <td>-0.710304</td>\n",
              "      <td>-0.112754</td>\n",
              "      <td>0.030400</td>\n",
              "      <td>-0.464761</td>\n",
              "      <td>-0.018446</td>\n",
              "      <td>-0.841247</td>\n",
              "      <td>0.179941</td>\n",
              "      <td>-0.058627</td>\n",
              "      <td>1</td>\n",
              "      <td>2</td>\n",
              "    </tr>\n",
              "    <tr>\n",
              "      <th>1</th>\n",
              "      <td>0.278419</td>\n",
              "      <td>-0.016411</td>\n",
              "      <td>-0.123520</td>\n",
              "      <td>-0.998245</td>\n",
              "      <td>-0.975300</td>\n",
              "      <td>-0.960322</td>\n",
              "      <td>-0.998807</td>\n",
              "      <td>-0.974914</td>\n",
              "      <td>-0.957686</td>\n",
              "      <td>-0.943068</td>\n",
              "      <td>...</td>\n",
              "      <td>-0.861499</td>\n",
              "      <td>0.053477</td>\n",
              "      <td>-0.007435</td>\n",
              "      <td>-0.732626</td>\n",
              "      <td>0.703511</td>\n",
              "      <td>-0.844788</td>\n",
              "      <td>0.180289</td>\n",
              "      <td>-0.054317</td>\n",
              "      <td>1</td>\n",
              "      <td>2</td>\n",
              "    </tr>\n",
              "    <tr>\n",
              "      <th>2</th>\n",
              "      <td>0.279653</td>\n",
              "      <td>-0.019467</td>\n",
              "      <td>-0.113462</td>\n",
              "      <td>-0.995380</td>\n",
              "      <td>-0.967187</td>\n",
              "      <td>-0.978944</td>\n",
              "      <td>-0.996520</td>\n",
              "      <td>-0.963668</td>\n",
              "      <td>-0.977469</td>\n",
              "      <td>-0.938692</td>\n",
              "      <td>...</td>\n",
              "      <td>-0.760104</td>\n",
              "      <td>-0.118559</td>\n",
              "      <td>0.177899</td>\n",
              "      <td>0.100699</td>\n",
              "      <td>0.808529</td>\n",
              "      <td>-0.848933</td>\n",
              "      <td>0.180637</td>\n",
              "      <td>-0.049118</td>\n",
              "      <td>1</td>\n",
              "      <td>2</td>\n",
              "    </tr>\n",
              "    <tr>\n",
              "      <th>3</th>\n",
              "      <td>0.279174</td>\n",
              "      <td>-0.026201</td>\n",
              "      <td>-0.123283</td>\n",
              "      <td>-0.996091</td>\n",
              "      <td>-0.983403</td>\n",
              "      <td>-0.990675</td>\n",
              "      <td>-0.997099</td>\n",
              "      <td>-0.982750</td>\n",
              "      <td>-0.989302</td>\n",
              "      <td>-0.938692</td>\n",
              "      <td>...</td>\n",
              "      <td>-0.482845</td>\n",
              "      <td>-0.036788</td>\n",
              "      <td>-0.012892</td>\n",
              "      <td>0.640011</td>\n",
              "      <td>-0.485366</td>\n",
              "      <td>-0.848649</td>\n",
              "      <td>0.181935</td>\n",
              "      <td>-0.047663</td>\n",
              "      <td>1</td>\n",
              "      <td>2</td>\n",
              "    </tr>\n",
              "    <tr>\n",
              "      <th>4</th>\n",
              "      <td>0.276629</td>\n",
              "      <td>-0.016570</td>\n",
              "      <td>-0.115362</td>\n",
              "      <td>-0.998139</td>\n",
              "      <td>-0.980817</td>\n",
              "      <td>-0.990482</td>\n",
              "      <td>-0.998321</td>\n",
              "      <td>-0.979672</td>\n",
              "      <td>-0.990441</td>\n",
              "      <td>-0.942469</td>\n",
              "      <td>...</td>\n",
              "      <td>-0.699205</td>\n",
              "      <td>0.123320</td>\n",
              "      <td>0.122542</td>\n",
              "      <td>0.693578</td>\n",
              "      <td>-0.615971</td>\n",
              "      <td>-0.847865</td>\n",
              "      <td>0.185151</td>\n",
              "      <td>-0.043892</td>\n",
              "      <td>1</td>\n",
              "      <td>2</td>\n",
              "    </tr>\n",
              "    <tr>\n",
              "      <th>...</th>\n",
              "      <td>...</td>\n",
              "      <td>...</td>\n",
              "      <td>...</td>\n",
              "      <td>...</td>\n",
              "      <td>...</td>\n",
              "      <td>...</td>\n",
              "      <td>...</td>\n",
              "      <td>...</td>\n",
              "      <td>...</td>\n",
              "      <td>...</td>\n",
              "      <td>...</td>\n",
              "      <td>...</td>\n",
              "      <td>...</td>\n",
              "      <td>...</td>\n",
              "      <td>...</td>\n",
              "      <td>...</td>\n",
              "      <td>...</td>\n",
              "      <td>...</td>\n",
              "      <td>...</td>\n",
              "      <td>...</td>\n",
              "      <td>...</td>\n",
              "    </tr>\n",
              "    <tr>\n",
              "      <th>7347</th>\n",
              "      <td>0.299665</td>\n",
              "      <td>-0.057193</td>\n",
              "      <td>-0.181233</td>\n",
              "      <td>-0.195387</td>\n",
              "      <td>0.039905</td>\n",
              "      <td>0.077078</td>\n",
              "      <td>-0.282301</td>\n",
              "      <td>0.043616</td>\n",
              "      <td>0.060410</td>\n",
              "      <td>0.210795</td>\n",
              "      <td>...</td>\n",
              "      <td>-0.880324</td>\n",
              "      <td>-0.190437</td>\n",
              "      <td>0.829718</td>\n",
              "      <td>0.206972</td>\n",
              "      <td>-0.425619</td>\n",
              "      <td>-0.791883</td>\n",
              "      <td>0.238604</td>\n",
              "      <td>0.049819</td>\n",
              "      <td>30</td>\n",
              "      <td>5</td>\n",
              "    </tr>\n",
              "    <tr>\n",
              "      <th>7348</th>\n",
              "      <td>0.273853</td>\n",
              "      <td>-0.007749</td>\n",
              "      <td>-0.147468</td>\n",
              "      <td>-0.235309</td>\n",
              "      <td>0.004816</td>\n",
              "      <td>0.059280</td>\n",
              "      <td>-0.322552</td>\n",
              "      <td>-0.029456</td>\n",
              "      <td>0.080585</td>\n",
              "      <td>0.117440</td>\n",
              "      <td>...</td>\n",
              "      <td>-0.680744</td>\n",
              "      <td>0.064907</td>\n",
              "      <td>0.875679</td>\n",
              "      <td>-0.879033</td>\n",
              "      <td>0.400219</td>\n",
              "      <td>-0.771840</td>\n",
              "      <td>0.252676</td>\n",
              "      <td>0.050053</td>\n",
              "      <td>30</td>\n",
              "      <td>5</td>\n",
              "    </tr>\n",
              "    <tr>\n",
              "      <th>7349</th>\n",
              "      <td>0.273387</td>\n",
              "      <td>-0.017011</td>\n",
              "      <td>-0.045022</td>\n",
              "      <td>-0.218218</td>\n",
              "      <td>-0.103822</td>\n",
              "      <td>0.274533</td>\n",
              "      <td>-0.304515</td>\n",
              "      <td>-0.098913</td>\n",
              "      <td>0.332584</td>\n",
              "      <td>0.043999</td>\n",
              "      <td>...</td>\n",
              "      <td>-0.304029</td>\n",
              "      <td>0.052806</td>\n",
              "      <td>-0.266724</td>\n",
              "      <td>0.864404</td>\n",
              "      <td>0.701169</td>\n",
              "      <td>-0.779133</td>\n",
              "      <td>0.249145</td>\n",
              "      <td>0.040811</td>\n",
              "      <td>30</td>\n",
              "      <td>5</td>\n",
              "    </tr>\n",
              "    <tr>\n",
              "      <th>7350</th>\n",
              "      <td>0.289654</td>\n",
              "      <td>-0.018843</td>\n",
              "      <td>-0.158281</td>\n",
              "      <td>-0.219139</td>\n",
              "      <td>-0.111412</td>\n",
              "      <td>0.268893</td>\n",
              "      <td>-0.310487</td>\n",
              "      <td>-0.068200</td>\n",
              "      <td>0.319473</td>\n",
              "      <td>0.101702</td>\n",
              "      <td>...</td>\n",
              "      <td>-0.344314</td>\n",
              "      <td>-0.101360</td>\n",
              "      <td>0.700740</td>\n",
              "      <td>0.936674</td>\n",
              "      <td>-0.589479</td>\n",
              "      <td>-0.785181</td>\n",
              "      <td>0.246432</td>\n",
              "      <td>0.025339</td>\n",
              "      <td>30</td>\n",
              "      <td>5</td>\n",
              "    </tr>\n",
              "    <tr>\n",
              "      <th>7351</th>\n",
              "      <td>0.351503</td>\n",
              "      <td>-0.012423</td>\n",
              "      <td>-0.203867</td>\n",
              "      <td>-0.269270</td>\n",
              "      <td>-0.087212</td>\n",
              "      <td>0.177404</td>\n",
              "      <td>-0.377404</td>\n",
              "      <td>-0.038678</td>\n",
              "      <td>0.229430</td>\n",
              "      <td>0.269013</td>\n",
              "      <td>...</td>\n",
              "      <td>-0.740738</td>\n",
              "      <td>-0.280088</td>\n",
              "      <td>-0.007739</td>\n",
              "      <td>-0.056088</td>\n",
              "      <td>-0.616956</td>\n",
              "      <td>-0.783267</td>\n",
              "      <td>0.246809</td>\n",
              "      <td>0.036695</td>\n",
              "      <td>30</td>\n",
              "      <td>5</td>\n",
              "    </tr>\n",
              "  </tbody>\n",
              "</table>\n",
              "<p>7352 rows × 563 columns</p>\n",
              "</div>\n",
              "      <button class=\"colab-df-convert\" onclick=\"convertToInteractive('df-b6432d49-280a-4e85-9a2c-53108b3c5e1d')\"\n",
              "              title=\"Convert this dataframe to an interactive table.\"\n",
              "              style=\"display:none;\">\n",
              "        \n",
              "  <svg xmlns=\"http://www.w3.org/2000/svg\" height=\"24px\"viewBox=\"0 0 24 24\"\n",
              "       width=\"24px\">\n",
              "    <path d=\"M0 0h24v24H0V0z\" fill=\"none\"/>\n",
              "    <path d=\"M18.56 5.44l.94 2.06.94-2.06 2.06-.94-2.06-.94-.94-2.06-.94 2.06-2.06.94zm-11 1L8.5 8.5l.94-2.06 2.06-.94-2.06-.94L8.5 2.5l-.94 2.06-2.06.94zm10 10l.94 2.06.94-2.06 2.06-.94-2.06-.94-.94-2.06-.94 2.06-2.06.94z\"/><path d=\"M17.41 7.96l-1.37-1.37c-.4-.4-.92-.59-1.43-.59-.52 0-1.04.2-1.43.59L10.3 9.45l-7.72 7.72c-.78.78-.78 2.05 0 2.83L4 21.41c.39.39.9.59 1.41.59.51 0 1.02-.2 1.41-.59l7.78-7.78 2.81-2.81c.8-.78.8-2.07 0-2.86zM5.41 20L4 18.59l7.72-7.72 1.47 1.35L5.41 20z\"/>\n",
              "  </svg>\n",
              "      </button>\n",
              "      \n",
              "  <style>\n",
              "    .colab-df-container {\n",
              "      display:flex;\n",
              "      flex-wrap:wrap;\n",
              "      gap: 12px;\n",
              "    }\n",
              "\n",
              "    .colab-df-convert {\n",
              "      background-color: #E8F0FE;\n",
              "      border: none;\n",
              "      border-radius: 50%;\n",
              "      cursor: pointer;\n",
              "      display: none;\n",
              "      fill: #1967D2;\n",
              "      height: 32px;\n",
              "      padding: 0 0 0 0;\n",
              "      width: 32px;\n",
              "    }\n",
              "\n",
              "    .colab-df-convert:hover {\n",
              "      background-color: #E2EBFA;\n",
              "      box-shadow: 0px 1px 2px rgba(60, 64, 67, 0.3), 0px 1px 3px 1px rgba(60, 64, 67, 0.15);\n",
              "      fill: #174EA6;\n",
              "    }\n",
              "\n",
              "    [theme=dark] .colab-df-convert {\n",
              "      background-color: #3B4455;\n",
              "      fill: #D2E3FC;\n",
              "    }\n",
              "\n",
              "    [theme=dark] .colab-df-convert:hover {\n",
              "      background-color: #434B5C;\n",
              "      box-shadow: 0px 1px 3px 1px rgba(0, 0, 0, 0.15);\n",
              "      filter: drop-shadow(0px 1px 2px rgba(0, 0, 0, 0.3));\n",
              "      fill: #FFFFFF;\n",
              "    }\n",
              "  </style>\n",
              "\n",
              "      <script>\n",
              "        const buttonEl =\n",
              "          document.querySelector('#df-b6432d49-280a-4e85-9a2c-53108b3c5e1d button.colab-df-convert');\n",
              "        buttonEl.style.display =\n",
              "          google.colab.kernel.accessAllowed ? 'block' : 'none';\n",
              "\n",
              "        async function convertToInteractive(key) {\n",
              "          const element = document.querySelector('#df-b6432d49-280a-4e85-9a2c-53108b3c5e1d');\n",
              "          const dataTable =\n",
              "            await google.colab.kernel.invokeFunction('convertToInteractive',\n",
              "                                                     [key], {});\n",
              "          if (!dataTable) return;\n",
              "\n",
              "          const docLinkHtml = 'Like what you see? Visit the ' +\n",
              "            '<a target=\"_blank\" href=https://colab.research.google.com/notebooks/data_table.ipynb>data table notebook</a>'\n",
              "            + ' to learn more about interactive tables.';\n",
              "          element.innerHTML = '';\n",
              "          dataTable['output_type'] = 'display_data';\n",
              "          await google.colab.output.renderOutput(dataTable, element);\n",
              "          const docLink = document.createElement('div');\n",
              "          docLink.innerHTML = docLinkHtml;\n",
              "          element.appendChild(docLink);\n",
              "        }\n",
              "      </script>\n",
              "    </div>\n",
              "  </div>\n",
              "  "
            ]
          },
          "metadata": {},
          "execution_count": 42
        }
      ],
      "source": [
        "d1=d.drop('Activity',axis=1)\n",
        "d1"
      ]
    },
    {
      "cell_type": "code",
      "execution_count": 43,
      "id": "5facbba3",
      "metadata": {
        "execution": {
          "iopub.execute_input": "2023-02-07T07:36:24.068517Z",
          "iopub.status.busy": "2023-02-07T07:36:24.068030Z",
          "iopub.status.idle": "2023-02-07T07:36:24.103640Z",
          "shell.execute_reply": "2023-02-07T07:36:24.102501Z"
        },
        "papermill": {
          "duration": 0.047369,
          "end_time": "2023-02-07T07:36:24.106441",
          "exception": false,
          "start_time": "2023-02-07T07:36:24.059072",
          "status": "completed"
        },
        "tags": [],
        "id": "5facbba3"
      },
      "outputs": [],
      "source": [
        "xcol=d1.columns.to_list()\n",
        "xcol.pop(-1)\n",
        "xdata=d1[xcol]\n",
        "ycol='activity_code'"
      ]
    },
    {
      "cell_type": "code",
      "execution_count": 44,
      "id": "230a0d7e",
      "metadata": {
        "execution": {
          "iopub.execute_input": "2023-02-07T07:36:24.125178Z",
          "iopub.status.busy": "2023-02-07T07:36:24.124647Z",
          "iopub.status.idle": "2023-02-07T07:36:25.750313Z",
          "shell.execute_reply": "2023-02-07T07:36:25.748907Z"
        },
        "papermill": {
          "duration": 1.639333,
          "end_time": "2023-02-07T07:36:25.753494",
          "exception": false,
          "start_time": "2023-02-07T07:36:24.114161",
          "status": "completed"
        },
        "tags": [],
        "id": "230a0d7e"
      },
      "outputs": [],
      "source": [
        "from sklearn.model_selection import train_test_split \n",
        "x_train, x_test, y_train, y_test =train_test_split(d1[xcol],d1[ycol].values,test_size =0.1)"
      ]
    },
    {
      "cell_type": "code",
      "execution_count": 45,
      "id": "374bca63",
      "metadata": {
        "execution": {
          "iopub.execute_input": "2023-02-07T07:36:25.771010Z",
          "iopub.status.busy": "2023-02-07T07:36:25.770447Z",
          "iopub.status.idle": "2023-02-07T07:36:25.779677Z",
          "shell.execute_reply": "2023-02-07T07:36:25.778274Z"
        },
        "papermill": {
          "duration": 0.021854,
          "end_time": "2023-02-07T07:36:25.782640",
          "exception": false,
          "start_time": "2023-02-07T07:36:25.760786",
          "status": "completed"
        },
        "tags": [],
        "colab": {
          "base_uri": "https://localhost:8080/"
        },
        "id": "374bca63",
        "outputId": "36290b68-1b8a-4c8e-c2ef-d7abc4b4fe31"
      },
      "outputs": [
        {
          "output_type": "execute_result",
          "data": {
            "text/plain": [
              "((6616, 562), (736, 562), (6616,), (736,))"
            ]
          },
          "metadata": {},
          "execution_count": 45
        }
      ],
      "source": [
        "x_train.shape, x_test.shape, y_train.shape, y_test.shape "
      ]
    },
    {
      "cell_type": "code",
      "execution_count": 46,
      "id": "78ebbe36",
      "metadata": {
        "execution": {
          "iopub.execute_input": "2023-02-07T07:36:25.802031Z",
          "iopub.status.busy": "2023-02-07T07:36:25.801107Z",
          "iopub.status.idle": "2023-02-07T07:36:25.810867Z",
          "shell.execute_reply": "2023-02-07T07:36:25.809656Z"
        },
        "papermill": {
          "duration": 0.02391,
          "end_time": "2023-02-07T07:36:25.814212",
          "exception": false,
          "start_time": "2023-02-07T07:36:25.790302",
          "status": "completed"
        },
        "tags": [],
        "colab": {
          "base_uri": "https://localhost:8080/"
        },
        "id": "78ebbe36",
        "outputId": "6de81601-2c6a-4447-a022-13c45a6fc7fd"
      },
      "outputs": [
        {
          "output_type": "execute_result",
          "data": {
            "text/plain": [
              "array([2, 0, 1, 5, 0, 2, 2, 4, 5, 2, 4, 3, 2, 2, 0, 0, 2, 3, 5, 4, 1, 0,\n",
              "       1, 1, 2, 4, 2, 5, 0, 2, 0, 3, 1, 3, 3, 0, 5, 2, 4, 0, 3, 1, 1, 0,\n",
              "       0, 0, 4, 2, 4, 1, 4, 1, 3, 0, 5, 4, 2, 5, 4, 5, 5, 0, 5, 3, 2, 0,\n",
              "       2, 2, 0, 2, 2, 3, 5, 1, 1, 1, 1, 0, 2, 4, 0, 2, 0, 5, 1, 0, 2, 2,\n",
              "       3, 0, 3, 5, 5, 0, 2, 2, 5, 5, 0, 2, 2, 1, 5, 1, 5, 4, 0, 0, 2, 3,\n",
              "       1, 2, 0, 3, 0, 2, 3, 1, 3, 1, 3, 2, 5, 3, 2, 2, 4, 1, 1, 3, 3, 1,\n",
              "       4, 1, 0, 4, 1, 5, 3, 1, 2, 0, 3, 2, 0, 2, 4, 0, 0, 0, 2, 0, 0, 0,\n",
              "       1, 1, 0, 3, 5, 5, 1, 0, 0, 4, 0, 1, 2, 1, 3, 1, 2, 0, 2, 4, 0, 1,\n",
              "       1, 5, 5, 5, 1, 0, 2, 3, 2, 1, 1, 0, 4, 4, 3, 0, 5, 4, 2, 0, 0, 1,\n",
              "       0, 0, 2, 1, 2, 3, 5, 1, 2, 3, 2, 5, 1, 0, 1, 0, 4, 1, 2, 5, 1, 1,\n",
              "       0, 5, 2, 5, 0, 5, 1, 3, 0, 2, 0, 3, 4, 2, 1, 4, 0, 1, 0, 0, 2, 1,\n",
              "       4, 2, 2, 3, 3, 1, 0, 4, 1, 0, 2, 1, 0, 0, 2, 0, 1, 3, 5, 2, 5, 3,\n",
              "       5, 4, 0, 5, 5, 1, 2, 0, 1, 1, 3, 3, 4, 1, 4, 5, 4, 4, 3, 1, 0, 1,\n",
              "       4, 4, 3, 3, 2, 0, 1, 1, 0, 0, 4, 1, 2, 0, 1, 0, 0, 3, 0, 2, 4, 0,\n",
              "       2, 0, 2, 2, 1, 1, 1, 5, 4, 4, 4, 5, 0, 3, 3, 5, 1, 1, 1, 5, 5, 5,\n",
              "       2, 5, 3, 2, 1, 2, 5, 0, 1, 1, 0, 4, 3, 2, 3, 4, 2, 3, 1, 1, 1, 4,\n",
              "       4, 3, 0, 1, 2, 2, 0, 1, 4, 0, 0, 4, 0, 1, 3, 2, 1, 3, 2, 3, 1, 3,\n",
              "       1, 2, 1, 3, 2, 0, 3, 3, 0, 2, 0, 2, 1, 3, 5, 5, 3, 2, 5, 2, 5, 4,\n",
              "       2, 0, 3, 3, 0, 2, 2, 2, 5, 1, 2, 5, 1, 1, 0, 2, 4, 1, 4, 2, 3, 0,\n",
              "       4, 0, 2, 4, 0, 4, 4, 0, 2, 1, 0, 2, 3, 2, 0, 0, 3, 4, 2, 2, 1, 5,\n",
              "       2, 4, 0, 0, 5, 5, 0, 4, 2, 0, 0, 1, 0, 2, 0, 0, 3, 2, 5, 2, 2, 0,\n",
              "       0, 5, 2, 0, 1, 1, 4, 4, 2, 5, 2, 2, 1, 1, 0, 0, 4, 4, 5, 1, 0, 4,\n",
              "       1, 2, 0, 3, 5, 0, 0, 1, 1, 1, 3, 4, 1, 5, 4, 1, 2, 1, 2, 4, 2, 5,\n",
              "       4, 4, 2, 2, 5, 5, 4, 0, 0, 5, 4, 2, 5, 4, 1, 0, 1, 4, 5, 5, 5, 4,\n",
              "       4, 2, 1, 1, 2, 3, 0, 2, 4, 2, 5, 5, 1, 2, 2, 3, 3, 3, 5, 2, 0, 1,\n",
              "       0, 0, 2, 2, 4, 3, 2, 1, 3, 2, 1, 2, 0, 5, 4, 2, 5, 1, 1, 3, 5, 3,\n",
              "       1, 4, 3, 4, 2, 1, 1, 2, 3, 4, 5, 2, 0, 0, 3, 0, 5, 0, 0, 4, 0, 0,\n",
              "       0, 5, 5, 5, 1, 2, 0, 4, 2, 2, 2, 4, 5, 2, 2, 1, 0, 4, 1, 3, 2, 2,\n",
              "       4, 5, 2, 1, 0, 1, 3, 3, 2, 2, 3, 1, 3, 4, 3, 3, 3, 1, 2, 3, 4, 1,\n",
              "       0, 4, 2, 2, 1, 4, 0, 1, 1, 2, 4, 1, 1, 1, 3, 3, 3, 2, 4, 4, 5, 3,\n",
              "       0, 4, 0, 3, 1, 0, 0, 0, 5, 0, 5, 3, 2, 4, 1, 2, 1, 1, 1, 5, 4, 2,\n",
              "       0, 3, 1, 2, 4, 5, 2, 4, 2, 3, 5, 2, 5, 4, 4, 1, 3, 5, 0, 0, 0, 5,\n",
              "       2, 5, 3, 0, 5, 4, 5, 1, 2, 4, 4, 5, 5, 3, 5, 4, 3, 5, 0, 2, 4, 1,\n",
              "       1, 0, 0, 3, 0, 5, 1, 0, 0, 1], dtype=int8)"
            ]
          },
          "metadata": {},
          "execution_count": 46
        }
      ],
      "source": [
        "y_test "
      ]
    },
    {
      "cell_type": "code",
      "execution_count": 47,
      "id": "1982f007",
      "metadata": {
        "execution": {
          "iopub.execute_input": "2023-02-07T07:36:25.833709Z",
          "iopub.status.busy": "2023-02-07T07:36:25.833169Z",
          "iopub.status.idle": "2023-02-07T07:36:38.086815Z",
          "shell.execute_reply": "2023-02-07T07:36:38.084971Z"
        },
        "papermill": {
          "duration": 12.267661,
          "end_time": "2023-02-07T07:36:38.090254",
          "exception": false,
          "start_time": "2023-02-07T07:36:25.822593",
          "status": "completed"
        },
        "tags": [],
        "id": "1982f007"
      },
      "outputs": [],
      "source": [
        "#Build Decision Tree model using DecisionTreeClassifier\n",
        "from sklearn.tree import DecisionTreeClassifier\n",
        "from sklearn.metrics import accuracy_score \n",
        "tdt = DecisionTreeClassifier().fit(x_train,y_train)\n",
        "y_train_pred=tdt.predict(x_train)#predicting train data\n",
        "y_test_pred=tdt.predict(x_test)"
      ]
    },
    {
      "cell_type": "code",
      "execution_count": 48,
      "id": "9f38cb8b",
      "metadata": {
        "execution": {
          "iopub.execute_input": "2023-02-07T07:36:38.109836Z",
          "iopub.status.busy": "2023-02-07T07:36:38.109364Z",
          "iopub.status.idle": "2023-02-07T07:36:38.117480Z",
          "shell.execute_reply": "2023-02-07T07:36:38.116243Z"
        },
        "papermill": {
          "duration": 0.023392,
          "end_time": "2023-02-07T07:36:38.121988",
          "exception": false,
          "start_time": "2023-02-07T07:36:38.098596",
          "status": "completed"
        },
        "tags": [],
        "colab": {
          "base_uri": "https://localhost:8080/"
        },
        "id": "9f38cb8b",
        "outputId": "8dfb1e4d-0c9c-445d-b85b-c122730e7077"
      },
      "outputs": [
        {
          "output_type": "stream",
          "name": "stdout",
          "text": [
            "Training Accuracy  1.0\n",
            "Testing Accuracy  0.9565217391304348\n"
          ]
        }
      ],
      "source": [
        "print(\"Training Accuracy \",accuracy_score(y_train, y_train_pred))#Accuracy of train data is 100%\n",
        "print(\"Testing Accuracy \",accuracy_score(y_test, y_test_pred))\n"
      ]
    },
    {
      "cell_type": "code",
      "source": [
        "classifiers = [\n",
        "    DecisionTreeClassifier()\n",
        "]"
      ],
      "metadata": {
        "id": "-p4o_p1rBVWF"
      },
      "id": "-p4o_p1rBVWF",
      "execution_count": 49,
      "outputs": []
    },
    {
      "cell_type": "code",
      "source": [
        "from sklearn.metrics import f1_score"
      ],
      "metadata": {
        "id": "LxI3OkgHPGXF"
      },
      "id": "LxI3OkgHPGXF",
      "execution_count": 50,
      "outputs": []
    },
    {
      "cell_type": "code",
      "source": [
        "def f_score(X_train, X_test, y_train, y_test):\n",
        "    for clf in classifiers:\n",
        "        s = time.time()\n",
        "        clf.fit(x_train,y_train)\n",
        "        y_pred = clf.predict(x_test)\n",
        "        f = f1_score(y_true=y_test,y_pred=y_pred,average=\"macro\")\n",
        "        e = time.time()\n",
        "        print(f\"Score: {round(f,3)} \\t Time(in secs): {round(e-s,3)} \\t Classifier: {clf.__class__.__name__}\")"
      ],
      "metadata": {
        "id": "OODyjZcaBDks"
      },
      "id": "OODyjZcaBDks",
      "execution_count": 51,
      "outputs": []
    },
    {
      "cell_type": "code",
      "execution_count": 52,
      "id": "a0baaa93",
      "metadata": {
        "papermill": {
          "duration": 0.00826,
          "end_time": "2023-02-07T07:37:10.607766",
          "exception": false,
          "start_time": "2023-02-07T07:37:10.599506",
          "status": "completed"
        },
        "tags": [],
        "colab": {
          "base_uri": "https://localhost:8080/"
        },
        "id": "a0baaa93",
        "outputId": "3d67a973-ef20-4872-d287-5b90978ad267"
      },
      "outputs": [
        {
          "output_type": "stream",
          "name": "stdout",
          "text": [
            "0.9544426340962687\n"
          ]
        }
      ],
      "source": [
        "score = f1_score(y_test_pred,y_test,average='macro')\n",
        "print(score)\n"
      ]
    },
    {
      "cell_type": "code",
      "source": [
        "pred = tdt.predict(x_test)"
      ],
      "metadata": {
        "id": "yl1rmg7nDFoZ"
      },
      "id": "yl1rmg7nDFoZ",
      "execution_count": 53,
      "outputs": []
    },
    {
      "cell_type": "code",
      "source": [
        "precision = precision_score(y_test, pred,pos_label='positive', average='micro')\n",
        "recall = recall_score(y_test, pred,pos_label='positive',average='micro')\n",
        " \n",
        "print('Precision: ',precision)\n",
        "print('Recall: ',recall)"
      ],
      "metadata": {
        "colab": {
          "base_uri": "https://localhost:8080/"
        },
        "id": "xDsptPapCs6k",
        "outputId": "1ffda88c-2c7f-46ab-c2d9-9852f4119ae5"
      },
      "id": "xDsptPapCs6k",
      "execution_count": 54,
      "outputs": [
        {
          "output_type": "stream",
          "name": "stdout",
          "text": [
            "Precision:  0.9565217391304348\n",
            "Recall:  0.9565217391304348\n"
          ]
        },
        {
          "output_type": "stream",
          "name": "stderr",
          "text": [
            "/usr/local/lib/python3.9/dist-packages/sklearn/metrics/_classification.py:1396: UserWarning: Note that pos_label (set to 'positive') is ignored when average != 'binary' (got 'micro'). You may use labels=[pos_label] to specify a single positive class.\n",
            "  warnings.warn(\n",
            "/usr/local/lib/python3.9/dist-packages/sklearn/metrics/_classification.py:1396: UserWarning: Note that pos_label (set to 'positive') is ignored when average != 'binary' (got 'micro'). You may use labels=[pos_label] to specify a single positive class.\n",
            "  warnings.warn(\n"
          ]
        }
      ]
    },
    {
      "cell_type": "code",
      "source": [
        "from sklearn.tree import DecisionTreeClassifier\n",
        "classifier = DecisionTreeClassifier(max_features=1,random_state=42)\n",
        "classifier.fit(x_train, y_train);"
      ],
      "metadata": {
        "id": "h6WCFDLtFuCq"
      },
      "id": "h6WCFDLtFuCq",
      "execution_count": 55,
      "outputs": []
    },
    {
      "cell_type": "code",
      "source": [
        "from sklearn import metrics\n",
        "\n",
        "actual = np.random.binomial(1,.9,size = 1000)\n",
        "predicted = np.random.binomial(1,.9,size = 1000)\n",
        "\n",
        "predictions = classifier.predict(x_test)\n",
        "confusion_matrix = metrics.confusion_matrix(actual, predicted)\n",
        "\n",
        "cm_display = metrics.ConfusionMatrixDisplay(confusion_matrix = confusion_matrix, display_labels = [False, True])\n",
        "\n",
        "cm_display.plot()\n",
        "plt.show()\n"
      ],
      "metadata": {
        "colab": {
          "base_uri": "https://localhost:8080/",
          "height": 449
        },
        "id": "O0kZ9ayTFWlQ",
        "outputId": "eee42979-bf26-412e-d326-408b300db9d4"
      },
      "id": "O0kZ9ayTFWlQ",
      "execution_count": 56,
      "outputs": [
        {
          "output_type": "display_data",
          "data": {
            "text/plain": [
              "<Figure size 640x480 with 2 Axes>"
            ],
            "image/png": "[encoded data removed]"
          },
          "metadata": {}
        }
      ]
    },
    {
      "cell_type": "markdown",
      "source": [
        "The Confusion Matrix created has four different quadrants:\n",
        "\n",
        "True Negative (Top-Left Quadrant)\n",
        "False Positive (Top-Right Quadrant)\n",
        "False Negative (Bottom-Left Quadrant)\n",
        "True Positive (Bottom-Right Quadrant)"
      ],
      "metadata": {
        "id": "pBkrP8oIMAjX"
      },
      "id": "pBkrP8oIMAjX"
    }
  ],
  "metadata": {
    "kernelspec": {
      "display_name": "Python 3",
      "language": "python",
      "name": "python3"
    },
    "language_info": {
      "codemirror_mode": {
        "name": "ipython",
        "version": 3
      },
      "file_extension": ".py",
      "mimetype": "text/x-python",
      "name": "python",
      "nbconvert_exporter": "python",
      "pygments_lexer": "ipython3",
      "version": "3.7.12"
    },
    "papermill": {
      "default_parameters": {},
      "duration": 61.154637,
      "end_time": "2023-02-07T07:37:11.744280",
      "environment_variables": {},
      "exception": null,
      "input_path": "__notebook__.ipynb",
      "output_path": "__notebook__.ipynb",
      "parameters": {},
      "start_time": "2023-02-07T07:36:10.589643",
      "version": "2.3.4"
    },
    "colab": {
      "provenance": [],
      "include_colab_link": true
    }
  },
  "nbformat": 4,
  "nbformat_minor": 5
}