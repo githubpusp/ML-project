{
  "cells": [
    {
      "cell_type": "markdown",
      "metadata": {
        "id": "view-in-github",
        "colab_type": "text"
      },
      "source": [
        "<a href=\"https://colab.research.google.com/github/30kirtana/ML-project/blob/main/randomforest.ipynb\" target=\"_parent\"><img src=\"https://colab.research.google.com/assets/colab-badge.svg\" alt=\"Open In Colab\"/></a>"
      ]
    },
    {
      "cell_type": "markdown",
      "id": "12fed013",
      "metadata": {
        "papermill": {
          "duration": 0.00765,
          "end_time": "2023-02-07T07:36:22.216790",
          "exception": false,
          "start_time": "2023-02-07T07:36:22.209140",
          "status": "completed"
        },
        "tags": [],
        "id": "12fed013"
      },
      "source": [
        "# Random Forest Classifier"
      ]
    },
    {
      "cell_type": "code",
      "execution_count": null,
      "id": "7d875b91",
      "metadata": {
        "execution": {
          "iopub.execute_input": "2023-02-07T07:36:22.231895Z",
          "iopub.status.busy": "2023-02-07T07:36:22.231322Z",
          "iopub.status.idle": "2023-02-07T07:36:23.802750Z",
          "shell.execute_reply": "2023-02-07T07:36:23.801147Z"
        },
        "papermill": {
          "duration": 1.583358,
          "end_time": "2023-02-07T07:36:23.806565",
          "exception": false,
          "start_time": "2023-02-07T07:36:22.223207",
          "status": "completed"
        },
        "tags": [],
        "id": "7d875b91",
        "outputId": "e1f4af97-240b-4616-fe51-d2579c030775"
      },
      "outputs": [
        {
          "data": {
            "text/html": [
              "<div>\n",
              "<style scoped>\n",
              "    .dataframe tbody tr th:only-of-type {\n",
              "        vertical-align: middle;\n",
              "    }\n",
              "\n",
              "    .dataframe tbody tr th {\n",
              "        vertical-align: top;\n",
              "    }\n",
              "\n",
              "    .dataframe thead th {\n",
              "        text-align: right;\n",
              "    }\n",
              "</style>\n",
              "<table border=\"1\" class=\"dataframe\">\n",
              "  <thead>\n",
              "    <tr style=\"text-align: right;\">\n",
              "      <th></th>\n",
              "      <th>tBodyAcc-mean()-X</th>\n",
              "      <th>tBodyAcc-mean()-Y</th>\n",
              "      <th>tBodyAcc-mean()-Z</th>\n",
              "      <th>tBodyAcc-std()-X</th>\n",
              "      <th>tBodyAcc-std()-Y</th>\n",
              "      <th>tBodyAcc-std()-Z</th>\n",
              "      <th>tBodyAcc-mad()-X</th>\n",
              "      <th>tBodyAcc-mad()-Y</th>\n",
              "      <th>tBodyAcc-mad()-Z</th>\n",
              "      <th>tBodyAcc-max()-X</th>\n",
              "      <th>...</th>\n",
              "      <th>fBodyBodyGyroJerkMag-kurtosis()</th>\n",
              "      <th>angle(tBodyAccMean,gravity)</th>\n",
              "      <th>angle(tBodyAccJerkMean),gravityMean)</th>\n",
              "      <th>angle(tBodyGyroMean,gravityMean)</th>\n",
              "      <th>angle(tBodyGyroJerkMean,gravityMean)</th>\n",
              "      <th>angle(X,gravityMean)</th>\n",
              "      <th>angle(Y,gravityMean)</th>\n",
              "      <th>angle(Z,gravityMean)</th>\n",
              "      <th>subject</th>\n",
              "      <th>Activity</th>\n",
              "    </tr>\n",
              "  </thead>\n",
              "  <tbody>\n",
              "    <tr>\n",
              "      <th>0</th>\n",
              "      <td>0.288585</td>\n",
              "      <td>-0.020294</td>\n",
              "      <td>-0.132905</td>\n",
              "      <td>-0.995279</td>\n",
              "      <td>-0.983111</td>\n",
              "      <td>-0.913526</td>\n",
              "      <td>-0.995112</td>\n",
              "      <td>-0.983185</td>\n",
              "      <td>-0.923527</td>\n",
              "      <td>-0.934724</td>\n",
              "      <td>...</td>\n",
              "      <td>-0.710304</td>\n",
              "      <td>-0.112754</td>\n",
              "      <td>0.030400</td>\n",
              "      <td>-0.464761</td>\n",
              "      <td>-0.018446</td>\n",
              "      <td>-0.841247</td>\n",
              "      <td>0.179941</td>\n",
              "      <td>-0.058627</td>\n",
              "      <td>1</td>\n",
              "      <td>STANDING</td>\n",
              "    </tr>\n",
              "    <tr>\n",
              "      <th>1</th>\n",
              "      <td>0.278419</td>\n",
              "      <td>-0.016411</td>\n",
              "      <td>-0.123520</td>\n",
              "      <td>-0.998245</td>\n",
              "      <td>-0.975300</td>\n",
              "      <td>-0.960322</td>\n",
              "      <td>-0.998807</td>\n",
              "      <td>-0.974914</td>\n",
              "      <td>-0.957686</td>\n",
              "      <td>-0.943068</td>\n",
              "      <td>...</td>\n",
              "      <td>-0.861499</td>\n",
              "      <td>0.053477</td>\n",
              "      <td>-0.007435</td>\n",
              "      <td>-0.732626</td>\n",
              "      <td>0.703511</td>\n",
              "      <td>-0.844788</td>\n",
              "      <td>0.180289</td>\n",
              "      <td>-0.054317</td>\n",
              "      <td>1</td>\n",
              "      <td>STANDING</td>\n",
              "    </tr>\n",
              "    <tr>\n",
              "      <th>2</th>\n",
              "      <td>0.279653</td>\n",
              "      <td>-0.019467</td>\n",
              "      <td>-0.113462</td>\n",
              "      <td>-0.995380</td>\n",
              "      <td>-0.967187</td>\n",
              "      <td>-0.978944</td>\n",
              "      <td>-0.996520</td>\n",
              "      <td>-0.963668</td>\n",
              "      <td>-0.977469</td>\n",
              "      <td>-0.938692</td>\n",
              "      <td>...</td>\n",
              "      <td>-0.760104</td>\n",
              "      <td>-0.118559</td>\n",
              "      <td>0.177899</td>\n",
              "      <td>0.100699</td>\n",
              "      <td>0.808529</td>\n",
              "      <td>-0.848933</td>\n",
              "      <td>0.180637</td>\n",
              "      <td>-0.049118</td>\n",
              "      <td>1</td>\n",
              "      <td>STANDING</td>\n",
              "    </tr>\n",
              "    <tr>\n",
              "      <th>3</th>\n",
              "      <td>0.279174</td>\n",
              "      <td>-0.026201</td>\n",
              "      <td>-0.123283</td>\n",
              "      <td>-0.996091</td>\n",
              "      <td>-0.983403</td>\n",
              "      <td>-0.990675</td>\n",
              "      <td>-0.997099</td>\n",
              "      <td>-0.982750</td>\n",
              "      <td>-0.989302</td>\n",
              "      <td>-0.938692</td>\n",
              "      <td>...</td>\n",
              "      <td>-0.482845</td>\n",
              "      <td>-0.036788</td>\n",
              "      <td>-0.012892</td>\n",
              "      <td>0.640011</td>\n",
              "      <td>-0.485366</td>\n",
              "      <td>-0.848649</td>\n",
              "      <td>0.181935</td>\n",
              "      <td>-0.047663</td>\n",
              "      <td>1</td>\n",
              "      <td>STANDING</td>\n",
              "    </tr>\n",
              "    <tr>\n",
              "      <th>4</th>\n",
              "      <td>0.276629</td>\n",
              "      <td>-0.016570</td>\n",
              "      <td>-0.115362</td>\n",
              "      <td>-0.998139</td>\n",
              "      <td>-0.980817</td>\n",
              "      <td>-0.990482</td>\n",
              "      <td>-0.998321</td>\n",
              "      <td>-0.979672</td>\n",
              "      <td>-0.990441</td>\n",
              "      <td>-0.942469</td>\n",
              "      <td>...</td>\n",
              "      <td>-0.699205</td>\n",
              "      <td>0.123320</td>\n",
              "      <td>0.122542</td>\n",
              "      <td>0.693578</td>\n",
              "      <td>-0.615971</td>\n",
              "      <td>-0.847865</td>\n",
              "      <td>0.185151</td>\n",
              "      <td>-0.043892</td>\n",
              "      <td>1</td>\n",
              "      <td>STANDING</td>\n",
              "    </tr>\n",
              "  </tbody>\n",
              "</table>\n",
              "<p>5 rows × 563 columns</p>\n",
              "</div>"
            ],
            "text/plain": [
              "   tBodyAcc-mean()-X  tBodyAcc-mean()-Y  tBodyAcc-mean()-Z  tBodyAcc-std()-X  \\\n",
              "0           0.288585          -0.020294          -0.132905         -0.995279   \n",
              "1           0.278419          -0.016411          -0.123520         -0.998245   \n",
              "2           0.279653          -0.019467          -0.113462         -0.995380   \n",
              "3           0.279174          -0.026201          -0.123283         -0.996091   \n",
              "4           0.276629          -0.016570          -0.115362         -0.998139   \n",
              "\n",
              "   tBodyAcc-std()-Y  tBodyAcc-std()-Z  tBodyAcc-mad()-X  tBodyAcc-mad()-Y  \\\n",
              "0         -0.983111         -0.913526         -0.995112         -0.983185   \n",
              "1         -0.975300         -0.960322         -0.998807         -0.974914   \n",
              "2         -0.967187         -0.978944         -0.996520         -0.963668   \n",
              "3         -0.983403         -0.990675         -0.997099         -0.982750   \n",
              "4         -0.980817         -0.990482         -0.998321         -0.979672   \n",
              "\n",
              "   tBodyAcc-mad()-Z  tBodyAcc-max()-X  ...  fBodyBodyGyroJerkMag-kurtosis()  \\\n",
              "0         -0.923527         -0.934724  ...                        -0.710304   \n",
              "1         -0.957686         -0.943068  ...                        -0.861499   \n",
              "2         -0.977469         -0.938692  ...                        -0.760104   \n",
              "3         -0.989302         -0.938692  ...                        -0.482845   \n",
              "4         -0.990441         -0.942469  ...                        -0.699205   \n",
              "\n",
              "   angle(tBodyAccMean,gravity)  angle(tBodyAccJerkMean),gravityMean)  \\\n",
              "0                    -0.112754                              0.030400   \n",
              "1                     0.053477                             -0.007435   \n",
              "2                    -0.118559                              0.177899   \n",
              "3                    -0.036788                             -0.012892   \n",
              "4                     0.123320                              0.122542   \n",
              "\n",
              "   angle(tBodyGyroMean,gravityMean)  angle(tBodyGyroJerkMean,gravityMean)  \\\n",
              "0                         -0.464761                             -0.018446   \n",
              "1                         -0.732626                              0.703511   \n",
              "2                          0.100699                              0.808529   \n",
              "3                          0.640011                             -0.485366   \n",
              "4                          0.693578                             -0.615971   \n",
              "\n",
              "   angle(X,gravityMean)  angle(Y,gravityMean)  angle(Z,gravityMean)  subject  \\\n",
              "0             -0.841247              0.179941             -0.058627        1   \n",
              "1             -0.844788              0.180289             -0.054317        1   \n",
              "2             -0.848933              0.180637             -0.049118        1   \n",
              "3             -0.848649              0.181935             -0.047663        1   \n",
              "4             -0.847865              0.185151             -0.043892        1   \n",
              "\n",
              "   Activity  \n",
              "0  STANDING  \n",
              "1  STANDING  \n",
              "2  STANDING  \n",
              "3  STANDING  \n",
              "4  STANDING  \n",
              "\n",
              "[5 rows x 563 columns]"
            ]
          },
          "execution_count": 1,
          "metadata": {},
          "output_type": "execute_result"
        }
      ],
      "source": [
        "import pandas as pd \n",
        "import numpy as np \n",
        "d=pd.read_csv(\"/kaggle/input/human-activity-recognition-with-smartphones/train.csv\")\n",
        "d.head()"
      ]
    },
    {
      "cell_type": "code",
      "execution_count": null,
      "id": "3bc70687",
      "metadata": {
        "execution": {
          "iopub.execute_input": "2023-02-07T07:36:23.827932Z",
          "iopub.status.busy": "2023-02-07T07:36:23.827430Z",
          "iopub.status.idle": "2023-02-07T07:36:23.835549Z",
          "shell.execute_reply": "2023-02-07T07:36:23.834225Z"
        },
        "papermill": {
          "duration": 0.01863,
          "end_time": "2023-02-07T07:36:23.838143",
          "exception": false,
          "start_time": "2023-02-07T07:36:23.819513",
          "status": "completed"
        },
        "tags": [],
        "id": "3bc70687",
        "outputId": "3a2f4956-1d7f-404e-db7a-de4c60e0915c"
      },
      "outputs": [
        {
          "data": {
            "text/plain": [
              "(7352, 563)"
            ]
          },
          "execution_count": 2,
          "metadata": {},
          "output_type": "execute_result"
        }
      ],
      "source": [
        "d.shape "
      ]
    },
    {
      "cell_type": "code",
      "execution_count": null,
      "id": "90a93276",
      "metadata": {
        "execution": {
          "iopub.execute_input": "2023-02-07T07:36:23.852898Z",
          "iopub.status.busy": "2023-02-07T07:36:23.852387Z",
          "iopub.status.idle": "2023-02-07T07:36:23.862006Z",
          "shell.execute_reply": "2023-02-07T07:36:23.860525Z"
        },
        "papermill": {
          "duration": 0.020031,
          "end_time": "2023-02-07T07:36:23.864532",
          "exception": false,
          "start_time": "2023-02-07T07:36:23.844501",
          "status": "completed"
        },
        "tags": [],
        "id": "90a93276",
        "outputId": "2db5e2b4-656a-4366-8e86-a87e6472f8c9"
      },
      "outputs": [
        {
          "data": {
            "text/plain": [
              "Index(['tBodyAcc-mean()-X', 'tBodyAcc-mean()-Y', 'tBodyAcc-mean()-Z',\n",
              "       'tBodyAcc-std()-X', 'tBodyAcc-std()-Y', 'tBodyAcc-std()-Z',\n",
              "       'tBodyAcc-mad()-X', 'tBodyAcc-mad()-Y', 'tBodyAcc-mad()-Z',\n",
              "       'tBodyAcc-max()-X',\n",
              "       ...\n",
              "       'fBodyBodyGyroJerkMag-kurtosis()', 'angle(tBodyAccMean,gravity)',\n",
              "       'angle(tBodyAccJerkMean),gravityMean)',\n",
              "       'angle(tBodyGyroMean,gravityMean)',\n",
              "       'angle(tBodyGyroJerkMean,gravityMean)', 'angle(X,gravityMean)',\n",
              "       'angle(Y,gravityMean)', 'angle(Z,gravityMean)', 'subject', 'Activity'],\n",
              "      dtype='object', length=563)"
            ]
          },
          "execution_count": 3,
          "metadata": {},
          "output_type": "execute_result"
        }
      ],
      "source": [
        "d.columns"
      ]
    },
    {
      "cell_type": "code",
      "execution_count": null,
      "id": "37ec5f8a",
      "metadata": {
        "execution": {
          "iopub.execute_input": "2023-02-07T07:36:23.879938Z",
          "iopub.status.busy": "2023-02-07T07:36:23.879443Z",
          "iopub.status.idle": "2023-02-07T07:36:23.898197Z",
          "shell.execute_reply": "2023-02-07T07:36:23.896777Z"
        },
        "papermill": {
          "duration": 0.02978,
          "end_time": "2023-02-07T07:36:23.900960",
          "exception": false,
          "start_time": "2023-02-07T07:36:23.871180",
          "status": "completed"
        },
        "tags": [],
        "id": "37ec5f8a",
        "outputId": "fac3e1a1-13b2-47b7-f79b-746df167fed5"
      },
      "outputs": [
        {
          "data": {
            "text/plain": [
              "LAYING                1407\n",
              "STANDING              1374\n",
              "SITTING               1286\n",
              "WALKING               1226\n",
              "WALKING_UPSTAIRS      1073\n",
              "WALKING_DOWNSTAIRS     986\n",
              "Name: Activity, dtype: int64"
            ]
          },
          "execution_count": 4,
          "metadata": {},
          "output_type": "execute_result"
        }
      ],
      "source": [
        "d.Activity.value_counts()"
      ]
    },
    {
      "cell_type": "code",
      "execution_count": null,
      "id": "82f66368",
      "metadata": {
        "execution": {
          "iopub.execute_input": "2023-02-07T07:36:23.917293Z",
          "iopub.status.busy": "2023-02-07T07:36:23.915905Z",
          "iopub.status.idle": "2023-02-07T07:36:23.928796Z",
          "shell.execute_reply": "2023-02-07T07:36:23.927413Z"
        },
        "papermill": {
          "duration": 0.024901,
          "end_time": "2023-02-07T07:36:23.932462",
          "exception": false,
          "start_time": "2023-02-07T07:36:23.907561",
          "status": "completed"
        },
        "tags": [],
        "id": "82f66368"
      },
      "outputs": [],
      "source": [
        "d['activity_code']= d.Activity.astype('category').cat.codes"
      ]
    },
    {
      "cell_type": "code",
      "execution_count": null,
      "id": "351c0e1d",
      "metadata": {
        "execution": {
          "iopub.execute_input": "2023-02-07T07:36:23.948207Z",
          "iopub.status.busy": "2023-02-07T07:36:23.947580Z",
          "iopub.status.idle": "2023-02-07T07:36:23.960636Z",
          "shell.execute_reply": "2023-02-07T07:36:23.959543Z"
        },
        "papermill": {
          "duration": 0.024446,
          "end_time": "2023-02-07T07:36:23.963773",
          "exception": false,
          "start_time": "2023-02-07T07:36:23.939327",
          "status": "completed"
        },
        "tags": [],
        "id": "351c0e1d",
        "outputId": "748c57a4-dbe1-4f63-abd3-c43dff2a6184"
      },
      "outputs": [
        {
          "data": {
            "text/plain": [
              "0       2\n",
              "1       2\n",
              "2       2\n",
              "3       2\n",
              "4       2\n",
              "       ..\n",
              "7347    5\n",
              "7348    5\n",
              "7349    5\n",
              "7350    5\n",
              "7351    5\n",
              "Name: activity_code, Length: 7352, dtype: int8"
            ]
          },
          "execution_count": 6,
          "metadata": {},
          "output_type": "execute_result"
        }
      ],
      "source": [
        "d.activity_code"
      ]
    },
    {
      "cell_type": "code",
      "execution_count": null,
      "id": "d3b46f14",
      "metadata": {
        "execution": {
          "iopub.execute_input": "2023-02-07T07:36:23.980490Z",
          "iopub.status.busy": "2023-02-07T07:36:23.979850Z",
          "iopub.status.idle": "2023-02-07T07:36:24.048095Z",
          "shell.execute_reply": "2023-02-07T07:36:24.046501Z"
        },
        "papermill": {
          "duration": 0.079718,
          "end_time": "2023-02-07T07:36:24.051009",
          "exception": false,
          "start_time": "2023-02-07T07:36:23.971291",
          "status": "completed"
        },
        "tags": [],
        "id": "d3b46f14",
        "outputId": "fc446151-0f27-46f6-d232-415cc997010a"
      },
      "outputs": [
        {
          "data": {
            "text/html": [
              "<div>\n",
              "<style scoped>\n",
              "    .dataframe tbody tr th:only-of-type {\n",
              "        vertical-align: middle;\n",
              "    }\n",
              "\n",
              "    .dataframe tbody tr th {\n",
              "        vertical-align: top;\n",
              "    }\n",
              "\n",
              "    .dataframe thead th {\n",
              "        text-align: right;\n",
              "    }\n",
              "</style>\n",
              "<table border=\"1\" class=\"dataframe\">\n",
              "  <thead>\n",
              "    <tr style=\"text-align: right;\">\n",
              "      <th></th>\n",
              "      <th>tBodyAcc-mean()-X</th>\n",
              "      <th>tBodyAcc-mean()-Y</th>\n",
              "      <th>tBodyAcc-mean()-Z</th>\n",
              "      <th>tBodyAcc-std()-X</th>\n",
              "      <th>tBodyAcc-std()-Y</th>\n",
              "      <th>tBodyAcc-std()-Z</th>\n",
              "      <th>tBodyAcc-mad()-X</th>\n",
              "      <th>tBodyAcc-mad()-Y</th>\n",
              "      <th>tBodyAcc-mad()-Z</th>\n",
              "      <th>tBodyAcc-max()-X</th>\n",
              "      <th>...</th>\n",
              "      <th>fBodyBodyGyroJerkMag-kurtosis()</th>\n",
              "      <th>angle(tBodyAccMean,gravity)</th>\n",
              "      <th>angle(tBodyAccJerkMean),gravityMean)</th>\n",
              "      <th>angle(tBodyGyroMean,gravityMean)</th>\n",
              "      <th>angle(tBodyGyroJerkMean,gravityMean)</th>\n",
              "      <th>angle(X,gravityMean)</th>\n",
              "      <th>angle(Y,gravityMean)</th>\n",
              "      <th>angle(Z,gravityMean)</th>\n",
              "      <th>subject</th>\n",
              "      <th>activity_code</th>\n",
              "    </tr>\n",
              "  </thead>\n",
              "  <tbody>\n",
              "    <tr>\n",
              "      <th>0</th>\n",
              "      <td>0.288585</td>\n",
              "      <td>-0.020294</td>\n",
              "      <td>-0.132905</td>\n",
              "      <td>-0.995279</td>\n",
              "      <td>-0.983111</td>\n",
              "      <td>-0.913526</td>\n",
              "      <td>-0.995112</td>\n",
              "      <td>-0.983185</td>\n",
              "      <td>-0.923527</td>\n",
              "      <td>-0.934724</td>\n",
              "      <td>...</td>\n",
              "      <td>-0.710304</td>\n",
              "      <td>-0.112754</td>\n",
              "      <td>0.030400</td>\n",
              "      <td>-0.464761</td>\n",
              "      <td>-0.018446</td>\n",
              "      <td>-0.841247</td>\n",
              "      <td>0.179941</td>\n",
              "      <td>-0.058627</td>\n",
              "      <td>1</td>\n",
              "      <td>2</td>\n",
              "    </tr>\n",
              "    <tr>\n",
              "      <th>1</th>\n",
              "      <td>0.278419</td>\n",
              "      <td>-0.016411</td>\n",
              "      <td>-0.123520</td>\n",
              "      <td>-0.998245</td>\n",
              "      <td>-0.975300</td>\n",
              "      <td>-0.960322</td>\n",
              "      <td>-0.998807</td>\n",
              "      <td>-0.974914</td>\n",
              "      <td>-0.957686</td>\n",
              "      <td>-0.943068</td>\n",
              "      <td>...</td>\n",
              "      <td>-0.861499</td>\n",
              "      <td>0.053477</td>\n",
              "      <td>-0.007435</td>\n",
              "      <td>-0.732626</td>\n",
              "      <td>0.703511</td>\n",
              "      <td>-0.844788</td>\n",
              "      <td>0.180289</td>\n",
              "      <td>-0.054317</td>\n",
              "      <td>1</td>\n",
              "      <td>2</td>\n",
              "    </tr>\n",
              "    <tr>\n",
              "      <th>2</th>\n",
              "      <td>0.279653</td>\n",
              "      <td>-0.019467</td>\n",
              "      <td>-0.113462</td>\n",
              "      <td>-0.995380</td>\n",
              "      <td>-0.967187</td>\n",
              "      <td>-0.978944</td>\n",
              "      <td>-0.996520</td>\n",
              "      <td>-0.963668</td>\n",
              "      <td>-0.977469</td>\n",
              "      <td>-0.938692</td>\n",
              "      <td>...</td>\n",
              "      <td>-0.760104</td>\n",
              "      <td>-0.118559</td>\n",
              "      <td>0.177899</td>\n",
              "      <td>0.100699</td>\n",
              "      <td>0.808529</td>\n",
              "      <td>-0.848933</td>\n",
              "      <td>0.180637</td>\n",
              "      <td>-0.049118</td>\n",
              "      <td>1</td>\n",
              "      <td>2</td>\n",
              "    </tr>\n",
              "    <tr>\n",
              "      <th>3</th>\n",
              "      <td>0.279174</td>\n",
              "      <td>-0.026201</td>\n",
              "      <td>-0.123283</td>\n",
              "      <td>-0.996091</td>\n",
              "      <td>-0.983403</td>\n",
              "      <td>-0.990675</td>\n",
              "      <td>-0.997099</td>\n",
              "      <td>-0.982750</td>\n",
              "      <td>-0.989302</td>\n",
              "      <td>-0.938692</td>\n",
              "      <td>...</td>\n",
              "      <td>-0.482845</td>\n",
              "      <td>-0.036788</td>\n",
              "      <td>-0.012892</td>\n",
              "      <td>0.640011</td>\n",
              "      <td>-0.485366</td>\n",
              "      <td>-0.848649</td>\n",
              "      <td>0.181935</td>\n",
              "      <td>-0.047663</td>\n",
              "      <td>1</td>\n",
              "      <td>2</td>\n",
              "    </tr>\n",
              "    <tr>\n",
              "      <th>4</th>\n",
              "      <td>0.276629</td>\n",
              "      <td>-0.016570</td>\n",
              "      <td>-0.115362</td>\n",
              "      <td>-0.998139</td>\n",
              "      <td>-0.980817</td>\n",
              "      <td>-0.990482</td>\n",
              "      <td>-0.998321</td>\n",
              "      <td>-0.979672</td>\n",
              "      <td>-0.990441</td>\n",
              "      <td>-0.942469</td>\n",
              "      <td>...</td>\n",
              "      <td>-0.699205</td>\n",
              "      <td>0.123320</td>\n",
              "      <td>0.122542</td>\n",
              "      <td>0.693578</td>\n",
              "      <td>-0.615971</td>\n",
              "      <td>-0.847865</td>\n",
              "      <td>0.185151</td>\n",
              "      <td>-0.043892</td>\n",
              "      <td>1</td>\n",
              "      <td>2</td>\n",
              "    </tr>\n",
              "    <tr>\n",
              "      <th>...</th>\n",
              "      <td>...</td>\n",
              "      <td>...</td>\n",
              "      <td>...</td>\n",
              "      <td>...</td>\n",
              "      <td>...</td>\n",
              "      <td>...</td>\n",
              "      <td>...</td>\n",
              "      <td>...</td>\n",
              "      <td>...</td>\n",
              "      <td>...</td>\n",
              "      <td>...</td>\n",
              "      <td>...</td>\n",
              "      <td>...</td>\n",
              "      <td>...</td>\n",
              "      <td>...</td>\n",
              "      <td>...</td>\n",
              "      <td>...</td>\n",
              "      <td>...</td>\n",
              "      <td>...</td>\n",
              "      <td>...</td>\n",
              "      <td>...</td>\n",
              "    </tr>\n",
              "    <tr>\n",
              "      <th>7347</th>\n",
              "      <td>0.299665</td>\n",
              "      <td>-0.057193</td>\n",
              "      <td>-0.181233</td>\n",
              "      <td>-0.195387</td>\n",
              "      <td>0.039905</td>\n",
              "      <td>0.077078</td>\n",
              "      <td>-0.282301</td>\n",
              "      <td>0.043616</td>\n",
              "      <td>0.060410</td>\n",
              "      <td>0.210795</td>\n",
              "      <td>...</td>\n",
              "      <td>-0.880324</td>\n",
              "      <td>-0.190437</td>\n",
              "      <td>0.829718</td>\n",
              "      <td>0.206972</td>\n",
              "      <td>-0.425619</td>\n",
              "      <td>-0.791883</td>\n",
              "      <td>0.238604</td>\n",
              "      <td>0.049819</td>\n",
              "      <td>30</td>\n",
              "      <td>5</td>\n",
              "    </tr>\n",
              "    <tr>\n",
              "      <th>7348</th>\n",
              "      <td>0.273853</td>\n",
              "      <td>-0.007749</td>\n",
              "      <td>-0.147468</td>\n",
              "      <td>-0.235309</td>\n",
              "      <td>0.004816</td>\n",
              "      <td>0.059280</td>\n",
              "      <td>-0.322552</td>\n",
              "      <td>-0.029456</td>\n",
              "      <td>0.080585</td>\n",
              "      <td>0.117440</td>\n",
              "      <td>...</td>\n",
              "      <td>-0.680744</td>\n",
              "      <td>0.064907</td>\n",
              "      <td>0.875679</td>\n",
              "      <td>-0.879033</td>\n",
              "      <td>0.400219</td>\n",
              "      <td>-0.771840</td>\n",
              "      <td>0.252676</td>\n",
              "      <td>0.050053</td>\n",
              "      <td>30</td>\n",
              "      <td>5</td>\n",
              "    </tr>\n",
              "    <tr>\n",
              "      <th>7349</th>\n",
              "      <td>0.273387</td>\n",
              "      <td>-0.017011</td>\n",
              "      <td>-0.045022</td>\n",
              "      <td>-0.218218</td>\n",
              "      <td>-0.103822</td>\n",
              "      <td>0.274533</td>\n",
              "      <td>-0.304515</td>\n",
              "      <td>-0.098913</td>\n",
              "      <td>0.332584</td>\n",
              "      <td>0.043999</td>\n",
              "      <td>...</td>\n",
              "      <td>-0.304029</td>\n",
              "      <td>0.052806</td>\n",
              "      <td>-0.266724</td>\n",
              "      <td>0.864404</td>\n",
              "      <td>0.701169</td>\n",
              "      <td>-0.779133</td>\n",
              "      <td>0.249145</td>\n",
              "      <td>0.040811</td>\n",
              "      <td>30</td>\n",
              "      <td>5</td>\n",
              "    </tr>\n",
              "    <tr>\n",
              "      <th>7350</th>\n",
              "      <td>0.289654</td>\n",
              "      <td>-0.018843</td>\n",
              "      <td>-0.158281</td>\n",
              "      <td>-0.219139</td>\n",
              "      <td>-0.111412</td>\n",
              "      <td>0.268893</td>\n",
              "      <td>-0.310487</td>\n",
              "      <td>-0.068200</td>\n",
              "      <td>0.319473</td>\n",
              "      <td>0.101702</td>\n",
              "      <td>...</td>\n",
              "      <td>-0.344314</td>\n",
              "      <td>-0.101360</td>\n",
              "      <td>0.700740</td>\n",
              "      <td>0.936674</td>\n",
              "      <td>-0.589479</td>\n",
              "      <td>-0.785181</td>\n",
              "      <td>0.246432</td>\n",
              "      <td>0.025339</td>\n",
              "      <td>30</td>\n",
              "      <td>5</td>\n",
              "    </tr>\n",
              "    <tr>\n",
              "      <th>7351</th>\n",
              "      <td>0.351503</td>\n",
              "      <td>-0.012423</td>\n",
              "      <td>-0.203867</td>\n",
              "      <td>-0.269270</td>\n",
              "      <td>-0.087212</td>\n",
              "      <td>0.177404</td>\n",
              "      <td>-0.377404</td>\n",
              "      <td>-0.038678</td>\n",
              "      <td>0.229430</td>\n",
              "      <td>0.269013</td>\n",
              "      <td>...</td>\n",
              "      <td>-0.740738</td>\n",
              "      <td>-0.280088</td>\n",
              "      <td>-0.007739</td>\n",
              "      <td>-0.056088</td>\n",
              "      <td>-0.616956</td>\n",
              "      <td>-0.783267</td>\n",
              "      <td>0.246809</td>\n",
              "      <td>0.036695</td>\n",
              "      <td>30</td>\n",
              "      <td>5</td>\n",
              "    </tr>\n",
              "  </tbody>\n",
              "</table>\n",
              "<p>7352 rows × 563 columns</p>\n",
              "</div>"
            ],
            "text/plain": [
              "      tBodyAcc-mean()-X  tBodyAcc-mean()-Y  tBodyAcc-mean()-Z  \\\n",
              "0              0.288585          -0.020294          -0.132905   \n",
              "1              0.278419          -0.016411          -0.123520   \n",
              "2              0.279653          -0.019467          -0.113462   \n",
              "3              0.279174          -0.026201          -0.123283   \n",
              "4              0.276629          -0.016570          -0.115362   \n",
              "...                 ...                ...                ...   \n",
              "7347           0.299665          -0.057193          -0.181233   \n",
              "7348           0.273853          -0.007749          -0.147468   \n",
              "7349           0.273387          -0.017011          -0.045022   \n",
              "7350           0.289654          -0.018843          -0.158281   \n",
              "7351           0.351503          -0.012423          -0.203867   \n",
              "\n",
              "      tBodyAcc-std()-X  tBodyAcc-std()-Y  tBodyAcc-std()-Z  tBodyAcc-mad()-X  \\\n",
              "0            -0.995279         -0.983111         -0.913526         -0.995112   \n",
              "1            -0.998245         -0.975300         -0.960322         -0.998807   \n",
              "2            -0.995380         -0.967187         -0.978944         -0.996520   \n",
              "3            -0.996091         -0.983403         -0.990675         -0.997099   \n",
              "4            -0.998139         -0.980817         -0.990482         -0.998321   \n",
              "...                ...               ...               ...               ...   \n",
              "7347         -0.195387          0.039905          0.077078         -0.282301   \n",
              "7348         -0.235309          0.004816          0.059280         -0.322552   \n",
              "7349         -0.218218         -0.103822          0.274533         -0.304515   \n",
              "7350         -0.219139         -0.111412          0.268893         -0.310487   \n",
              "7351         -0.269270         -0.087212          0.177404         -0.377404   \n",
              "\n",
              "      tBodyAcc-mad()-Y  tBodyAcc-mad()-Z  tBodyAcc-max()-X  ...  \\\n",
              "0            -0.983185         -0.923527         -0.934724  ...   \n",
              "1            -0.974914         -0.957686         -0.943068  ...   \n",
              "2            -0.963668         -0.977469         -0.938692  ...   \n",
              "3            -0.982750         -0.989302         -0.938692  ...   \n",
              "4            -0.979672         -0.990441         -0.942469  ...   \n",
              "...                ...               ...               ...  ...   \n",
              "7347          0.043616          0.060410          0.210795  ...   \n",
              "7348         -0.029456          0.080585          0.117440  ...   \n",
              "7349         -0.098913          0.332584          0.043999  ...   \n",
              "7350         -0.068200          0.319473          0.101702  ...   \n",
              "7351         -0.038678          0.229430          0.269013  ...   \n",
              "\n",
              "      fBodyBodyGyroJerkMag-kurtosis()  angle(tBodyAccMean,gravity)  \\\n",
              "0                           -0.710304                    -0.112754   \n",
              "1                           -0.861499                     0.053477   \n",
              "2                           -0.760104                    -0.118559   \n",
              "3                           -0.482845                    -0.036788   \n",
              "4                           -0.699205                     0.123320   \n",
              "...                               ...                          ...   \n",
              "7347                        -0.880324                    -0.190437   \n",
              "7348                        -0.680744                     0.064907   \n",
              "7349                        -0.304029                     0.052806   \n",
              "7350                        -0.344314                    -0.101360   \n",
              "7351                        -0.740738                    -0.280088   \n",
              "\n",
              "      angle(tBodyAccJerkMean),gravityMean)  angle(tBodyGyroMean,gravityMean)  \\\n",
              "0                                 0.030400                         -0.464761   \n",
              "1                                -0.007435                         -0.732626   \n",
              "2                                 0.177899                          0.100699   \n",
              "3                                -0.012892                          0.640011   \n",
              "4                                 0.122542                          0.693578   \n",
              "...                                    ...                               ...   \n",
              "7347                              0.829718                          0.206972   \n",
              "7348                              0.875679                         -0.879033   \n",
              "7349                             -0.266724                          0.864404   \n",
              "7350                              0.700740                          0.936674   \n",
              "7351                             -0.007739                         -0.056088   \n",
              "\n",
              "      angle(tBodyGyroJerkMean,gravityMean)  angle(X,gravityMean)  \\\n",
              "0                                -0.018446             -0.841247   \n",
              "1                                 0.703511             -0.844788   \n",
              "2                                 0.808529             -0.848933   \n",
              "3                                -0.485366             -0.848649   \n",
              "4                                -0.615971             -0.847865   \n",
              "...                                    ...                   ...   \n",
              "7347                             -0.425619             -0.791883   \n",
              "7348                              0.400219             -0.771840   \n",
              "7349                              0.701169             -0.779133   \n",
              "7350                             -0.589479             -0.785181   \n",
              "7351                             -0.616956             -0.783267   \n",
              "\n",
              "      angle(Y,gravityMean)  angle(Z,gravityMean)  subject  activity_code  \n",
              "0                 0.179941             -0.058627        1              2  \n",
              "1                 0.180289             -0.054317        1              2  \n",
              "2                 0.180637             -0.049118        1              2  \n",
              "3                 0.181935             -0.047663        1              2  \n",
              "4                 0.185151             -0.043892        1              2  \n",
              "...                    ...                   ...      ...            ...  \n",
              "7347              0.238604              0.049819       30              5  \n",
              "7348              0.252676              0.050053       30              5  \n",
              "7349              0.249145              0.040811       30              5  \n",
              "7350              0.246432              0.025339       30              5  \n",
              "7351              0.246809              0.036695       30              5  \n",
              "\n",
              "[7352 rows x 563 columns]"
            ]
          },
          "execution_count": 7,
          "metadata": {},
          "output_type": "execute_result"
        }
      ],
      "source": [
        "d1=d.drop('Activity',axis=1)\n",
        "d1"
      ]
    },
    {
      "cell_type": "code",
      "execution_count": null,
      "id": "5facbba3",
      "metadata": {
        "execution": {
          "iopub.execute_input": "2023-02-07T07:36:24.068517Z",
          "iopub.status.busy": "2023-02-07T07:36:24.068030Z",
          "iopub.status.idle": "2023-02-07T07:36:24.103640Z",
          "shell.execute_reply": "2023-02-07T07:36:24.102501Z"
        },
        "papermill": {
          "duration": 0.047369,
          "end_time": "2023-02-07T07:36:24.106441",
          "exception": false,
          "start_time": "2023-02-07T07:36:24.059072",
          "status": "completed"
        },
        "tags": [],
        "id": "5facbba3"
      },
      "outputs": [],
      "source": [
        "xcol=d1.columns.to_list()\n",
        "xcol.pop(-1)\n",
        "xdata=d1[xcol]\n",
        "ycol='activity_code'"
      ]
    },
    {
      "cell_type": "code",
      "execution_count": null,
      "id": "230a0d7e",
      "metadata": {
        "execution": {
          "iopub.execute_input": "2023-02-07T07:36:24.125178Z",
          "iopub.status.busy": "2023-02-07T07:36:24.124647Z",
          "iopub.status.idle": "2023-02-07T07:36:25.750313Z",
          "shell.execute_reply": "2023-02-07T07:36:25.748907Z"
        },
        "papermill": {
          "duration": 1.639333,
          "end_time": "2023-02-07T07:36:25.753494",
          "exception": false,
          "start_time": "2023-02-07T07:36:24.114161",
          "status": "completed"
        },
        "tags": [],
        "id": "230a0d7e"
      },
      "outputs": [],
      "source": [
        "from sklearn.model_selection import train_test_split \n",
        "x_train, x_test, y_train, y_test =train_test_split(d1[xcol],d1[ycol].values,test_size =0.1)"
      ]
    },
    {
      "cell_type": "code",
      "execution_count": null,
      "id": "374bca63",
      "metadata": {
        "execution": {
          "iopub.execute_input": "2023-02-07T07:36:25.771010Z",
          "iopub.status.busy": "2023-02-07T07:36:25.770447Z",
          "iopub.status.idle": "2023-02-07T07:36:25.779677Z",
          "shell.execute_reply": "2023-02-07T07:36:25.778274Z"
        },
        "papermill": {
          "duration": 0.021854,
          "end_time": "2023-02-07T07:36:25.782640",
          "exception": false,
          "start_time": "2023-02-07T07:36:25.760786",
          "status": "completed"
        },
        "tags": [],
        "id": "374bca63",
        "outputId": "bf542789-354d-4d3d-a5e3-4fa2a8fee4e9"
      },
      "outputs": [
        {
          "data": {
            "text/plain": [
              "((6616, 562), (736, 562), (6616,), (736,))"
            ]
          },
          "execution_count": 10,
          "metadata": {},
          "output_type": "execute_result"
        }
      ],
      "source": [
        "x_train.shape, x_test.shape, y_train.shape, y_test.shape "
      ]
    },
    {
      "cell_type": "code",
      "execution_count": null,
      "id": "78ebbe36",
      "metadata": {
        "execution": {
          "iopub.execute_input": "2023-02-07T07:36:25.802031Z",
          "iopub.status.busy": "2023-02-07T07:36:25.801107Z",
          "iopub.status.idle": "2023-02-07T07:36:25.810867Z",
          "shell.execute_reply": "2023-02-07T07:36:25.809656Z"
        },
        "papermill": {
          "duration": 0.02391,
          "end_time": "2023-02-07T07:36:25.814212",
          "exception": false,
          "start_time": "2023-02-07T07:36:25.790302",
          "status": "completed"
        },
        "tags": [],
        "id": "78ebbe36",
        "outputId": "dcf1e2a5-3b0e-4e89-e90d-00be0d993df6"
      },
      "outputs": [
        {
          "data": {
            "text/plain": [
              "array([1, 3, 2, 0, 0, 1, 4, 3, 1, 4, 5, 5, 0, 0, 3, 4, 0, 1, 1, 1, 1, 3,\n",
              "       0, 1, 1, 3, 3, 5, 4, 4, 2, 3, 0, 1, 2, 5, 3, 4, 1, 3, 2, 0, 5, 1,\n",
              "       5, 1, 2, 1, 0, 3, 5, 2, 2, 0, 4, 1, 1, 1, 3, 3, 4, 5, 2, 1, 3, 1,\n",
              "       0, 1, 3, 4, 3, 2, 5, 2, 3, 1, 4, 0, 4, 4, 4, 0, 5, 2, 1, 4, 1, 5,\n",
              "       1, 0, 0, 2, 1, 1, 3, 4, 1, 0, 1, 1, 0, 3, 3, 2, 3, 2, 0, 3, 3, 4,\n",
              "       4, 3, 2, 2, 2, 4, 2, 2, 5, 3, 2, 5, 5, 4, 0, 5, 1, 5, 5, 3, 3, 1,\n",
              "       5, 3, 4, 5, 2, 2, 0, 5, 3, 5, 3, 2, 3, 5, 2, 1, 2, 2, 2, 4, 0, 2,\n",
              "       0, 1, 5, 0, 0, 0, 3, 5, 2, 4, 1, 3, 3, 5, 5, 3, 2, 0, 4, 2, 4, 1,\n",
              "       5, 4, 0, 0, 0, 4, 3, 2, 1, 1, 2, 4, 4, 1, 3, 0, 4, 4, 3, 4, 4, 5,\n",
              "       2, 3, 5, 1, 2, 3, 0, 3, 0, 2, 0, 1, 3, 1, 2, 3, 4, 1, 2, 2, 2, 5,\n",
              "       2, 2, 0, 3, 0, 0, 0, 1, 2, 3, 4, 1, 1, 3, 4, 1, 2, 1, 2, 2, 4, 0,\n",
              "       3, 2, 1, 1, 1, 4, 3, 5, 5, 1, 1, 1, 5, 5, 1, 1, 5, 5, 5, 2, 2, 4,\n",
              "       0, 1, 5, 3, 5, 3, 3, 3, 0, 0, 1, 2, 2, 0, 2, 5, 1, 2, 5, 0, 0, 3,\n",
              "       1, 3, 3, 3, 1, 1, 0, 2, 3, 0, 2, 1, 1, 3, 4, 5, 5, 2, 5, 1, 5, 5,\n",
              "       3, 2, 2, 5, 4, 2, 0, 3, 2, 1, 5, 2, 4, 3, 0, 3, 4, 0, 1, 5, 1, 0,\n",
              "       2, 3, 0, 5, 1, 5, 5, 2, 5, 3, 1, 1, 1, 5, 0, 4, 2, 1, 1, 3, 1, 5,\n",
              "       3, 2, 3, 3, 5, 1, 2, 4, 0, 2, 3, 0, 2, 5, 0, 2, 1, 4, 0, 2, 5, 5,\n",
              "       0, 2, 4, 1, 0, 4, 5, 3, 5, 3, 2, 2, 5, 4, 4, 2, 3, 1, 5, 1, 3, 5,\n",
              "       4, 5, 1, 1, 0, 2, 1, 0, 1, 2, 2, 1, 5, 5, 1, 2, 3, 2, 2, 4, 5, 2,\n",
              "       1, 4, 2, 2, 0, 3, 5, 3, 4, 4, 5, 3, 1, 4, 4, 1, 5, 1, 2, 1, 1, 0,\n",
              "       0, 4, 1, 1, 3, 1, 3, 1, 2, 1, 2, 2, 0, 2, 2, 4, 0, 1, 3, 4, 1, 2,\n",
              "       3, 3, 2, 4, 3, 2, 4, 5, 3, 2, 0, 3, 3, 5, 3, 1, 4, 2, 1, 0, 2, 5,\n",
              "       4, 5, 0, 4, 3, 1, 2, 4, 2, 5, 0, 3, 2, 2, 5, 1, 3, 0, 0, 5, 1, 1,\n",
              "       5, 3, 0, 0, 5, 2, 5, 5, 2, 0, 3, 4, 3, 1, 1, 0, 2, 2, 5, 3, 0, 2,\n",
              "       3, 3, 0, 1, 0, 1, 1, 4, 5, 5, 1, 1, 1, 3, 2, 3, 2, 4, 2, 0, 1, 4,\n",
              "       4, 2, 3, 2, 5, 2, 1, 2, 3, 1, 4, 2, 5, 2, 1, 0, 4, 2, 2, 5, 1, 3,\n",
              "       2, 3, 2, 4, 4, 4, 1, 4, 0, 5, 0, 5, 5, 5, 0, 5, 2, 0, 4, 4, 1, 2,\n",
              "       0, 4, 3, 5, 5, 0, 4, 0, 2, 0, 4, 1, 3, 3, 3, 2, 1, 5, 3, 3, 2, 1,\n",
              "       2, 1, 0, 3, 3, 2, 3, 0, 2, 2, 0, 1, 0, 4, 5, 0, 3, 3, 1, 5, 3, 0,\n",
              "       0, 2, 2, 3, 1, 3, 4, 3, 5, 5, 4, 1, 3, 4, 3, 5, 1, 2, 5, 3, 0, 2,\n",
              "       3, 4, 1, 3, 5, 0, 2, 1, 5, 1, 1, 1, 2, 2, 5, 2, 0, 0, 0, 3, 5, 5,\n",
              "       5, 3, 5, 0, 3, 1, 0, 2, 0, 0, 2, 1, 2, 5, 1, 5, 3, 0, 5, 2, 0, 4,\n",
              "       2, 2, 5, 2, 1, 3, 2, 1, 3, 1, 0, 5, 0, 0, 4, 2, 4, 0, 5, 5, 1, 5,\n",
              "       2, 3, 1, 1, 2, 5, 2, 4, 0, 4], dtype=int8)"
            ]
          },
          "execution_count": 11,
          "metadata": {},
          "output_type": "execute_result"
        }
      ],
      "source": [
        "y_test "
      ]
    },
    {
      "cell_type": "code",
      "execution_count": null,
      "id": "1982f007",
      "metadata": {
        "execution": {
          "iopub.execute_input": "2023-02-07T07:36:25.833709Z",
          "iopub.status.busy": "2023-02-07T07:36:25.833169Z",
          "iopub.status.idle": "2023-02-07T07:36:38.086815Z",
          "shell.execute_reply": "2023-02-07T07:36:38.084971Z"
        },
        "papermill": {
          "duration": 12.267661,
          "end_time": "2023-02-07T07:36:38.090254",
          "exception": false,
          "start_time": "2023-02-07T07:36:25.822593",
          "status": "completed"
        },
        "tags": [],
        "id": "1982f007"
      },
      "outputs": [],
      "source": [
        "#Build Random Forest model using ensemble.RandomForestClassifier\n",
        "from sklearn.ensemble import RandomForestClassifier\n",
        "from sklearn.metrics import accuracy_score \n",
        "rf=RandomForestClassifier()\n",
        "rf.fit(x_train, y_train)\n",
        "y_train_pred=rf.predict(x_train)#predicting train data\n",
        "y_test_pred=rf.predict(x_test)"
      ]
    },
    {
      "cell_type": "code",
      "execution_count": null,
      "id": "9f38cb8b",
      "metadata": {
        "execution": {
          "iopub.execute_input": "2023-02-07T07:36:38.109836Z",
          "iopub.status.busy": "2023-02-07T07:36:38.109364Z",
          "iopub.status.idle": "2023-02-07T07:36:38.117480Z",
          "shell.execute_reply": "2023-02-07T07:36:38.116243Z"
        },
        "papermill": {
          "duration": 0.023392,
          "end_time": "2023-02-07T07:36:38.121988",
          "exception": false,
          "start_time": "2023-02-07T07:36:38.098596",
          "status": "completed"
        },
        "tags": [],
        "id": "9f38cb8b",
        "outputId": "c5692cf2-b307-4fcb-e7a6-14897582a4f1"
      },
      "outputs": [
        {
          "name": "stdout",
          "output_type": "stream",
          "text": [
            "Training Accuracy  1.0\n",
            "Testing Accuracy  0.9904891304347826\n"
          ]
        }
      ],
      "source": [
        "print(\"Training Accuracy \",accuracy_score(y_train, y_train_pred))#Accuracy of train data is 100%\n",
        "print(\"Testing Accuracy \",accuracy_score(y_test, y_test_pred))"
      ]
    },
    {
      "cell_type": "code",
      "execution_count": null,
      "id": "9b46a5a4",
      "metadata": {
        "execution": {
          "iopub.execute_input": "2023-02-07T07:36:38.140029Z",
          "iopub.status.busy": "2023-02-07T07:36:38.139080Z",
          "iopub.status.idle": "2023-02-07T07:36:52.445987Z",
          "shell.execute_reply": "2023-02-07T07:36:52.444896Z"
        },
        "papermill": {
          "duration": 14.319442,
          "end_time": "2023-02-07T07:36:52.449044",
          "exception": false,
          "start_time": "2023-02-07T07:36:38.129602",
          "status": "completed"
        },
        "tags": [],
        "id": "9b46a5a4"
      },
      "outputs": [],
      "source": [
        "#Build Random Forest model using ensemble.RandomForestClassifier\n",
        "from sklearn.ensemble import RandomForestClassifier\n",
        "rf=RandomForestClassifier(criterion='entropy')\n",
        "rf.fit(x_train, y_train)\n",
        "y_train_pred=rf.predict(x_train)#predicting train data\n",
        "y_test_pred=rf.predict(x_test)"
      ]
    },
    {
      "cell_type": "code",
      "execution_count": null,
      "id": "c62b1a13",
      "metadata": {
        "execution": {
          "iopub.execute_input": "2023-02-07T07:36:52.467156Z",
          "iopub.status.busy": "2023-02-07T07:36:52.466266Z",
          "iopub.status.idle": "2023-02-07T07:36:52.475497Z",
          "shell.execute_reply": "2023-02-07T07:36:52.473797Z"
        },
        "papermill": {
          "duration": 0.02192,
          "end_time": "2023-02-07T07:36:52.478613",
          "exception": false,
          "start_time": "2023-02-07T07:36:52.456693",
          "status": "completed"
        },
        "tags": [],
        "id": "c62b1a13",
        "outputId": "947e8c75-adbc-42c6-8652-6129d95c8af4"
      },
      "outputs": [
        {
          "name": "stdout",
          "output_type": "stream",
          "text": [
            "Training Accuracy  1.0\n",
            "Testing Accuracy  0.9918478260869565\n"
          ]
        }
      ],
      "source": [
        "print(\"Training Accuracy \",accuracy_score(y_train, y_train_pred))#Accuracy of train data is 100%\n",
        "print(\"Testing Accuracy \",accuracy_score(y_test, y_test_pred))"
      ]
    },
    {
      "cell_type": "code",
      "execution_count": null,
      "id": "3e10d122",
      "metadata": {
        "execution": {
          "iopub.execute_input": "2023-02-07T07:36:52.496266Z",
          "iopub.status.busy": "2023-02-07T07:36:52.495737Z",
          "iopub.status.idle": "2023-02-07T07:36:58.642469Z",
          "shell.execute_reply": "2023-02-07T07:36:58.640701Z"
        },
        "papermill": {
          "duration": 6.159877,
          "end_time": "2023-02-07T07:36:58.646207",
          "exception": false,
          "start_time": "2023-02-07T07:36:52.486330",
          "status": "completed"
        },
        "tags": [],
        "id": "3e10d122"
      },
      "outputs": [],
      "source": [
        "#Build Random Forest model using ensemble.RandomForestClassifier\n",
        "from sklearn.ensemble import RandomForestClassifier\n",
        "rf=RandomForestClassifier(max_depth=5)#i want to stop at 5 layers so I took max_depth as 5 # it indicates pruning\n",
        "rf.fit(x_train, y_train)\n",
        "y_train_pred=rf.predict(x_train)#predicting train data\n",
        "y_test_pred=rf.predict(x_test)"
      ]
    },
    {
      "cell_type": "code",
      "execution_count": null,
      "id": "9bdd2c03",
      "metadata": {
        "execution": {
          "iopub.execute_input": "2023-02-07T07:36:58.664056Z",
          "iopub.status.busy": "2023-02-07T07:36:58.663542Z",
          "iopub.status.idle": "2023-02-07T07:36:58.673920Z",
          "shell.execute_reply": "2023-02-07T07:36:58.671843Z"
        },
        "papermill": {
          "duration": 0.022975,
          "end_time": "2023-02-07T07:36:58.677124",
          "exception": false,
          "start_time": "2023-02-07T07:36:58.654149",
          "status": "completed"
        },
        "tags": [],
        "id": "9bdd2c03",
        "outputId": "a7f1a8cf-f421-484c-cec5-3b2fb65b2722"
      },
      "outputs": [
        {
          "name": "stdout",
          "output_type": "stream",
          "text": [
            "Training Accuracy  0.9428657799274486\n",
            "Testing Accuracy  0.9442934782608695\n"
          ]
        }
      ],
      "source": [
        "print(\"Training Accuracy \",accuracy_score(y_train, y_train_pred))#Accuracy of train data is 100%\n",
        "print(\"Testing Accuracy \",accuracy_score(y_test, y_test_pred))"
      ]
    },
    {
      "cell_type": "code",
      "execution_count": null,
      "id": "5b867631",
      "metadata": {
        "execution": {
          "iopub.execute_input": "2023-02-07T07:36:58.697327Z",
          "iopub.status.busy": "2023-02-07T07:36:58.695795Z",
          "iopub.status.idle": "2023-02-07T07:37:10.557734Z",
          "shell.execute_reply": "2023-02-07T07:37:10.556320Z"
        },
        "papermill": {
          "duration": 11.876328,
          "end_time": "2023-02-07T07:37:10.561393",
          "exception": false,
          "start_time": "2023-02-07T07:36:58.685065",
          "status": "completed"
        },
        "tags": [],
        "id": "5b867631"
      },
      "outputs": [],
      "source": [
        "#Build Random Forest model using ensemble.RandomForestClassifier\n",
        "from sklearn.ensemble import RandomForestClassifier\n",
        "rf=RandomForestClassifier(max_features='sqrt')\n",
        "rf.fit(x_train, y_train)\n",
        "y_train_pred=rf.predict(x_train)#predicting train data\n",
        "y_test_pred=rf.predict(x_test)"
      ]
    },
    {
      "cell_type": "code",
      "execution_count": null,
      "id": "6826fd61",
      "metadata": {
        "execution": {
          "iopub.execute_input": "2023-02-07T07:37:10.580527Z",
          "iopub.status.busy": "2023-02-07T07:37:10.579054Z",
          "iopub.status.idle": "2023-02-07T07:37:10.588511Z",
          "shell.execute_reply": "2023-02-07T07:37:10.586968Z"
        },
        "papermill": {
          "duration": 0.022004,
          "end_time": "2023-02-07T07:37:10.591522",
          "exception": false,
          "start_time": "2023-02-07T07:37:10.569518",
          "status": "completed"
        },
        "tags": [],
        "id": "6826fd61",
        "outputId": "1d9835d4-2b50-4a5f-bdd7-9cc51a1f6566"
      },
      "outputs": [
        {
          "name": "stdout",
          "output_type": "stream",
          "text": [
            "Training Accuracy  1.0\n",
            "Testing Accuracy  0.9877717391304348\n"
          ]
        }
      ],
      "source": [
        "print(\"Training Accuracy \",accuracy_score(y_train, y_train_pred))#Accuracy of train data is 100%\n",
        "print(\"Testing Accuracy \",accuracy_score(y_test, y_test_pred))"
      ]
    },
    {
      "cell_type": "code",
      "execution_count": null,
      "id": "a0baaa93",
      "metadata": {
        "papermill": {
          "duration": 0.00826,
          "end_time": "2023-02-07T07:37:10.607766",
          "exception": false,
          "start_time": "2023-02-07T07:37:10.599506",
          "status": "completed"
        },
        "tags": [],
        "id": "a0baaa93"
      },
      "outputs": [],
      "source": []
    }
  ],
  "metadata": {
    "kernelspec": {
      "display_name": "Python 3",
      "language": "python",
      "name": "python3"
    },
    "language_info": {
      "codemirror_mode": {
        "name": "ipython",
        "version": 3
      },
      "file_extension": ".py",
      "mimetype": "text/x-python",
      "name": "python",
      "nbconvert_exporter": "python",
      "pygments_lexer": "ipython3",
      "version": "3.7.12"
    },
    "papermill": {
      "default_parameters": {},
      "duration": 61.154637,
      "end_time": "2023-02-07T07:37:11.744280",
      "environment_variables": {},
      "exception": null,
      "input_path": "__notebook__.ipynb",
      "output_path": "__notebook__.ipynb",
      "parameters": {},
      "start_time": "2023-02-07T07:36:10.589643",
      "version": "2.3.4"
    },
    "colab": {
      "provenance": [],
      "include_colab_link": true
    }
  },
  "nbformat": 4,
  "nbformat_minor": 5
}